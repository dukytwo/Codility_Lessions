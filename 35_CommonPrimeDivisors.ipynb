{
 "cells": [
  {
   "cell_type": "code",
   "execution_count": null,
   "metadata": {
    "collapsed": true
   },
   "outputs": [],
   "source": [
    "def gcd(a,b):\n",
    "    if a%b != 0:\n",
    "        return gcd(b, a%b)\n",
    "    else:\n",
    "        return b\n",
    "    \n",
    "def if_common_prime_divisor(a,b):\n",
    "\n",
    "    gcd_ab = gcd(a,b)\n",
    "    #print(gcd_ab)\n",
    "    q_a = a/gcd_ab\n",
    "    q_b = b/gcd_ab\n",
    "    #print(q_a, q_b)\n",
    "    \n",
    "    gcd_q = gcd(gcd_ab, q_a)\n",
    "    while (gcd_q != 1):\n",
    "        q_a = q_a/gcd_q\n",
    "        gcd_q = gcd(q_a, gcd_q)\n",
    "        #print (gcd_q)\n",
    "    if q_a == 1:\n",
    "        if_all_a_prime_divisor_in_gcd = True\n",
    "    else:\n",
    "        if_all_a_prime_divisor_in_gcd = False\n",
    "    \n",
    "    gcd_q = gcd(gcd_ab, q_b)\n",
    "    while (gcd_q != 1):\n",
    "        q_b = q_b/gcd_q\n",
    "        gcd_q = gcd(q_b, gcd_q)\n",
    "    if q_b == 1:\n",
    "        if_all_b_prime_divisor_in_gcd = True\n",
    "    else:\n",
    "        if_all_b_prime_divisor_in_gcd = False \n",
    "        \n",
    "    return if_all_a_prime_divisor_in_gcd and if_all_b_prime_divisor_in_gcd"
   ]
  },
  {
   "cell_type": "code",
   "execution_count": null,
   "metadata": {
    "collapsed": true
   },
   "outputs": [],
   "source": [
    "def solution(A, B):\n",
    "    Z = len(A)\n",
    "    \n",
    "    K = 0\n",
    "    for i in range(Z):\n",
    "        if if_common_prime_divisor(A[i],B[i]):\n",
    "            K +=1\n",
    "    #print(A[i], B[i])\n",
    "    return K"
   ]
  }
 ],
 "metadata": {
  "kernelspec": {
   "display_name": "Python 3",
   "language": "python",
   "name": "python3"
  },
  "language_info": {
   "codemirror_mode": {
    "name": "ipython",
    "version": 3
   },
   "file_extension": ".py",
   "mimetype": "text/x-python",
   "name": "python",
   "nbconvert_exporter": "python",
   "pygments_lexer": "ipython3",
   "version": "3.6.1"
  }
 },
 "nbformat": 4,
 "nbformat_minor": 2
}
