{
 "cells": [
  {
   "cell_type": "code",
   "execution_count": null,
   "metadata": {
    "collapsed": true
   },
   "outputs": [],
   "source": [
    "def prefix_count(A, num_to_count):\n",
    "    n = len(A)\n",
    "    P = [0] * (n + 1)\n",
    "\n",
    "    for k in range(1, n + 1):\n",
    "        if A[k - 1] == num_to_count:\n",
    "            P[k] = P[k - 1] + 1\n",
    "        else:\n",
    "            P[k] = P[k - 1]\n",
    "    return P\n",
    "\n",
    "def solution(S, P, Q):\n",
    "#     S = ACGT_to_num(S) \n",
    "    S = list(S)\n",
    "        \n",
    "    p1 = prefix_count(S, 'A')\n",
    "    p2 = prefix_count(S, 'C')\n",
    "    p3 = prefix_count(S, 'G')\n",
    "    p4 = prefix_count(S, 'T')\n",
    "    \n",
    "    M = len(P)\n",
    "    \n",
    "    consecutive_list =[]\n",
    "    \n",
    "    for i in range(M):\n",
    "        start = P[i]\n",
    "        end = Q[i]\n",
    "        \n",
    "        if p1[end+1] - p1[start] != 0:\n",
    "            consecutive_list.append(1)\n",
    "        elif p2[end+1] - p2[start] != 0:\n",
    "                consecutive_list.append(2)\n",
    "        elif p3[end+1] - p3[start] != 0:\n",
    "                    consecutive_list.append(3)\n",
    "        else:\n",
    "            consecutive_list.append(4)\n",
    "    return consecutive_list"
   ]
  }
 ],
 "metadata": {
  "kernelspec": {
   "display_name": "Python 3",
   "language": "python",
   "name": "python3"
  },
  "language_info": {
   "codemirror_mode": {
    "name": "ipython",
    "version": 3
   },
   "file_extension": ".py",
   "mimetype": "text/x-python",
   "name": "python",
   "nbconvert_exporter": "python",
   "pygments_lexer": "ipython3",
   "version": "3.6.1"
  }
 },
 "nbformat": 4,
 "nbformat_minor": 2
}
