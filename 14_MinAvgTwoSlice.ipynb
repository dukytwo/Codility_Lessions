{
 "cells": [
  {
   "cell_type": "code",
   "execution_count": null,
   "metadata": {
    "collapsed": true
   },
   "outputs": [],
   "source": [
    "def prefix_sums(A):\n",
    "    n = len(A)\n",
    "    P = [0] * (n + 1)\n",
    "    for k in range(1, n + 1):\n",
    "        P[k] = P[k - 1] + A[k - 1]\n",
    "    return P\n",
    "\n",
    "def count_total(P, x, y):\n",
    "    return P[y + 1] - P[x]\n",
    "\n",
    "def solution(A):\n",
    "    P = prefix_sums(A)\n",
    "    \n",
    "    N = len(A)\n",
    "    \n",
    "    min_index = 0\n",
    "    min_value = P[2]/2\n",
    "    for i in range(N-1):\n",
    "        if i < N-2:\n",
    "            current_min_value = min(count_total(P, i, i+1)/2, count_total(P, i, i+2)/3)\n",
    "        else:\n",
    "            current_min_value = count_total(P, i, i+1)/2\n",
    "        \n",
    "        if current_min_value < min_value:\n",
    "            min_index = i\n",
    "            min_value = current_min_value\n",
    "        \n",
    "    return min_index"
   ]
  }
 ],
 "metadata": {
  "kernelspec": {
   "display_name": "Python 3",
   "language": "python",
   "name": "python3"
  },
  "language_info": {
   "codemirror_mode": {
    "name": "ipython",
    "version": 3
   },
   "file_extension": ".py",
   "mimetype": "text/x-python",
   "name": "python",
   "nbconvert_exporter": "python",
   "pygments_lexer": "ipython3",
   "version": "3.6.1"
  }
 },
 "nbformat": 4,
 "nbformat_minor": 2
}
