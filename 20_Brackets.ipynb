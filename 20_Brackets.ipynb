{
 "cells": [
  {
   "cell_type": "code",
   "execution_count": null,
   "metadata": {
    "collapsed": true
   },
   "outputs": [],
   "source": [
    "def solution(S):\n",
    "    S = list(S)\n",
    "    N = len(S)\n",
    "    \n",
    "    stack = [0] * N #a real stack\n",
    "    stack_n = 0\n",
    "    \n",
    "    for i in range(N):\n",
    "        if S[i] == '{':\n",
    "            stack_n += 1\n",
    "            stack[stack_n-1] = 1\n",
    "        if S[i] == '[':\n",
    "            stack_n += 1\n",
    "            stack[stack_n-1] = 2\n",
    "        if S[i] == '(':\n",
    "            stack_n += 1\n",
    "            stack[stack_n-1] = 3\n",
    "            \n",
    "        if S[i] == '}':\n",
    "            if stack_n == 0 or stack[stack_n-1] != 1:\n",
    "                return 0\n",
    "            else:\n",
    "                stack_n -= 1                \n",
    "        if S[i] == ']':\n",
    "            if stack_n == 0 or stack[stack_n-1] != 2:\n",
    "                return 0\n",
    "            else:\n",
    "                stack_n -= 1\n",
    "        if S[i] == ')':\n",
    "            if stack_n == 0 or stack[stack_n-1] != 3:\n",
    "                return 0\n",
    "            else:\n",
    "                stack_n -= 1\n",
    "                \n",
    "    return 1 if stack_n == 0 else 0     "
   ]
  }
 ],
 "metadata": {
  "kernelspec": {
   "display_name": "Python 3",
   "language": "python",
   "name": "python3"
  },
  "language_info": {
   "codemirror_mode": {
    "name": "ipython",
    "version": 3
   },
   "file_extension": ".py",
   "mimetype": "text/x-python",
   "name": "python",
   "nbconvert_exporter": "python",
   "pygments_lexer": "ipython3",
   "version": "3.6.1"
  }
 },
 "nbformat": 4,
 "nbformat_minor": 2
}
