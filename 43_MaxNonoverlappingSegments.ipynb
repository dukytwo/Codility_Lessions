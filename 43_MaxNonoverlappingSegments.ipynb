{
 "cells": [
  {
   "cell_type": "code",
   "execution_count": null,
   "metadata": {
    "collapsed": true
   },
   "outputs": [],
   "source": [
    "def solution(A, B):\n",
    "    n = len(A)  \n",
    "    \n",
    "    if n == 0:\n",
    "        return 0    \n",
    "    \n",
    "    count = 1\n",
    "    current_end = B[0]\n",
    "    for i in range(1,n):\n",
    "        if A[i] > current_end:\n",
    "            count += 1\n",
    "            current_end = B[i]\n",
    "            \n",
    "    return count"
   ]
  }
 ],
 "metadata": {
  "kernelspec": {
   "display_name": "Python 3",
   "language": "python",
   "name": "python3"
  },
  "language_info": {
   "codemirror_mode": {
    "name": "ipython",
    "version": 3
   },
   "file_extension": ".py",
   "mimetype": "text/x-python",
   "name": "python",
   "nbconvert_exporter": "python",
   "pygments_lexer": "ipython3",
   "version": "3.6.1"
  }
 },
 "nbformat": 4,
 "nbformat_minor": 2
}
