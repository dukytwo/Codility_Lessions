{
 "cells": [
  {
   "cell_type": "code",
   "execution_count": null,
   "metadata": {
    "collapsed": true
   },
   "outputs": [],
   "source": [
    "def prefix_sums(A):\n",
    "    n = len(A)\n",
    "    P = [0] * (n + 1)\n",
    "    for k in range(1, n + 1):\n",
    "        P[k] = P[k - 1] + A[k - 1]\n",
    "    return P\n",
    "\n",
    "def solution(A):\n",
    "    N = len(A)\n",
    "    p = prefix_sums(A)\n",
    "    num_pairs = 0\n",
    "    \n",
    "    for i in range(N):\n",
    "        if A[i] == 0:\n",
    "            num_pairs_one = p[-1] - p[i+1]\n",
    "            num_pairs = num_pairs + num_pairs_one\n",
    "           \n",
    "    return num_pairs if num_pairs <= 1e9 else -1"
   ]
  }
 ],
 "metadata": {
  "kernelspec": {
   "display_name": "Python 3",
   "language": "python",
   "name": "python3"
  },
  "language_info": {
   "codemirror_mode": {
    "name": "ipython",
    "version": 3
   },
   "file_extension": ".py",
   "mimetype": "text/x-python",
   "name": "python",
   "nbconvert_exporter": "python",
   "pygments_lexer": "ipython3",
   "version": "3.6.1"
  }
 },
 "nbformat": 4,
 "nbformat_minor": 2
}
