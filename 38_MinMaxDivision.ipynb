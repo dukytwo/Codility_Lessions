{
 "cells": [
  {
   "cell_type": "code",
   "execution_count": null,
   "metadata": {
    "collapsed": true
   },
   "outputs": [],
   "source": [
    "def check_n_needed_slices(A, min_large_sum):\n",
    "    N = len(A)\n",
    "    n_needed_slices = 0\n",
    "    current_sum = 0\n",
    "    for i in range(N):\n",
    "        current_sum += A[i]\n",
    "        if i == N-1 or current_sum + A[i+1] > min_large_sum:\n",
    "            n_needed_slices += 1\n",
    "            current_sum = 0\n",
    "       # print(i,current_sum, n_needed_slices)\n",
    "    return n_needed_slices"
   ]
  },
  {
   "cell_type": "code",
   "execution_count": null,
   "metadata": {
    "collapsed": true
   },
   "outputs": [],
   "source": [
    "def solution(K, M, A):\n",
    "    N = len(A)\n",
    "    M = max(A)\n",
    "    \n",
    "    min_large_sum_start  = M\n",
    "    min_large_sum_end  = sum(A)\n",
    "    min_large_sum = 0\n",
    "    \n",
    "    while (min_large_sum_start <= min_large_sum_end):\n",
    "        mid = (min_large_sum_start + min_large_sum_end)//2\n",
    "\n",
    "        if check_n_needed_slices(A, mid) <= K:\n",
    "            min_large_sum_end = mid - 1\n",
    "            min_large_sum = mid\n",
    "        else:\n",
    "            min_large_sum_start = mid + 1\n",
    "            \n",
    "    return min_large_sum"
   ]
  }
 ],
 "metadata": {
  "kernelspec": {
   "display_name": "Python 3",
   "language": "python",
   "name": "python3"
  },
  "language_info": {
   "codemirror_mode": {
    "name": "ipython",
    "version": 3
   },
   "file_extension": ".py",
   "mimetype": "text/x-python",
   "name": "python",
   "nbconvert_exporter": "python",
   "pygments_lexer": "ipython3",
   "version": "3.6.1"
  }
 },
 "nbformat": 4,
 "nbformat_minor": 2
}
