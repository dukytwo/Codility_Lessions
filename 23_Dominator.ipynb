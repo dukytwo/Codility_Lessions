{
 "cells": [
  {
   "cell_type": "code",
   "execution_count": null,
   "metadata": {
    "collapsed": true
   },
   "outputs": [],
   "source": [
    "def solution(A):\n",
    "    N = len(A)\n",
    "    stack_size = 0\n",
    "    top_value = 0\n",
    "    \n",
    "    for i in range(N):\n",
    "        if stack_size == 0:\n",
    "            stack_size +=1\n",
    "            top_value = A[i]\n",
    "        else:\n",
    "            if top_value == A[i]:\n",
    "                stack_size +=1\n",
    "            else:\n",
    "                stack_size -=1\n",
    "        \n",
    "    if stack_size > 0:\n",
    "        candidate = top_value\n",
    "    else:\n",
    "        return -1\n",
    "    \n",
    "    count = 0\n",
    "    index = -1\n",
    "    for i in range(N):\n",
    "        if A[i] == candidate:\n",
    "            count += 1\n",
    "            index = i\n",
    "            \n",
    "    if count > N/2.0:\n",
    "        return index\n",
    "    else:\n",
    "        return -1"
   ]
  }
 ],
 "metadata": {
  "kernelspec": {
   "display_name": "Python 3",
   "language": "python",
   "name": "python3"
  },
  "language_info": {
   "codemirror_mode": {
    "name": "ipython",
    "version": 3
   },
   "file_extension": ".py",
   "mimetype": "text/x-python",
   "name": "python",
   "nbconvert_exporter": "python",
   "pygments_lexer": "ipython3",
   "version": "3.6.1"
  }
 },
 "nbformat": 4,
 "nbformat_minor": 2
}
