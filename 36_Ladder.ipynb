{
 "cells": [
  {
   "cell_type": "code",
   "execution_count": null,
   "metadata": {
    "collapsed": true
   },
   "outputs": [],
   "source": [
    "def fibonacciDynamic(n):\n",
    "    fib = [0] * (n + 1)\n",
    "    fib[1] = 1\n",
    "    for i in range(2, n+1):\n",
    "        fib[i] = fib[i-1] + fib[i-2]\n",
    "    return fib"
   ]
  },
  {
   "cell_type": "code",
   "execution_count": null,
   "metadata": {
    "collapsed": true
   },
   "outputs": [],
   "source": [
    "def solution(A, B):\n",
    "    \n",
    "    L = len(A)\n",
    "    \n",
    "    fib = fibonacciDynamic(L+1)\n",
    "    \n",
    "    mod_list = []\n",
    "    for i in range(L):\n",
    "        stairs = A[i]\n",
    "        n_ways = fib[stairs+1]\n",
    "\n",
    "        mod = n_ways & ((1<<B[i]) - 1)\n",
    "        mod_list += [mod]\n",
    "    \n",
    "    return mod_list"
   ]
  }
 ],
 "metadata": {
  "kernelspec": {
   "display_name": "Python 3",
   "language": "python",
   "name": "python3"
  },
  "language_info": {
   "codemirror_mode": {
    "name": "ipython",
    "version": 3
   },
   "file_extension": ".py",
   "mimetype": "text/x-python",
   "name": "python",
   "nbconvert_exporter": "python",
   "pygments_lexer": "ipython3",
   "version": "3.6.1"
  }
 },
 "nbformat": 4,
 "nbformat_minor": 2
}
