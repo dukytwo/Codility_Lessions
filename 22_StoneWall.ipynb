{
 "cells": [
  {
   "cell_type": "code",
   "execution_count": null,
   "metadata": {
    "collapsed": true
   },
   "outputs": [],
   "source": [
    "def solution(H):\n",
    "    N = len(H)\n",
    "    stack = [0] * N\n",
    "    stack_n = 0\n",
    "    stone_n = 0\n",
    "    \n",
    "    for i in range(N):\n",
    "        if stack_n == 0:\n",
    "            stack_n += 1            \n",
    "            stack[stack_n-1] = H[i]\n",
    "            stone_n += 1\n",
    "        else:\n",
    "            if H[i] > stack[stack_n-1]:\n",
    "                stack_n += 1            \n",
    "                stack[stack_n-1] = H[i]\n",
    "                stone_n += 1\n",
    "            if H[i] < stack[stack_n-1]:\n",
    "                while stack[stack_n-1] > H[i] and stack_n > 0:\n",
    "                    stack_n -= 1\n",
    "                if stack[stack_n-1] < H[i]:\n",
    "                    stack_n += 1            \n",
    "                    stack[stack_n-1] = H[i]\n",
    "                    stone_n += 1\n",
    "    return stone_n"
   ]
  }
 ],
 "metadata": {
  "kernelspec": {
   "display_name": "Python 3",
   "language": "python",
   "name": "python3"
  },
  "language_info": {
   "codemirror_mode": {
    "name": "ipython",
    "version": 3
   },
   "file_extension": ".py",
   "mimetype": "text/x-python",
   "name": "python",
   "nbconvert_exporter": "python",
   "pygments_lexer": "ipython3",
   "version": "3.6.1"
  }
 },
 "nbformat": 4,
 "nbformat_minor": 2
}
