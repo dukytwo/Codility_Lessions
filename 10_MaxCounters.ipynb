{
 "cells": [
  {
   "cell_type": "code",
   "execution_count": null,
   "metadata": {
    "collapsed": true
   },
   "outputs": [],
   "source": [
    "def solution(N, A):\n",
    "    M = len(A)\n",
    "    base_value = 0\n",
    "    max_value = 0\n",
    "    counter = [0] * N\n",
    "    \n",
    "    for i in A:\n",
    "        if i != N+1:\n",
    "            if counter[i-1] < base_value:\n",
    "                counter[i-1] = base_value\n",
    "            counter[i-1] += 1\n",
    "            \n",
    "            if max_value < counter[i-1]:\n",
    "                max_value = counter[i-1] \n",
    "                \n",
    "        if i == N+1:\n",
    "            base_value = max_value\n",
    "            \n",
    "    for i in range(N):\n",
    "        if counter[i] < base_value:\n",
    "            counter[i] = base_value        \n",
    "    return counter"
   ]
  }
 ],
 "metadata": {
  "kernelspec": {
   "display_name": "Python 3",
   "language": "python",
   "name": "python3"
  },
  "language_info": {
   "codemirror_mode": {
    "name": "ipython",
    "version": 3
   },
   "file_extension": ".py",
   "mimetype": "text/x-python",
   "name": "python",
   "nbconvert_exporter": "python",
   "pygments_lexer": "ipython3",
   "version": "3.6.1"
  }
 },
 "nbformat": 4,
 "nbformat_minor": 2
}
