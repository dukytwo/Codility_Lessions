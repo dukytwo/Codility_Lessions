{
 "cells": [
  {
   "cell_type": "code",
   "execution_count": null,
   "metadata": {
    "collapsed": true
   },
   "outputs": [],
   "source": [
    "def find_factors(N):    \n",
    "    factors_1 = []\n",
    "    factors_2 = []\n",
    "    i = 1\n",
    "    while (i * i < N):\n",
    "        if N%i == 0:\n",
    "            factors_1.append(i)\n",
    "            factors_2.append(int(N/i)) \n",
    "        i += 1    \n",
    "    if i * i == N:\n",
    "        factors_1.append(i)        \n",
    "    factors = factors_1 + list(reversed(factors_2))     \n",
    "    return factors\n",
    "\n",
    "def find_peaks(A):\n",
    "    N = len(A)\n",
    "    peaks = [0] * N\n",
    "    n_peaks = 0\n",
    "    for i in range(1,N-1):\n",
    "        if A[i-1] < A[i] and  A[i] > A[i+1]:\n",
    "            peaks[i] = 1\n",
    "            n_peaks += 1\n",
    "    return n_peaks, peaks"
   ]
  },
  {
   "cell_type": "code",
   "execution_count": null,
   "metadata": {
    "collapsed": true
   },
   "outputs": [],
   "source": [
    "def solution(A):\n",
    "    \n",
    "    N = len(A)\n",
    "    \n",
    "    n_peaks, peaks = find_peaks(A)\n",
    "    if n_peaks == 0:\n",
    "        return 0\n",
    "    \n",
    "    max_n_block = 1\n",
    "    possible_K = find_factors(N)[1:]\n",
    "    \n",
    "    for K in possible_K:\n",
    "        n_blocks = int(N/K)\n",
    "        peak_in_all_bloack = 1\n",
    "        \n",
    "        for n in range(n_blocks):\n",
    "            block_peaks = peaks[n*K : (n+1)*K]\n",
    "            \n",
    "            peak_in_all_bloack = min(peak_in_all_bloack, sum(block_peaks))\n",
    "            \n",
    "        if  peak_in_all_bloack == 1:\n",
    "            max_n_block = n_blocks\n",
    "            break\n",
    "        \n",
    "    return max_n_block   "
   ]
  }
 ],
 "metadata": {
  "kernelspec": {
   "display_name": "Python 3",
   "language": "python",
   "name": "python3"
  },
  "language_info": {
   "codemirror_mode": {
    "name": "ipython",
    "version": 3
   },
   "file_extension": ".py",
   "mimetype": "text/x-python",
   "name": "python",
   "nbconvert_exporter": "python",
   "pygments_lexer": "ipython3",
   "version": "3.6.1"
  }
 },
 "nbformat": 4,
 "nbformat_minor": 2
}
