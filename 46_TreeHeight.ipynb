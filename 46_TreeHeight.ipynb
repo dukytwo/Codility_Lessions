{
 "cells": [
  {
   "cell_type": "code",
   "execution_count": null,
   "metadata": {
    "collapsed": true
   },
   "outputs": [],
   "source": [
    "def solution(T):\n",
    "    if T.l == None and T.r == None:\n",
    "        return 0\n",
    "    elif T.l == None:\n",
    "        return 1 + solution(T.r)\n",
    "    elif T.r == None:\n",
    "        return 1 + solution(T.l)\n",
    "    else:\n",
    "        return 1+ max(solution(T.l), solution(T.r))"
   ]
  }
 ],
 "metadata": {
  "kernelspec": {
   "display_name": "Python 3",
   "language": "python",
   "name": "python3"
  },
  "language_info": {
   "codemirror_mode": {
    "name": "ipython",
    "version": 3
   },
   "file_extension": ".py",
   "mimetype": "text/x-python",
   "name": "python",
   "nbconvert_exporter": "python",
   "pygments_lexer": "ipython3",
   "version": "3.6.1"
  }
 },
 "nbformat": 4,
 "nbformat_minor": 2
}
