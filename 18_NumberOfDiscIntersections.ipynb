{
 "cells": [
  {
   "cell_type": "code",
   "execution_count": null,
   "metadata": {
    "collapsed": true
   },
   "outputs": [],
   "source": [
    "def solution(A):\n",
    "    N = len(A)\n",
    "    if N ==0:\n",
    "        return 0\n",
    "    \n",
    "    left = [n-r for n,r in enumerate (A)]\n",
    "    right = [n+r for n,r in enumerate (A)]\n",
    "    \n",
    "    lr = left\n",
    "    lr.extend(right)\n",
    "    \n",
    "    lr01 = [0] * N + [1] *N\n",
    "    \n",
    "    lr01_orderded = [lr01[b[0]] for b in sorted(enumerate(lr),key=lambda i:i[1])]\n",
    "    \n",
    "    lr01_orderded.reverse()\n",
    "    \n",
    "    left_num_current = 0\n",
    "    left_num_total = 0\n",
    "    \n",
    "    for i in range(2*N):\n",
    "        if lr01_orderded[i] == 0:\n",
    "            left_num_current += 1\n",
    "        else:\n",
    "            left_num_total = left_num_total + left_num_current\n",
    "            \n",
    "    result = int(N*(N-1)/2 - left_num_total)\n",
    "    \n",
    "    return result if result <= 1e7 else -1"
   ]
  }
 ],
 "metadata": {
  "kernelspec": {
   "display_name": "Python 3",
   "language": "python",
   "name": "python3"
  },
  "language_info": {
   "codemirror_mode": {
    "name": "ipython",
    "version": 3
   },
   "file_extension": ".py",
   "mimetype": "text/x-python",
   "name": "python",
   "nbconvert_exporter": "python",
   "pygments_lexer": "ipython3",
   "version": "3.6.1"
  }
 },
 "nbformat": 4,
 "nbformat_minor": 2
}
