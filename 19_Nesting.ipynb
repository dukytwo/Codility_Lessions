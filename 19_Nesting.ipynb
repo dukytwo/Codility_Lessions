{
 "cells": [
  {
   "cell_type": "code",
   "execution_count": null,
   "metadata": {
    "collapsed": true
   },
   "outputs": [],
   "source": [
    "def solution(S):\n",
    "    S = list(S)\n",
    "    N = len(S)\n",
    "    c = 0 # do not need a real stack, just the stack size is enough\n",
    "    for i in range(N):\n",
    "        if S[i] == '(':\n",
    "            c += 1\n",
    "        else:\n",
    "            c -= 1\n",
    "            if c < 0: # ')' can not be infront of '('\n",
    "                return 0\n",
    "    #print(c)        \n",
    "    return 1 if c == 0 else 0"
   ]
  }
 ],
 "metadata": {
  "kernelspec": {
   "display_name": "Python 3",
   "language": "python",
   "name": "python3"
  },
  "language_info": {
   "codemirror_mode": {
    "name": "ipython",
    "version": 3
   },
   "file_extension": ".py",
   "mimetype": "text/x-python",
   "name": "python",
   "nbconvert_exporter": "python",
   "pygments_lexer": "ipython3",
   "version": "3.6.1"
  }
 },
 "nbformat": 4,
 "nbformat_minor": 2
}
