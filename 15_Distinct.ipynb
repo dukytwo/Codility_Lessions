{
 "cells": [
  {
   "cell_type": "code",
   "execution_count": null,
   "metadata": {
    "collapsed": true
   },
   "outputs": [],
   "source": [
    "def solution(A):\n",
    "    \n",
    "    N = len(A)\n",
    "    if N == 0:\n",
    "        return 0\n",
    "    \n",
    "    A.sort()    \n",
    "    unique_count = 1\n",
    "    \n",
    "    for i in range(1, N):\n",
    "        if A[i] != A[i-1]:\n",
    "            unique_count += 1\n",
    "        \n",
    "    return  unique_count"
   ]
  }
 ],
 "metadata": {
  "kernelspec": {
   "display_name": "Python 3",
   "language": "python",
   "name": "python3"
  },
  "language_info": {
   "codemirror_mode": {
    "name": "ipython",
    "version": 3
   },
   "file_extension": ".py",
   "mimetype": "text/x-python",
   "name": "python",
   "nbconvert_exporter": "python",
   "pygments_lexer": "ipython3",
   "version": "3.6.1"
  }
 },
 "nbformat": 4,
 "nbformat_minor": 2
}
