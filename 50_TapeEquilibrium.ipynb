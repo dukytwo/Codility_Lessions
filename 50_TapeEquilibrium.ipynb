{
 "cells": [
  {
   "cell_type": "code",
   "execution_count": null,
   "metadata": {
    "collapsed": true
   },
   "outputs": [],
   "source": [
    "def solution(A): \n",
    "    \n",
    "    N = len(A)\n",
    "    sum_dif_list = []\n",
    "    sum_dif = sum(A[1:]) - A[0]\n",
    "    sum_dif_list.append(sum_dif)\n",
    "    \n",
    "    for p in range(2,N):\n",
    "        sum_dif = sum_dif - 2*A[p-1]\n",
    "        sum_dif_list.append(sum_dif)\n",
    "    \n",
    "    sum_dif_list = [abs(i) for i in sum_dif_list]\n",
    "    \n",
    "    return min(sum_dif_list)"
   ]
  }
 ],
 "metadata": {
  "kernelspec": {
   "display_name": "Python 3",
   "language": "python",
   "name": "python3"
  },
  "language_info": {
   "codemirror_mode": {
    "name": "ipython",
    "version": 3
   },
   "file_extension": ".py",
   "mimetype": "text/x-python",
   "name": "python",
   "nbconvert_exporter": "python",
   "pygments_lexer": "ipython3",
   "version": "3.6.1"
  }
 },
 "nbformat": 4,
 "nbformat_minor": 2
}
