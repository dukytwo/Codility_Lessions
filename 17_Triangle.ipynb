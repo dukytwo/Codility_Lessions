{
 "cells": [
  {
   "cell_type": "code",
   "execution_count": null,
   "metadata": {
    "collapsed": true
   },
   "outputs": [],
   "source": [
    "def solution(A):\n",
    "    N = len(A)\n",
    "    triangle_exist = 0\n",
    "    \n",
    "    if N < 3:\n",
    "        triangle_exist = 0\n",
    "    \n",
    "    A.sort(reverse = True)\n",
    "    \n",
    "    for i in range(N-2):\n",
    "        if A[i] < A[i+1] + A[i+2]:\n",
    "            triangle_exist = 1\n",
    "    \n",
    "    return triangle_exist "
   ]
  }
 ],
 "metadata": {
  "kernelspec": {
   "display_name": "Python 3",
   "language": "python",
   "name": "python3"
  },
  "language_info": {
   "codemirror_mode": {
    "name": "ipython",
    "version": 3
   },
   "file_extension": ".py",
   "mimetype": "text/x-python",
   "name": "python",
   "nbconvert_exporter": "python",
   "pygments_lexer": "ipython3",
   "version": "3.6.1"
  }
 },
 "nbformat": 4,
 "nbformat_minor": 2
}
