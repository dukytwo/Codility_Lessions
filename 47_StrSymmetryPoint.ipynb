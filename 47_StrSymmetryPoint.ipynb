{
 "cells": [
  {
   "cell_type": "code",
   "execution_count": null,
   "metadata": {
    "collapsed": true
   },
   "outputs": [],
   "source": [
    "def solution(S):\n",
    "    \n",
    "    s = list(S)\n",
    "    n = len(s)\n",
    "    \n",
    "    if n%2 == 0:\n",
    "        return -1\n",
    "    \n",
    "    mid = n//2\n",
    "    j = 1\n",
    "    while (mid+j < n):\n",
    "        if s[mid-j] != s[mid+j]:            \n",
    "            return -1\n",
    "        j += 1\n",
    "        \n",
    "    return mid"
   ]
  }
 ],
 "metadata": {
  "kernelspec": {
   "display_name": "Python 3",
   "language": "python",
   "name": "python3"
  },
  "language_info": {
   "codemirror_mode": {
    "name": "ipython",
    "version": 3
   },
   "file_extension": ".py",
   "mimetype": "text/x-python",
   "name": "python",
   "nbconvert_exporter": "python",
   "pygments_lexer": "ipython3",
   "version": "3.6.1"
  }
 },
 "nbformat": 4,
 "nbformat_minor": 2
}
