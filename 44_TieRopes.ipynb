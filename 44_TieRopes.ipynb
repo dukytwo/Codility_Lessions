{
 "cells": [
  {
   "cell_type": "code",
   "execution_count": null,
   "metadata": {
    "collapsed": true
   },
   "outputs": [],
   "source": [
    "def solution(K, A):\n",
    "    n = len(A)\n",
    "    \n",
    "    current_sum = 0\n",
    "    count = 0\n",
    "    for i in range(n):\n",
    "        #print('before', i, current_sum, count)\n",
    "        if current_sum < K:\n",
    "            current_sum += A[i]\n",
    "        else:\n",
    "            count += 1\n",
    "            current_sum = 0\n",
    "            current_sum += A[i]\n",
    "        #print('after', i, current_sum, count)\n",
    "    if current_sum >= K:\n",
    "        count += 1\n",
    "    return count        "
   ]
  }
 ],
 "metadata": {
  "kernelspec": {
   "display_name": "Python 3",
   "language": "python",
   "name": "python3"
  },
  "language_info": {
   "codemirror_mode": {
    "name": "ipython",
    "version": 3
   },
   "file_extension": ".py",
   "mimetype": "text/x-python",
   "name": "python",
   "nbconvert_exporter": "python",
   "pygments_lexer": "ipython3",
   "version": "3.6.1"
  }
 },
 "nbformat": 4,
 "nbformat_minor": 2
}
