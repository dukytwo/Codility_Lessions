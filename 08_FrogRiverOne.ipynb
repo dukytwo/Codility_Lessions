{
 "cells": [
  {
   "cell_type": "code",
   "execution_count": null,
   "metadata": {
    "collapsed": true
   },
   "outputs": [],
   "source": [
    "def solution(X, A):\n",
    "    N = len(A)\n",
    "    exit_count = [0] * X    \n",
    "    n_covered = 0\n",
    "    \n",
    "    for i in range(N):\n",
    "        number = A[i]\n",
    "        if exit_count[number-1] == 0:\n",
    "            n_covered += 1\n",
    "            if n_covered == X:\n",
    "                return i\n",
    "        exit_count[number-1] += 1\n",
    "    return -1"
   ]
  }
 ],
 "metadata": {
  "kernelspec": {
   "display_name": "Python 3",
   "language": "python",
   "name": "python3"
  },
  "language_info": {
   "codemirror_mode": {
    "name": "ipython",
    "version": 3
   },
   "file_extension": ".py",
   "mimetype": "text/x-python",
   "name": "python",
   "nbconvert_exporter": "python",
   "pygments_lexer": "ipython3",
   "version": "3.6.1"
  }
 },
 "nbformat": 4,
 "nbformat_minor": 2
}
