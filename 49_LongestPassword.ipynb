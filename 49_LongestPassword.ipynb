{
 "cells": [
  {
   "cell_type": "code",
   "execution_count": null,
   "metadata": {
    "collapsed": true
   },
   "outputs": [],
   "source": [
    "def solution(S):\n",
    "    s_list = S.split(' ')\n",
    "    max_len = -1\n",
    "    for s in s_list:\n",
    "        n_total = len(s)\n",
    "        n_digit = len([c for c in s if c.isdigit()])\n",
    "        n_letter = len([c for c in s if c.isalpha()])\n",
    "        n_non_digit_letter = n_total - n_digit - n_letter\n",
    "        \n",
    "        if n_digit%2 == 1 and n_letter%2 == 0 and n_non_digit_letter == 0:\n",
    "            max_len = max(max_len, n_total)\n",
    "            \n",
    "    return max_len    "
   ]
  }
 ],
 "metadata": {
  "kernelspec": {
   "display_name": "Python 3",
   "language": "python",
   "name": "python3"
  },
  "language_info": {
   "codemirror_mode": {
    "name": "ipython",
    "version": 3
   },
   "file_extension": ".py",
   "mimetype": "text/x-python",
   "name": "python",
   "nbconvert_exporter": "python",
   "pygments_lexer": "ipython3",
   "version": "3.6.1"
  }
 },
 "nbformat": 4,
 "nbformat_minor": 2
}
