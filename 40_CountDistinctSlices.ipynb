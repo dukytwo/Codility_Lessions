{
 "cells": [
  {
   "cell_type": "code",
   "execution_count": null,
   "metadata": {
    "collapsed": true
   },
   "outputs": [],
   "source": [
    "def solution(M, A):\n",
    "    n = len(A)\n",
    "    exist_list = [0] * (M + 1)\n",
    "    \n",
    "    back = 0\n",
    "    front = 0\n",
    "    count = 0\n",
    "    for back in range (n):\n",
    "        if(front < back):\n",
    "            front = back\n",
    "        while (front < n and exist_list[A[front]] == 0):\n",
    "            count += front - back + 1          \n",
    "            exist_list[A[front]] = 1\n",
    "            \n",
    "            front += 1\n",
    "        exist_list[A[back]] = 0\n",
    "        \n",
    "    return count if count < 1000000000 else 1000000000"
   ]
  }
 ],
 "metadata": {
  "kernelspec": {
   "display_name": "Python 3",
   "language": "python",
   "name": "python3"
  },
  "language_info": {
   "codemirror_mode": {
    "name": "ipython",
    "version": 3
   },
   "file_extension": ".py",
   "mimetype": "text/x-python",
   "name": "python",
   "nbconvert_exporter": "python",
   "pygments_lexer": "ipython3",
   "version": "3.6.1"
  }
 },
 "nbformat": 4,
 "nbformat_minor": 2
}
