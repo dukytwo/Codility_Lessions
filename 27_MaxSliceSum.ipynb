{
 "cells": [
  {
   "cell_type": "code",
   "execution_count": null,
   "metadata": {
    "collapsed": true
   },
   "outputs": [],
   "source": [
    "def solution(A):\n",
    "    \n",
    "    if all(a < 0 for a in A):\n",
    "        return max(A)\n",
    "    \n",
    "    else:\n",
    "        max_sum_at_ending = 0\n",
    "        max_sum_all_slices = 0\n",
    "\n",
    "        N = len(A)\n",
    "\n",
    "        if N == 0:\n",
    "            return 0\n",
    "\n",
    "        for i in A:\n",
    "            max_sum_at_ending = max(0, max_sum_at_ending + i)\n",
    "            max_sum_all_slices = max(max_sum_all_slices, max_sum_at_ending)\n",
    "        \n",
    "    return max_sum_all_slices"
   ]
  }
 ],
 "metadata": {
  "kernelspec": {
   "display_name": "Python 3",
   "language": "python",
   "name": "python3"
  },
  "language_info": {
   "codemirror_mode": {
    "name": "ipython",
    "version": 3
   },
   "file_extension": ".py",
   "mimetype": "text/x-python",
   "name": "python",
   "nbconvert_exporter": "python",
   "pygments_lexer": "ipython3",
   "version": "3.6.1"
  }
 },
 "nbformat": 4,
 "nbformat_minor": 2
}
