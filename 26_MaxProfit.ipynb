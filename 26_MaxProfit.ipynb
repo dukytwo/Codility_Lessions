{
 "cells": [
  {
   "cell_type": "code",
   "execution_count": null,
   "metadata": {
    "collapsed": true
   },
   "outputs": [],
   "source": [
    "def solution(A):\n",
    "    max_sum_at_ending = 0\n",
    "    max_sum_all_slices = 0\n",
    "    \n",
    "    N = len(A)\n",
    "    \n",
    "    if N < 2:\n",
    "        return 0\n",
    "    \n",
    "    for i in range(1,N):\n",
    "        dif = A[i] - A[i-1]\n",
    "        max_sum_at_ending = max(0, max_sum_at_ending + dif)\n",
    "        max_sum_all_slices = max(max_sum_all_slices, max_sum_at_ending)\n",
    "        #print (dif, max_sum_at_ending, max_sum_all_slices)\n",
    "        \n",
    "    return max_sum_all_slices"
   ]
  }
 ],
 "metadata": {
  "kernelspec": {
   "display_name": "Python 3",
   "language": "python",
   "name": "python3"
  },
  "language_info": {
   "codemirror_mode": {
    "name": "ipython",
    "version": 3
   },
   "file_extension": ".py",
   "mimetype": "text/x-python",
   "name": "python",
   "nbconvert_exporter": "python",
   "pygments_lexer": "ipython3",
   "version": "3.6.1"
  }
 },
 "nbformat": 4,
 "nbformat_minor": 2
}
