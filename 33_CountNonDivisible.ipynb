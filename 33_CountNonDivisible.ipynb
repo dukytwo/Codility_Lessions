{
 "cells": [
  {
   "cell_type": "code",
   "execution_count": null,
   "metadata": {
    "collapsed": true
   },
   "outputs": [],
   "source": [
    "def solution(A):\n",
    "  \n",
    "    A_max = max(A)\n",
    "  \n",
    "    count = {}\n",
    "    for element in A:\n",
    "        if element not in count:\n",
    "            count[element] = 1\n",
    "        else:\n",
    "            count[element] += 1\n",
    "  \n",
    "    divisors = {}\n",
    "    for element in A:\n",
    "        divisors[element] = set([1, element])\n",
    "  \n",
    "    divisor = 2\n",
    "    while divisor*divisor <= A_max:\n",
    "        element_candidate = divisor\n",
    "        while element_candidate  <= A_max:\n",
    "            if element_candidate in divisors and not divisor in divisors[element_candidate]:\n",
    "                divisors[element_candidate].add(divisor)\n",
    "                divisors[element_candidate].add(element_candidate//divisor)\n",
    "            element_candidate += divisor\n",
    "        divisor += 1\n",
    "  \n",
    "    result = [0] * len(A)\n",
    "    for idx, element in enumerate(A):\n",
    "        result[idx] = (len(A)-sum([count.get(divisor,0) for divisor in divisors[element]]))\n",
    "  \n",
    "    return result"
   ]
  }
 ],
 "metadata": {
  "kernelspec": {
   "display_name": "Python 3",
   "language": "python",
   "name": "python3"
  },
  "language_info": {
   "codemirror_mode": {
    "name": "ipython",
    "version": 3
   },
   "file_extension": ".py",
   "mimetype": "text/x-python",
   "name": "python",
   "nbconvert_exporter": "python",
   "pygments_lexer": "ipython3",
   "version": "3.6.1"
  }
 },
 "nbformat": 4,
 "nbformat_minor": 2
}
