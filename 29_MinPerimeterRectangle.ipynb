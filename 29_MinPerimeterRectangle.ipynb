{
 "cells": [
  {
   "cell_type": "code",
   "execution_count": null,
   "metadata": {
    "collapsed": true
   },
   "outputs": [],
   "source": [
    "def solution(N):\n",
    "    \n",
    "    i = 1\n",
    "    max_factor = 1\n",
    "    while (i * i < N):\n",
    "        if N%i == 0:\n",
    "            max_factor = i\n",
    "        i += 1\n",
    "    \n",
    "    if i * i == N:\n",
    "        max_factor = i\n",
    "    \n",
    "    a = max_factor\n",
    "    b= N/a\n",
    "    \n",
    "    return int(2*(a+b))"
   ]
  }
 ],
 "metadata": {
  "kernelspec": {
   "display_name": "Python 3",
   "language": "python",
   "name": "python3"
  },
  "language_info": {
   "codemirror_mode": {
    "name": "ipython",
    "version": 3
   },
   "file_extension": ".py",
   "mimetype": "text/x-python",
   "name": "python",
   "nbconvert_exporter": "python",
   "pygments_lexer": "ipython3",
   "version": "3.6.1"
  }
 },
 "nbformat": 4,
 "nbformat_minor": 2
}
