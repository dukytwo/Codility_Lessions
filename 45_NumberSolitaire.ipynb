{
 "cells": [
  {
   "cell_type": "code",
   "execution_count": null,
   "metadata": {
    "collapsed": true
   },
   "outputs": [],
   "source": [
    "def solution(A):\n",
    "    S = [1,2,3,4,5,6]\n",
    "    m = len(S)\n",
    "    n = len(A)\n",
    "    \n",
    "    dp = [-10000*n] * n\n",
    "    dp[0] = A[0]\n",
    "    for i in range(1, n):\n",
    "        for j in range(m):\n",
    "            if S[j] <= i:\n",
    "                dp[i]= max(dp[i], dp[i-S[j]] + A[i])\n",
    "    \n",
    "    return dp[n-1]"
   ]
  }
 ],
 "metadata": {
  "kernelspec": {
   "display_name": "Python 3",
   "language": "python",
   "name": "python3"
  },
  "language_info": {
   "codemirror_mode": {
    "name": "ipython",
    "version": 3
   },
   "file_extension": ".py",
   "mimetype": "text/x-python",
   "name": "python",
   "nbconvert_exporter": "python",
   "pygments_lexer": "ipython3",
   "version": "3.6.1"
  }
 },
 "nbformat": 4,
 "nbformat_minor": 2
}
