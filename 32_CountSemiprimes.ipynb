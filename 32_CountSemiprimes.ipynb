{
 "cells": [
  {
   "cell_type": "code",
   "execution_count": null,
   "metadata": {
    "collapsed": true
   },
   "outputs": [],
   "source": [
    "def arrayF(n):\n",
    "    F = [0] * (n + 1)\n",
    "    i=2\n",
    "    while (i * i <= n):\n",
    "        if (F[i] == 0):\n",
    "            k=i * i\n",
    "            while (k <= n):\n",
    "                if (F[k] == 0):\n",
    "                    F[k] = i;\n",
    "                k += i\n",
    "        i += 1\n",
    "    return F\n",
    "\n",
    "def if_semiprime(x, F):\n",
    "    prime_factor_count = 0\n",
    "    while (F[x] > 0):\n",
    "        prime_factor_count += 1\n",
    "        if prime_factor_count > 1:\n",
    "            break\n",
    "        x = int(x/F[x])\n",
    "        #print(prime_factor_count)\n",
    "    prime_factor_count += 1\n",
    "    return 1 if prime_factor_count == 2 else 0\n",
    "\n",
    "def prefix_sums(A):\n",
    "    n = len(A)\n",
    "    P = [0] * (n + 1)\n",
    "    for k in range(1, n + 1):\n",
    "        P[k] = P[k - 1] + A[k - 1]\n",
    "    return P"
   ]
  },
  {
   "cell_type": "code",
   "execution_count": null,
   "metadata": {
    "collapsed": true
   },
   "outputs": [],
   "source": [
    "def solution(N, P, Q):\n",
    "    M = len(P)\n",
    "    \n",
    "    F = arrayF(N)\n",
    "    is_semiprime_list = [0] * N\n",
    "    for i in range(N):\n",
    "        is_semiprime_list[i] = if_semiprime(i+1, F)\n",
    "    \n",
    "    prefix_sums_list = prefix_sums(is_semiprime_list)\n",
    "     \n",
    "    n_semiprime_list = []\n",
    "    for i in range(M):\n",
    "        start = P[i]\n",
    "        end = Q[i]\n",
    "        n_semiprime = prefix_sums_list[end] - prefix_sums_list[start-1]\n",
    "        \n",
    "        n_semiprime_list += [n_semiprime]\n",
    "    \n",
    "    return n_semiprime_list"
   ]
  }
 ],
 "metadata": {
  "kernelspec": {
   "display_name": "Python 3",
   "language": "python",
   "name": "python3"
  },
  "language_info": {
   "codemirror_mode": {
    "name": "ipython",
    "version": 3
   },
   "file_extension": ".py",
   "mimetype": "text/x-python",
   "name": "python",
   "nbconvert_exporter": "python",
   "pygments_lexer": "ipython3",
   "version": "3.6.1"
  }
 },
 "nbformat": 4,
 "nbformat_minor": 2
}
