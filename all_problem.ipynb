{
 "cells": [
  {
   "cell_type": "markdown",
   "metadata": {},
   "source": [
    "# <font color='red'>demo test</font>"
   ]
  },
  {
   "cell_type": "markdown",
   "metadata": {},
   "source": [
    "## Prefix-Set\n",
    "\n",
    "Given an integer array A, return the smallest index P such that the subarray [0,P] includes all the elements from the whole array A."
   ]
  },
  {
   "cell_type": "raw",
   "metadata": {},
   "source": [
    "A non-empty array A consisting of N integers is given. The first covering prefix of array A is the smallest integer P such that 0≤P<N and such that every value that occurs in array A also occurs in sequence A[0], A[1], ..., A[P].\n",
    "\n",
    "For example, the first covering prefix of the following 5−element array A:\n",
    "\n",
    "  A[0] = 2\n",
    "  A[1] = 2\n",
    "  A[2] = 1\n",
    "  A[3] = 0\n",
    "  A[4] = 1\n",
    "is 3, because sequence [ A[0], A[1], A[2], A[3] ] equal to [2, 2, 1, 0], contains all values that occur in array A.\n",
    "\n",
    "Write a function\n",
    "\n",
    "def solution(A)\n",
    "\n",
    "that, given a non-empty array A consisting of N integers, returns the first covering prefix of A.\n",
    "\n",
    "For example, given array A such that\n",
    "\n",
    "  A[0] = 2\n",
    "  A[1] = 2\n",
    "  A[2] = 1\n",
    "  A[3] = 0\n",
    "  A[4] = 1\n",
    "the function should return 3, as explained above.\n",
    "\n",
    "Assume that:\n",
    "\n",
    "N is an integer within the range [1..1,000,000];\n",
    "each element of array A is an integer within the range [0..N−1].\n",
    "Complexity:\n",
    "\n",
    "expected worst-case time complexity is O(N);\n",
    "expected worst-case space complexity is O(N) (not counting the storage required for input arguments)."
   ]
  },
  {
   "cell_type": "code",
   "execution_count": 115,
   "metadata": {
    "collapsed": true
   },
   "outputs": [],
   "source": [
    "def solution(A):\n",
    "    max_value = max(A)\n",
    "    \n",
    "    unique_list = [0] * (max_value + 1) \n",
    "    \n",
    "    count_list = []\n",
    "    for i in A:\n",
    "        if unique_list[i] == 1:\n",
    "            count_list.append(1)            \n",
    "        else:\n",
    "            count_list.append(0)\n",
    "        unique_list[i] = 1\n",
    "        \n",
    "        \n",
    "    return len(count_list) - list(reversed(count_list)).index(0) -1"
   ]
  },
  {
   "cell_type": "code",
   "execution_count": 116,
   "metadata": {},
   "outputs": [
    {
     "data": {
      "text/plain": [
       "2"
      ]
     },
     "execution_count": 116,
     "metadata": {},
     "output_type": "execute_result"
    }
   ],
   "source": [
    "A = [1,2,3,1,2]\n",
    "solution(A)"
   ]
  },
  {
   "cell_type": "markdown",
   "metadata": {},
   "source": [
    "### official solution"
   ]
  },
  {
   "cell_type": "code",
   "execution_count": 15,
   "metadata": {
    "collapsed": true
   },
   "outputs": [],
   "source": [
    "def prefixSetGolden(A):\n",
    "    n = len(A)\n",
    "    occur = [False] * n #each element of array A is an integer within the range [0..N−1]\n",
    "    for i in range(n):\n",
    "        if (occur[A[i]] == False):\n",
    "            occur[A[i]] = True\n",
    "            result = i\n",
    "    print(occur)\n",
    "    return result"
   ]
  },
  {
   "cell_type": "code",
   "execution_count": 16,
   "metadata": {},
   "outputs": [
    {
     "name": "stdout",
     "output_type": "stream",
     "text": [
      "[False, True, True, True, False]\n"
     ]
    },
    {
     "data": {
      "text/plain": [
       "2"
      ]
     },
     "execution_count": 16,
     "metadata": {},
     "output_type": "execute_result"
    }
   ],
   "source": [
    "A = [1,2,3,1,2]\n",
    "prefixSetGolden(A)"
   ]
  },
  {
   "cell_type": "code",
   "execution_count": null,
   "metadata": {
    "collapsed": true
   },
   "outputs": [],
   "source": []
  },
  {
   "cell_type": "markdown",
   "metadata": {},
   "source": [
    "# <font color='red'>Lesson 1: Iterations</font>"
   ]
  },
  {
   "cell_type": "markdown",
   "metadata": {},
   "source": [
    "## BinaryGap\n",
    "A binary gap within a positive integer N is any maximal sequence of consecutive zeros that is surrounded by ones at both ends in the binary representation of N.\n",
    "\n",
    "For example, number 9 has binary representation 1001 and contains a binary gap of length 2. The number 529 has binary representation 1000010001 and contains two binary gaps: one of length 4 and one of length 3. The number 20 has binary representation 10100 and contains one binary gap of length 1. The number 15 has binary representation 1111 and has no binary gaps. The number 32 has binary representation 100000 and has no binary gaps.\n",
    "\n",
    "Write a function:\n",
    "\n",
    "int solution(int N);\n",
    "\n",
    "that, given a positive integer N, returns the length of its longest binary gap. The function should return 0 if N doesn't contain a binary gap.\n",
    "\n",
    "For example, given N = 1041 the function should return 5, because N has binary representation 10000010001 and so its longest binary gap is of length 5. Given N = 32 the function should return 0, because N has binary representation '100000' and thus no binary gaps.\n",
    "\n",
    "Assume that:\n",
    "\n",
    "N is an integer within the range [1..2,147,483,647].\n",
    "Complexity:\n",
    "\n",
    "expected worst-case time complexity is O(log(N));\n",
    "expected worst-case space complexity is O(1)."
   ]
  },
  {
   "cell_type": "code",
   "execution_count": 17,
   "metadata": {
    "collapsed": true
   },
   "outputs": [],
   "source": [
    "def solution(N):\n",
    "    binary_gap = 0\n",
    "    bin_str_list = list(bin(N))[2:]\n",
    "    one_indices = [i for i, x in enumerate(bin_str_list) if x == \"1\"]\n",
    "    if len(one_indices) == 1:\n",
    "        return binary_gap\n",
    "        \n",
    "    binary_gap_list = []\n",
    "    for i in range(len(one_indices)-1):\n",
    "        binary_gap = one_indices[i+1] - one_indices[i] -1\n",
    "        binary_gap_list += [binary_gap]\n",
    "                \n",
    "    return max(binary_gap_list)"
   ]
  },
  {
   "cell_type": "code",
   "execution_count": 18,
   "metadata": {},
   "outputs": [
    {
     "data": {
      "text/plain": [
       "5"
      ]
     },
     "execution_count": 18,
     "metadata": {},
     "output_type": "execute_result"
    }
   ],
   "source": [
    "solution(1041)"
   ]
  },
  {
   "cell_type": "code",
   "execution_count": null,
   "metadata": {
    "collapsed": true
   },
   "outputs": [],
   "source": []
  },
  {
   "cell_type": "markdown",
   "metadata": {},
   "source": [
    "# <font color='red'>Lesson 2: Arrays</font>"
   ]
  },
  {
   "cell_type": "markdown",
   "metadata": {},
   "source": [
    "## CyclicRotation\n",
    "An array A consisting of N integers is given. Rotation of the array means that each element is shifted right by one index, and the last element of the array is moved to the first place. For example, the rotation of array A = [3, 8, 9, 7, 6] is [6, 3, 8, 9, 7] (elements are shifted right by one index and 6 is moved to the first place).\n",
    "\n",
    "The goal is to rotate array A K times; that is, each element of A will be shifted to the right K times.\n",
    "\n",
    "Write a function:\n",
    "\n",
    "def solution(A, K)\n",
    "\n",
    "that, given an array A consisting of N integers and an integer K, returns the array A rotated K times.\n",
    "\n",
    "For example, given\n",
    "\n",
    "    A = [3, 8, 9, 7, 6]\n",
    "    K = 3\n",
    "the function should return [9, 7, 6, 3, 8]. Three rotations were made:\n",
    "\n",
    "    [3, 8, 9, 7, 6] -> [6, 3, 8, 9, 7]\n",
    "    [6, 3, 8, 9, 7] -> [7, 6, 3, 8, 9]\n",
    "    [7, 6, 3, 8, 9] -> [9, 7, 6, 3, 8]\n",
    "For another example, given\n",
    "\n",
    "    A = [0, 0, 0]\n",
    "    K = 1\n",
    "the function should return [0, 0, 0]\n",
    "\n",
    "Given\n",
    "\n",
    "    A = [1, 2, 3, 4]\n",
    "    K = 4\n",
    "the function should return [1, 2, 3, 4]\n",
    "\n",
    "Assume that:\n",
    "\n",
    "N and K are integers within the range [0..100];\n",
    "each element of array A is an integer within the range [−1,000..1,000].\n",
    "In your solution, focus on correctness. The performance of your solution will not be the focus of the assessment."
   ]
  },
  {
   "cell_type": "code",
   "execution_count": 162,
   "metadata": {
    "collapsed": true
   },
   "outputs": [],
   "source": [
    "# O(n2)\n",
    "def solution(A, K):\n",
    "       \n",
    "    lenth = len(A)\n",
    "    if lenth == 0:\n",
    "        return []\n",
    "    \n",
    "    for i in range(K):\n",
    "        A_shift = [0] * lenth\n",
    "        A_shift[0] = A[lenth-1]\n",
    "        for i in range(1, lenth):\n",
    "            A_shift[i] = A[i-1]\n",
    "        A = A_shift\n",
    "    return A"
   ]
  },
  {
   "cell_type": "code",
   "execution_count": 19,
   "metadata": {
    "collapsed": true
   },
   "outputs": [],
   "source": [
    "def solution(A, K):\n",
    "    \n",
    "    lenth = len(A)\n",
    "    if lenth == 0:\n",
    "        return A\n",
    "    \n",
    "    A_shift = [0] * lenth\n",
    "    for i in range(lenth):\n",
    "        A_shift[(i + K)%lenth] = A[i]\n",
    "       \n",
    "    return A_shift"
   ]
  },
  {
   "cell_type": "code",
   "execution_count": 20,
   "metadata": {},
   "outputs": [
    {
     "data": {
      "text/plain": [
       "[9, 7, 6, 3, 8]"
      ]
     },
     "execution_count": 20,
     "metadata": {},
     "output_type": "execute_result"
    }
   ],
   "source": [
    "solution([3, 8, 9, 7, 6], 3)"
   ]
  },
  {
   "cell_type": "code",
   "execution_count": 21,
   "metadata": {},
   "outputs": [
    {
     "data": {
      "text/plain": [
       "[]"
      ]
     },
     "execution_count": 21,
     "metadata": {},
     "output_type": "execute_result"
    }
   ],
   "source": [
    "solution([], 3)"
   ]
  },
  {
   "cell_type": "markdown",
   "metadata": {},
   "source": [
    "### more simple solution"
   ]
  },
  {
   "cell_type": "code",
   "execution_count": null,
   "metadata": {
    "collapsed": true
   },
   "outputs": [],
   "source": [
    "def solution(A, K):\n",
    "    # write your code in Python 2.7\n",
    "    if len(A) == 0:\n",
    "        return A\n",
    "    \n",
    "    K = K % len(A)\n",
    "    return A[-K:] + A[:-K]"
   ]
  },
  {
   "cell_type": "code",
   "execution_count": null,
   "metadata": {
    "collapsed": true
   },
   "outputs": [],
   "source": []
  },
  {
   "cell_type": "markdown",
   "metadata": {},
   "source": [
    "##  OddOccurrencesInArray\n",
    "A non-empty array A consisting of N integers is given. The array contains an odd number of elements, and each element of the array can be paired with another element that has the same value, except for one element that is left unpaired.\n",
    "\n",
    "For example, in array A such that:\n",
    "\n",
    "  A[0] = 9  A[1] = 3  A[2] = 9\n",
    "  A[3] = 3  A[4] = 9  A[5] = 7\n",
    "  A[6] = 9\n",
    "the elements at indexes 0 and 2 have value 9,\n",
    "the elements at indexes 1 and 3 have value 3,\n",
    "the elements at indexes 4 and 6 have value 9,\n",
    "the element at index 5 has value 7 and is unpaired.\n",
    "Write a function:\n",
    "\n",
    "int solution(int A[], int N);\n",
    "\n",
    "that, given an array A consisting of N integers fulfilling the above conditions, returns the value of the unpaired element.\n",
    "\n",
    "For example, given array A such that:\n",
    "\n",
    "  A[0] = 9  A[1] = 3  A[2] = 9\n",
    "  A[3] = 3  A[4] = 9  A[5] = 7\n",
    "  A[6] = 9\n",
    "the function should return 7, as explained in the example above.\n",
    "\n",
    "Assume that:\n",
    "\n",
    "N is an odd integer within the range [1..1,000,000];\n",
    "each element of array A is an integer within the range [1..1,000,000,000];\n",
    "all but one of the values in A occur an even number of times.\n",
    "Complexity:\n",
    "\n",
    "expected worst-case time complexity is O(N);\n",
    "expected worst-case space complexity is O(1) (not counting the storage required for input arguments)."
   ]
  },
  {
   "cell_type": "code",
   "execution_count": 27,
   "metadata": {
    "collapsed": true
   },
   "outputs": [],
   "source": [
    "def solution(A):\n",
    "    num_count = {}\n",
    "    for i in A:\n",
    "        if str(i) in num_count.keys():\n",
    "            num_count[str(i)] += 1\n",
    "        else:\n",
    "            num_count[str(i)] = 1\n",
    "    for num in num_count.keys():\n",
    "        if num_count[num]%2 != 0:\n",
    "            return int(num)"
   ]
  },
  {
   "cell_type": "code",
   "execution_count": 28,
   "metadata": {},
   "outputs": [
    {
     "data": {
      "text/plain": [
       "7"
      ]
     },
     "execution_count": 28,
     "metadata": {},
     "output_type": "execute_result"
    }
   ],
   "source": [
    "A = [9, 3, 9, 3, 9, 7, 9] # should return 7\n",
    "solution(A)"
   ]
  },
  {
   "cell_type": "markdown",
   "metadata": {
    "collapsed": true
   },
   "source": [
    "### use python dictionary"
   ]
  },
  {
   "cell_type": "code",
   "execution_count": 22,
   "metadata": {},
   "outputs": [
    {
     "data": {
      "text/plain": [
       "7"
      ]
     },
     "execution_count": 22,
     "metadata": {},
     "output_type": "execute_result"
    }
   ],
   "source": [
    "def SingleElement(A):\n",
    "    # find the single element that is unpaired\n",
    "    # all other elements have a pair except for one\n",
    "    d = {}\n",
    "    for i in A:\n",
    "        if i in d:\n",
    "            d.pop(i, None)\n",
    "        else:\n",
    "            d[i]=1\n",
    "    return list(d.keys())[0]\n",
    " \n",
    "A = [9, 3, 9, 3, 9, 7, 9] # should return 7\n",
    "SingleElement(A)"
   ]
  },
  {
   "cell_type": "markdown",
   "metadata": {},
   "source": [
    "### more simple solution"
   ]
  },
  {
   "cell_type": "code",
   "execution_count": 24,
   "metadata": {
    "collapsed": true
   },
   "outputs": [],
   "source": [
    "def solution(A):\n",
    "    result = 0\n",
    "    for number in A:\n",
    "        result ^= number\n",
    " \n",
    "    return result"
   ]
  },
  {
   "cell_type": "code",
   "execution_count": 25,
   "metadata": {},
   "outputs": [
    {
     "data": {
      "text/plain": [
       "7"
      ]
     },
     "execution_count": 25,
     "metadata": {},
     "output_type": "execute_result"
    }
   ],
   "source": [
    "A = [9, 3, 9, 3, 9, 7, 9] # should return 7\n",
    "solution(A)"
   ]
  },
  {
   "cell_type": "code",
   "execution_count": null,
   "metadata": {
    "collapsed": true
   },
   "outputs": [],
   "source": []
  },
  {
   "cell_type": "markdown",
   "metadata": {},
   "source": [
    "# <font color='red'>Lesson 3: Time Complexity</font>"
   ]
  },
  {
   "cell_type": "markdown",
   "metadata": {},
   "source": [
    "## FrogJmp\n",
    "\n",
    " small frog wants to get to the other side of the road. The frog is currently located at position X and wants to get to a position greater than or equal to Y. The small frog always jumps a fixed distance, D.\n",
    "\n",
    "Count the minimal number of jumps that the small frog must perform to reach its target.\n",
    "\n",
    "Write a function:\n",
    "\n",
    "int solution(int X, int Y, int D);\n",
    "\n",
    "that, given three integers X, Y and D, returns the minimal number of jumps from position X to a position equal to or greater than Y.\n",
    "\n",
    "For example, given:\n",
    "\n",
    "  X = 10\n",
    "  Y = 85\n",
    "  D = 30\n",
    "the function should return 3, because the frog will be positioned as follows:\n",
    "\n",
    "after the first jump, at position 10 + 30 = 40\n",
    "after the second jump, at position 10 + 30 + 30 = 70\n",
    "after the third jump, at position 10 + 30 + 30 + 30 = 100\n",
    "Assume that:\n",
    "\n",
    "X, Y and D are integers within the range [1..1,000,000,000];\n",
    "X ≤ Y.\n",
    "Complexity:\n",
    "\n",
    "expected worst-case time complexity is O(1);\n",
    "expected worst-case space complexity is O(1)."
   ]
  },
  {
   "cell_type": "code",
   "execution_count": 181,
   "metadata": {
    "collapsed": true
   },
   "outputs": [],
   "source": [
    "def solution(X, Y, D):\n",
    "    step = (Y - X )/float(D)\n",
    "    if step == int (step):\n",
    "        return int(step)\n",
    "    else:\n",
    "        return int(step + 1)"
   ]
  },
  {
   "cell_type": "markdown",
   "metadata": {},
   "source": [
    "### more readable solution"
   ]
  },
  {
   "cell_type": "code",
   "execution_count": null,
   "metadata": {
    "collapsed": true
   },
   "outputs": [],
   "source": [
    "def solution(X, Y, D):\n",
    "    distance = Y - X\n",
    "    if distance % D == 0:\n",
    "        return distance//D\n",
    "    else:\n",
    "        return distance//D + 1"
   ]
  },
  {
   "cell_type": "code",
   "execution_count": null,
   "metadata": {
    "collapsed": true
   },
   "outputs": [],
   "source": []
  },
  {
   "cell_type": "markdown",
   "metadata": {},
   "source": [
    "## PermMissingElem\n",
    "\n",
    "An array A consisting of N different integers is given. The array contains integers in the range [1..(N + 1)], which means that exactly one element is missing.\n",
    "\n",
    "Your goal is to find that missing element.\n",
    "\n",
    "Write a function:\n",
    "\n",
    "int solution(int A[], int N);\n",
    "\n",
    "that, given an array A, returns the value of the missing element.\n",
    "\n",
    "For example, given array A such that:\n",
    "\n",
    "  A[0] = 2\n",
    "  A[1] = 3\n",
    "  A[2] = 1\n",
    "  A[3] = 5\n",
    "the function should return 4, as it is the missing element.\n",
    "\n",
    "Assume that:\n",
    "\n",
    "N is an integer within the range [0..100,000];\n",
    "the elements of A are all distinct;\n",
    "each element of array A is an integer within the range [1..(N + 1)].\n",
    "Complexity:\n",
    "\n",
    "expected worst-case time complexity is O(N);\n",
    "expected worst-case space complexity is O(1) (not counting the storage required for input arguments)."
   ]
  },
  {
   "cell_type": "code",
   "execution_count": 188,
   "metadata": {
    "collapsed": true
   },
   "outputs": [],
   "source": [
    "def solution(A):\n",
    "    list_sum = sum(A)\n",
    "    N = len(A)\n",
    "    expected_sum = (N+1)*(N+2)/2.0\n",
    "    missing_value = expected_sum - list_sum\n",
    "    return int(missing_value)"
   ]
  },
  {
   "cell_type": "code",
   "execution_count": 189,
   "metadata": {},
   "outputs": [
    {
     "data": {
      "text/plain": [
       "4"
      ]
     },
     "execution_count": 189,
     "metadata": {},
     "output_type": "execute_result"
    }
   ],
   "source": [
    "solution([2,3,1,5])"
   ]
  },
  {
   "cell_type": "code",
   "execution_count": null,
   "metadata": {
    "collapsed": true
   },
   "outputs": [],
   "source": []
  },
  {
   "cell_type": "markdown",
   "metadata": {},
   "source": [
    "## TapeEquilibrium\n",
    "A non-empty array A consisting of N integers is given. Array A represents numbers on a tape.\n",
    "\n",
    "Any integer P, such that 0 < P < N, splits this tape into two non-empty parts: A[0], A[1], ..., A[P − 1] and A[P], A[P + 1], ..., A[N − 1].\n",
    "\n",
    "The difference between the two parts is the value of: |(A[0] + A[1] + ... + A[P − 1]) − (A[P] + A[P + 1] + ... + A[N − 1])|\n",
    "\n",
    "In other words, it is the absolute difference between the sum of the first part and the sum of the second part.\n",
    "\n",
    "For example, consider array A such that:\n",
    "\n",
    "  A[0] = 3\n",
    "  A[1] = 1\n",
    "  A[2] = 2\n",
    "  A[3] = 4\n",
    "  A[4] = 3\n",
    "We can split this tape in four places:\n",
    "\n",
    "P = 1, difference = |3 − 10| = 7 \n",
    "P = 2, difference = |4 − 9| = 5 \n",
    "P = 3, difference = |6 − 7| = 1 \n",
    "P = 4, difference = |10 − 3| = 7 \n",
    "Write a function:\n",
    "\n",
    "def solution(A)\n",
    "\n",
    "that, given a non-empty array A of N integers, returns the minimal difference that can be achieved.\n",
    "\n",
    "For example, given:\n",
    "\n",
    "  A[0] = 3\n",
    "  A[1] = 1\n",
    "  A[2] = 2\n",
    "  A[3] = 4\n",
    "  A[4] = 3\n",
    "the function should return 1, as explained above.\n",
    "\n",
    "Assume that:\n",
    "\n",
    "N is an integer within the range [2..100,000];\n",
    "each element of array A is an integer within the range [−1,000..1,000].\n",
    "Complexity:\n",
    "\n",
    "expected worst-case time complexity is O(N);\n",
    "expected worst-case space complexity is O(N) (not counting the storage required for input arguments)."
   ]
  },
  {
   "cell_type": "code",
   "execution_count": 199,
   "metadata": {
    "collapsed": true
   },
   "outputs": [],
   "source": [
    "def solution(A): \n",
    "    \n",
    "    N = len(A)\n",
    "    sum_dif_list = []\n",
    "    sum_dif = sum(A[1:]) - A[0]\n",
    "    sum_dif_list.append(sum_dif)\n",
    "    \n",
    "    for p in range(2,N):\n",
    "        sum_dif = sum_dif - 2*A[p-1]\n",
    "        sum_dif_list.append(sum_dif)\n",
    "    \n",
    "    sum_dif_list = [abs(i) for i in sum_dif_list]\n",
    "    \n",
    "    return min(sum_dif_list)"
   ]
  },
  {
   "cell_type": "code",
   "execution_count": 200,
   "metadata": {},
   "outputs": [
    {
     "data": {
      "text/plain": [
       "1"
      ]
     },
     "execution_count": 200,
     "metadata": {},
     "output_type": "execute_result"
    }
   ],
   "source": [
    "A = [3, 1, 2, 4, 3] \n",
    "solution(A)"
   ]
  },
  {
   "cell_type": "code",
   "execution_count": null,
   "metadata": {
    "collapsed": true
   },
   "outputs": [],
   "source": []
  },
  {
   "cell_type": "markdown",
   "metadata": {},
   "source": [
    "# <font color='red'>Lesson 4: Counting Elements</font>"
   ]
  },
  {
   "cell_type": "markdown",
   "metadata": {},
   "source": [
    "## PermCheck\n",
    "A non-empty array A consisting of N integers is given.\n",
    "\n",
    "A permutation is a sequence containing each element from 1 to N once, and only once.\n",
    "\n",
    "For example, array A such that:\n",
    "\n",
    "    A[0] = 4\n",
    "    A[1] = 1\n",
    "    A[2] = 3\n",
    "    A[3] = 2\n",
    "is a permutation, but array A such that:\n",
    "\n",
    "    A[0] = 4\n",
    "    A[1] = 1\n",
    "    A[2] = 3\n",
    "is not a permutation, because value 2 is missing.\n",
    "\n",
    "The goal is to check whether array A is a permutation.\n",
    "\n",
    "Write a function:\n",
    "\n",
    "int solution(int A[], int N);\n",
    "\n",
    "that, given an array A, returns 1 if array A is a permutation and 0 if it is not.\n",
    "\n",
    "For example, given array A such that:\n",
    "\n",
    "    A[0] = 4\n",
    "    A[1] = 1\n",
    "    A[2] = 3\n",
    "    A[3] = 2\n",
    "the function should return 1.\n",
    "\n",
    "Given array A such that:\n",
    "\n",
    "    A[0] = 4\n",
    "    A[1] = 1\n",
    "    A[2] = 3\n",
    "the function should return 0.\n",
    "\n",
    "Assume that:\n",
    "\n",
    "N is an integer within the range [1..100,000];\n",
    "each element of array A is an integer within the range [1..1,000,000,000].\n",
    "Complexity:\n",
    "\n",
    "expected worst-case time complexity is O(N);\n",
    "expected worst-case space complexity is O(N) (not counting the storage required for input arguments)."
   ]
  },
  {
   "cell_type": "code",
   "execution_count": 205,
   "metadata": {
    "collapsed": true
   },
   "outputs": [],
   "source": [
    "def solution(A):\n",
    "    N = len(A)\n",
    "    count_list = [0] * N\n",
    "    \n",
    "    for i in A:\n",
    "        if i > N:\n",
    "            return 0\n",
    "        else:\n",
    "            count_list[i-1] += 1\n",
    "    \n",
    "    if 0 in count_list:\n",
    "        return 0\n",
    "    else:\n",
    "        return 1"
   ]
  },
  {
   "cell_type": "markdown",
   "metadata": {},
   "source": [
    "### consider an element will only exist once, if more then one count, can return 0. Code can be modified as follow:"
   ]
  },
  {
   "cell_type": "code",
   "execution_count": null,
   "metadata": {
    "collapsed": true
   },
   "outputs": [],
   "source": [
    "def solution(A):\n",
    "    counter = [0]*len(A)\n",
    "    limit = len(A)\n",
    "    for element in A:\n",
    "        if not 1 <= element <= limit:\n",
    "            return 0\n",
    "        else:\n",
    "            if counter[element-1] != 0:\n",
    "                return 0\n",
    "            else:\n",
    "                counter[element-1] = 1\n",
    " \n",
    "    return 1"
   ]
  },
  {
   "cell_type": "code",
   "execution_count": null,
   "metadata": {
    "collapsed": true
   },
   "outputs": [],
   "source": []
  },
  {
   "cell_type": "markdown",
   "metadata": {},
   "source": [
    "## FrogRiverOne\n",
    "\n",
    "A small frog wants to get to the other side of a river. The frog is initially located on one bank of the river (position 0) and wants to get to the opposite bank (position X+1). Leaves fall from a tree onto the surface of the river.\n",
    "\n",
    "You are given an array A consisting of N integers representing the falling leaves. A[K] represents the position where one leaf falls at time K, measured in seconds.\n",
    "\n",
    "The goal is to find the earliest time when the frog can jump to the other side of the river. The frog can cross only when leaves appear at every position across the river from 1 to X (that is, we want to find the earliest moment when all the positions from 1 to X are covered by leaves). You may assume that the speed of the current in the river is negligibly small, i.e. the leaves do not change their positions once they fall in the river.\n",
    "\n",
    "For example, you are given integer X = 5 and array A such that:\n",
    "\n",
    "  A[0] = 1\n",
    "  A[1] = 3\n",
    "  A[2] = 1\n",
    "  A[3] = 4\n",
    "  A[4] = 2\n",
    "  A[5] = 3\n",
    "  A[6] = 5\n",
    "  A[7] = 4\n",
    "In second 6, a leaf falls into position 5. This is the earliest time when leaves appear in every position across the river.\n",
    "\n",
    "Write a function:\n",
    "\n",
    "int solution(int X, int A[], int N);\n",
    "\n",
    "that, given a non-empty array A consisting of N integers and integer X, returns the earliest time when the frog can jump to the other side of the river.\n",
    "\n",
    "If the frog is never able to jump to the other side of the river, the function should return −1.\n",
    "\n",
    "For example, given X = 5 and array A such that:\n",
    "\n",
    "  A[0] = 1\n",
    "  A[1] = 3\n",
    "  A[2] = 1\n",
    "  A[3] = 4\n",
    "  A[4] = 2\n",
    "  A[5] = 3\n",
    "  A[6] = 5\n",
    "  A[7] = 4\n",
    "the function should return 6, as explained above.\n",
    "\n",
    "Assume that:\n",
    "\n",
    "N and X are integers within the range [1..100,000];\n",
    "each element of array A is an integer within the range [1..X].\n",
    "Complexity:\n",
    "\n",
    "expected worst-case time complexity is O(N);\n",
    "expected worst-case space complexity is O(X) (not counting the storage required for input arguments)."
   ]
  },
  {
   "cell_type": "code",
   "execution_count": 1,
   "metadata": {
    "collapsed": true
   },
   "outputs": [],
   "source": [
    "def solution(X, A):\n",
    "    N = len(A)\n",
    "    exit_count = [0] * X    \n",
    "    n_covered = 0\n",
    "    \n",
    "    for i in range(N):\n",
    "        number = A[i]\n",
    "        if exit_count[number-1] == 0:\n",
    "            n_covered += 1\n",
    "            if n_covered == X:\n",
    "                return i\n",
    "        exit_count[number-1] += 1\n",
    "     \n",
    "    #if n_covered != X:\n",
    "    return -1"
   ]
  },
  {
   "cell_type": "code",
   "execution_count": 2,
   "metadata": {},
   "outputs": [
    {
     "data": {
      "text/plain": [
       "6"
      ]
     },
     "execution_count": 2,
     "metadata": {},
     "output_type": "execute_result"
    }
   ],
   "source": [
    "A = [1,3,1,4,2,3,5,4]\n",
    "X = 5\n",
    "solution(X, A)"
   ]
  },
  {
   "cell_type": "code",
   "execution_count": null,
   "metadata": {
    "collapsed": true
   },
   "outputs": [],
   "source": []
  },
  {
   "cell_type": "markdown",
   "metadata": {},
   "source": [
    "## MissingInteger\n",
    "\n",
    "Write a function:\n",
    "\n",
    "class Solution { public int solution(int[] A); }\n",
    "\n",
    "that, given an array A of N integers, returns the smallest positive integer (greater than 0) that does not occur in A.\n",
    "\n",
    "For example, given A = [1, 3, 6, 4, 1, 2], the function should return 5.\n",
    "\n",
    "Given A = [1, 2, 3], the function should return 4.\n",
    "\n",
    "Given A = [−1, −3], the function should return 1.\n",
    "\n",
    "Assume that:\n",
    "\n",
    "N is an integer within the range [1..100,000];\n",
    "each element of array A is an integer within the range [−1,000,000..1,000,000].\n",
    "Complexity:\n",
    "\n",
    "expected worst-case time complexity is O(N);\n",
    "expected worst-case space complexity is O(N) (not counting the storage required for input arguments)."
   ]
  },
  {
   "cell_type": "code",
   "execution_count": 7,
   "metadata": {
    "collapsed": true
   },
   "outputs": [],
   "source": [
    "def solution(A):\n",
    "    \n",
    "    max_value = max([max(A),1])\n",
    "    list = [0] * max_value\n",
    "    for i in A:\n",
    "        if i>0:\n",
    "            list[i-1] = 1\n",
    "    list.append(0)\n",
    "    return list.index(0) + 1 "
   ]
  },
  {
   "cell_type": "code",
   "execution_count": 8,
   "metadata": {},
   "outputs": [
    {
     "data": {
      "text/plain": [
       "5"
      ]
     },
     "execution_count": 8,
     "metadata": {},
     "output_type": "execute_result"
    }
   ],
   "source": [
    "A = [1,3,6,4,1,2]\n",
    "solution(A)"
   ]
  },
  {
   "cell_type": "code",
   "execution_count": null,
   "metadata": {
    "collapsed": true
   },
   "outputs": [],
   "source": []
  },
  {
   "cell_type": "markdown",
   "metadata": {},
   "source": [
    "## MaxCounters\n",
    "You are given N counters, initially set to 0, and you have two possible operations on them:\n",
    "\n",
    "increase(X) − counter X is increased by 1,\n",
    "max counter − all counters are set to the maximum value of any counter.\n",
    "A non-empty array A of M integers is given. This array represents consecutive operations:\n",
    "\n",
    "if A[K] = X, such that 1 ≤ X ≤ N, then operation K is increase(X),\n",
    "if A[K] = N + 1 then operation K is max counter.\n",
    "For example, given integer N = 5 and array A such that:\n",
    "\n",
    "    A[0] = 3\n",
    "    A[1] = 4\n",
    "    A[2] = 4\n",
    "    A[3] = 6\n",
    "    A[4] = 1\n",
    "    A[5] = 4\n",
    "    A[6] = 4\n",
    "the values of the counters after each consecutive operation will be:\n",
    "\n",
    "    (0, 0, 1, 0, 0)\n",
    "    (0, 0, 1, 1, 0)\n",
    "    (0, 0, 1, 2, 0)\n",
    "    (2, 2, 2, 2, 2)\n",
    "    (3, 2, 2, 2, 2)\n",
    "    (3, 2, 2, 3, 2)\n",
    "    (3, 2, 2, 4, 2)\n",
    "The goal is to calculate the value of every counter after all operations.\n",
    "\n",
    "Assume that the following declarations are given:\n",
    "\n",
    "struct Results {\n",
    "  int * C;\n",
    "  int L; // Length of the array\n",
    "};\n",
    "\n",
    "Write a function:\n",
    "\n",
    "struct Results solution(int N, int A[], int M);\n",
    "\n",
    "that, given an integer N and a non-empty array A consisting of M integers, returns a sequence of integers representing the values of the counters.\n",
    "\n",
    "The sequence should be returned as:\n",
    "\n",
    "a structure Results (in C), or\n",
    "a vector of integers (in C++), or\n",
    "a record Results (in Pascal), or\n",
    "an array of integers (in any other programming language).\n",
    "For example, given:\n",
    "\n",
    "    A[0] = 3\n",
    "    A[1] = 4\n",
    "    A[2] = 4\n",
    "    A[3] = 6\n",
    "    A[4] = 1\n",
    "    A[5] = 4\n",
    "    A[6] = 4\n",
    "the function should return [3, 2, 2, 4, 2], as explained above.\n",
    "\n",
    "Assume that:\n",
    "\n",
    "N and M are integers within the range [1..100,000];\n",
    "each element of array A is an integer within the range [1..N + 1].\n",
    "Complexity:\n",
    "\n",
    "expected worst-case time complexity is O(N+M);\n",
    "expected worst-case space complexity is O(N) (not counting the storage required for input arguments)."
   ]
  },
  {
   "cell_type": "markdown",
   "metadata": {},
   "source": [
    "### use python list"
   ]
  },
  {
   "cell_type": "code",
   "execution_count": 8,
   "metadata": {
    "collapsed": true
   },
   "outputs": [],
   "source": [
    "def solution(N, A):\n",
    "    M = len(A)\n",
    "    base_value = 0\n",
    "    max_value = 0\n",
    "    counter = [0] * N\n",
    "    \n",
    "    for i in A:\n",
    "        if i != N+1:\n",
    "            if counter[i-1] < base_value:\n",
    "                counter[i-1] = base_value\n",
    "            counter[i-1] += 1\n",
    "            \n",
    "            if max_value < counter[i-1]:\n",
    "                max_value = counter[i-1] \n",
    "                \n",
    "        if i == N+1:\n",
    "            base_value = max_value\n",
    "            \n",
    "    for i in range(N):\n",
    "        if counter[i] < base_value:\n",
    "            counter[i] = base_value        \n",
    "    return counter"
   ]
  },
  {
   "cell_type": "code",
   "execution_count": 9,
   "metadata": {},
   "outputs": [
    {
     "data": {
      "text/plain": [
       "[3, 2, 2, 4, 2]"
      ]
     },
     "execution_count": 9,
     "metadata": {},
     "output_type": "execute_result"
    }
   ],
   "source": [
    "A = [3,4,4,6,1,4,4]\n",
    "N = 5\n",
    "solution(N, A)"
   ]
  },
  {
   "cell_type": "markdown",
   "metadata": {},
   "source": [
    "### use python dictionary"
   ]
  },
  {
   "cell_type": "code",
   "execution_count": 10,
   "metadata": {
    "collapsed": true
   },
   "outputs": [],
   "source": [
    "def solution(N, A):\n",
    "    M = len(A)\n",
    "    base_value = 0\n",
    "    max_value = 0\n",
    "    counter = {}\n",
    "    #if_reset = 0\n",
    "    \n",
    "    for i in A:\n",
    "        if i != N+1:\n",
    "            #if_reset = 0\n",
    "            if str(i) in counter.keys():\n",
    "                counter[str(i)] += 1\n",
    "            else:\n",
    "                counter[str(i)] = 1\n",
    "            \n",
    "            if max_value < counter[str(i)]:\n",
    "                max_value = counter[str(i)] \n",
    "                \n",
    "        if i == N+1:\n",
    "#             if len(counter.values()) == 0:\n",
    "#                 max_value = 0 \n",
    "#             else:                    \n",
    "#                 max_value = max(list(counter.values()))\n",
    "            base_value = max_value + base_value # counter might be cleared before,need to track base value\n",
    "            counter = {} \n",
    "            max_value = 0 #reset max value in counter\n",
    "            \n",
    "    counter_list = [0] * N        \n",
    "    for i in range(N):\n",
    "        if str(i+1) in counter.keys():\n",
    "            counter_list[i] = counter[str(i+1)] \n",
    "            \n",
    "    counter_list =  [i + base_value for i in counter_list]\n",
    "            \n",
    "    return counter_list"
   ]
  },
  {
   "cell_type": "code",
   "execution_count": 11,
   "metadata": {},
   "outputs": [
    {
     "data": {
      "text/plain": [
       "[0, 0, 0, 0, 0]"
      ]
     },
     "execution_count": 11,
     "metadata": {},
     "output_type": "execute_result"
    }
   ],
   "source": [
    "A = [6,6,6,6,6,6,6]\n",
    "N = 5\n",
    "solution(N, A)"
   ]
  },
  {
   "cell_type": "code",
   "execution_count": null,
   "metadata": {
    "collapsed": true
   },
   "outputs": [],
   "source": []
  },
  {
   "cell_type": "markdown",
   "metadata": {},
   "source": [
    "# <font color='red'>Lesson 5: Prefix Sums</font>"
   ]
  },
  {
   "cell_type": "markdown",
   "metadata": {},
   "source": [
    "## PassingCars\n",
    "A non-empty array A consisting of N integers is given. The consecutive elements of array A represent consecutive cars on a road.\n",
    "\n",
    "Array A contains only 0s and/or 1s:\n",
    "\n",
    "0 represents a car traveling east,\n",
    "1 represents a car traveling west.\n",
    "The goal is to count passing cars. We say that a pair of cars (P, Q), where 0 ≤ P < Q < N, is passing when P is traveling to the east and Q is traveling to the west.\n",
    "\n",
    "For example, consider array A such that:\n",
    "\n",
    "  A[0] = 0\n",
    "  A[1] = 1\n",
    "  A[2] = 0\n",
    "  A[3] = 1\n",
    "  A[4] = 1\n",
    "We have five pairs of passing cars: (0, 1), (0, 3), (0, 4), (2, 3), (2, 4).\n",
    "\n",
    "Write a function:\n",
    "\n",
    "int solution(int A[], int N);\n",
    "\n",
    "that, given a non-empty array A of N integers, returns the number of pairs of passing cars.\n",
    "\n",
    "The function should return −1 if the number of pairs of passing cars exceeds 1,000,000,000.\n",
    "\n",
    "For example, given:\n",
    "\n",
    "  A[0] = 0\n",
    "  A[1] = 1\n",
    "  A[2] = 0\n",
    "  A[3] = 1\n",
    "  A[4] = 1\n",
    "the function should return 5, as explained above.\n",
    "\n",
    "Assume that:\n",
    "\n",
    "N is an integer within the range [1..100,000];\n",
    "each element of array A is an integer that can have one of the following values: 0, 1.\n",
    "Complexity:\n",
    "\n",
    "expected worst-case time complexity is O(N);\n",
    "expected worst-case space complexity is O(1) (not counting the storage required for input arguments)."
   ]
  },
  {
   "cell_type": "code",
   "execution_count": 271,
   "metadata": {
    "collapsed": true
   },
   "outputs": [],
   "source": [
    "def prefix_sums(A):\n",
    "    n = len(A)\n",
    "    P = [0] * (n + 1)\n",
    "    for k in range(1, n + 1):\n",
    "        P[k] = P[k - 1] + A[k - 1]\n",
    "    return P\n",
    "\n",
    "def solution(A):\n",
    "    N = len(A)\n",
    "    p = prefix_sums(A)\n",
    "    num_pairs = 0\n",
    "    \n",
    "    for i in range(N):\n",
    "        if A[i] == 0:\n",
    "            num_pairs_one = p[-1] - p[i+1]\n",
    "            num_pairs = num_pairs + num_pairs_one\n",
    "           \n",
    "    return num_pairs if num_pairs <= 1e9 else -1"
   ]
  },
  {
   "cell_type": "code",
   "execution_count": null,
   "metadata": {
    "collapsed": true
   },
   "outputs": [],
   "source": []
  },
  {
   "cell_type": "markdown",
   "metadata": {},
   "source": [
    "## CountDiv\n",
    "Write a function:\n",
    "\n",
    "int solution(int A, int B, int K);\n",
    "\n",
    "that, given three integers A, B and K, returns the number of integers within the range [A..B] that are divisible by K, i.e.:\n",
    "\n",
    "{ i : A ≤ i ≤ B, i mod K = 0 }\n",
    "\n",
    "For example, for A = 6, B = 11 and K = 2, your function should return 3, because there are three numbers divisible by 2 within the range [6..11], namely 6, 8 and 10.\n",
    "\n",
    "Assume that:\n",
    "\n",
    "A and B are integers within the range [0..2,000,000,000];\n",
    "K is an integer within the range [1..2,000,000,000];\n",
    "A ≤ B.\n",
    "Complexity:\n",
    "\n",
    "expected worst-case time complexity is O(1);\n",
    "expected worst-case space complexity is O(1)."
   ]
  },
  {
   "cell_type": "code",
   "execution_count": 269,
   "metadata": {
    "collapsed": true
   },
   "outputs": [],
   "source": [
    "def solution(A, B, K):\n",
    "    start = 0\n",
    "    end = 0\n",
    "    \n",
    "    if A%K == 0:\n",
    "        start = A//K \n",
    "    else:\n",
    "        start = A//K + 1\n",
    "        \n",
    "    end = B//K\n",
    "    \n",
    "    num = end - start + 1\n",
    "    \n",
    "    return num"
   ]
  },
  {
   "cell_type": "markdown",
   "metadata": {
    "collapsed": true
   },
   "source": [
    "### shorter solution"
   ]
  },
  {
   "cell_type": "code",
   "execution_count": 12,
   "metadata": {
    "collapsed": true
   },
   "outputs": [],
   "source": [
    "def solution(A, B, K):\n",
    "    if A % K == 0:  return (B - A) // K + 1\n",
    "    else:           return (B - (A - A % K )) // K"
   ]
  },
  {
   "cell_type": "code",
   "execution_count": null,
   "metadata": {
    "collapsed": true
   },
   "outputs": [],
   "source": []
  },
  {
   "cell_type": "markdown",
   "metadata": {},
   "source": [
    "## GenomicRangeQuery\n",
    "A DNA sequence can be represented as a string consisting of the letters A, C, G and T, which correspond to the types of successive nucleotides in the sequence. Each nucleotide has an impact factor, which is an integer. Nucleotides of types A, C, G and T have impact factors of 1, 2, 3 and 4, respectively. You are going to answer several queries of the form: What is the minimal impact factor of nucleotides contained in a particular part of the given DNA sequence?\n",
    "\n",
    "The DNA sequence is given as a non-empty string S = S[0]S[1]...S[N-1] consisting of N characters. There are M queries, which are given in non-empty arrays P and Q, each consisting of M integers. The K-th query (0 ≤ K < M) requires you to find the minimal impact factor of nucleotides contained in the DNA sequence between positions P[K] and Q[K] (inclusive).\n",
    "\n",
    "For example, consider string S = CAGCCTA and arrays P, Q such that:\n",
    "\n",
    "    P[0] = 2    Q[0] = 4\n",
    "    P[1] = 5    Q[1] = 5\n",
    "    P[2] = 0    Q[2] = 6\n",
    "The answers to these M = 3 queries are as follows:\n",
    "\n",
    "The part of the DNA between positions 2 and 4 contains nucleotides G and C (twice), whose impact factors are 3 and 2 respectively, so the answer is 2.\n",
    "The part between positions 5 and 5 contains a single nucleotide T, whose impact factor is 4, so the answer is 4.\n",
    "The part between positions 0 and 6 (the whole string) contains all nucleotides, in particular nucleotide A whose impact factor is 1, so the answer is 1.\n",
    "Assume that the following declarations are given:\n",
    "\n",
    "struct Results {\n",
    "  int * A;\n",
    "  int M; // Length of the array\n",
    "};\n",
    "\n",
    "Write a function:\n",
    "\n",
    "struct Results solution(char *S, int P[], int Q[], int M);\n",
    "\n",
    "that, given a non-empty string S consisting of N characters and two non-empty arrays P and Q consisting of M integers, returns an array consisting of M integers specifying the consecutive answers to all queries.\n",
    "\n",
    "The sequence should be returned as:\n",
    "\n",
    "a Results structure (in C), or\n",
    "a vector of integers (in C++), or\n",
    "a Results record (in Pascal), or\n",
    "an array of integers (in any other programming language).\n",
    "For example, given the string S = CAGCCTA and arrays P, Q such that:\n",
    "\n",
    "    P[0] = 2    Q[0] = 4\n",
    "    P[1] = 5    Q[1] = 5\n",
    "    P[2] = 0    Q[2] = 6\n",
    "the function should return the values [2, 4, 1], as explained above.\n",
    "\n",
    "Assume that:\n",
    "\n",
    "N is an integer within the range [1..100,000];\n",
    "M is an integer within the range [1..50,000];\n",
    "each element of arrays P, Q is an integer within the range [0..N − 1];\n",
    "P[K] ≤ Q[K], where 0 ≤ K < M;\n",
    "string S consists only of upper-case English letters A, C, G, T.\n",
    "Complexity:\n",
    "\n",
    "expected worst-case time complexity is O(N+M);\n",
    "expected worst-case space complexity is O(N) (not counting the storage required for input arguments)."
   ]
  },
  {
   "cell_type": "code",
   "execution_count": 15,
   "metadata": {
    "collapsed": true
   },
   "outputs": [],
   "source": [
    "def prefix_count(A, num_to_count):\n",
    "    n = len(A)\n",
    "    P = [0] * (n + 1)\n",
    "\n",
    "    for k in range(1, n + 1):\n",
    "        if A[k - 1] == num_to_count:\n",
    "            P[k] = P[k - 1] + 1\n",
    "        else:\n",
    "            P[k] = P[k - 1]\n",
    "    return P\n",
    "\n",
    "# def ACGT_to_num(S):\n",
    "#     S = list(S)\n",
    "#     N = len(S)\n",
    "#     for i in range(N):\n",
    "#         if S[i] == 'A':\n",
    "#             S[i] = 1\n",
    "#         if S[i] == 'C':\n",
    "#             S[i] = 2\n",
    "#         if S[i] == 'G':\n",
    "#             S[i] = 3\n",
    "#         if S[i] == 'T':\n",
    "#             S[i] = 4\n",
    "#     return S\n",
    "\n",
    "def solution(S, P, Q):\n",
    "#     S = ACGT_to_num(S) \n",
    "    S = list(S)\n",
    "        \n",
    "    p1 = prefix_count(S, 'A')\n",
    "    p2 = prefix_count(S, 'C')\n",
    "    p3 = prefix_count(S, 'G')\n",
    "    p4 = prefix_count(S, 'T')\n",
    "    \n",
    "    M = len(P)\n",
    "    \n",
    "    consecutive_list =[]\n",
    "    \n",
    "    for i in range(M):\n",
    "        start = P[i]\n",
    "        end = Q[i]\n",
    "        \n",
    "        if p1[end+1] - p1[start] != 0:\n",
    "            consecutive_list.append(1)\n",
    "        elif p2[end+1] - p2[start] != 0:\n",
    "                consecutive_list.append(2)\n",
    "        elif p3[end+1] - p3[start] != 0:\n",
    "                    consecutive_list.append(3)\n",
    "        else:\n",
    "            consecutive_list.append(4)\n",
    "    return consecutive_list"
   ]
  },
  {
   "cell_type": "code",
   "execution_count": 16,
   "metadata": {},
   "outputs": [
    {
     "data": {
      "text/plain": [
       "[2, 4, 1]"
      ]
     },
     "execution_count": 16,
     "metadata": {},
     "output_type": "execute_result"
    }
   ],
   "source": [
    "S = 'CAGCCTA'\n",
    "P = [2,5,0]\n",
    "Q = [4,5,6]\n",
    "\n",
    "solution(S, P, Q)"
   ]
  },
  {
   "cell_type": "code",
   "execution_count": null,
   "metadata": {
    "collapsed": true
   },
   "outputs": [],
   "source": []
  },
  {
   "cell_type": "markdown",
   "metadata": {},
   "source": [
    "## MinAvgTwoSlice\n",
    "A non-empty array A consisting of N integers is given. A pair of integers (P, Q), such that 0 ≤ P < Q < N, is called a slice of array A (notice that the slice contains at least two elements). The average of a slice (P, Q) is the sum of A[P] + A[P + 1] + ... + A[Q] divided by the length of the slice. To be precise, the average equals (A[P] + A[P + 1] + ... + A[Q]) / (Q − P + 1).\n",
    "\n",
    "For example, array A such that:\n",
    "\n",
    "    A[0] = 4\n",
    "    A[1] = 2\n",
    "    A[2] = 2\n",
    "    A[3] = 5\n",
    "    A[4] = 1\n",
    "    A[5] = 5\n",
    "    A[6] = 8\n",
    "contains the following example slices:\n",
    "\n",
    "slice (1, 2), whose average is (2 + 2) / 2 = 2;\n",
    "slice (3, 4), whose average is (5 + 1) / 2 = 3;\n",
    "slice (1, 4), whose average is (2 + 2 + 5 + 1) / 4 = 2.5.\n",
    "The goal is to find the starting position of a slice whose average is minimal.\n",
    "\n",
    "Write a function:\n",
    "\n",
    "int solution(int A[], int N);\n",
    "\n",
    "that, given a non-empty array A consisting of N integers, returns the starting position of the slice with the minimal average. If there is more than one slice with a minimal average, you should return the smallest starting position of such a slice.\n",
    "\n",
    "For example, given array A such that:\n",
    "\n",
    "    A[0] = 4\n",
    "    A[1] = 2\n",
    "    A[2] = 2\n",
    "    A[3] = 5\n",
    "    A[4] = 1\n",
    "    A[5] = 5\n",
    "    A[6] = 8\n",
    "the function should return 1, as explained above.\n",
    "\n",
    "Assume that:\n",
    "\n",
    "N is an integer within the range [2..100,000];\n",
    "each element of array A is an integer within the range [−10,000..10,000].\n",
    "Complexity:\n",
    "\n",
    "expected worst-case time complexity is O(N);\n",
    "expected worst-case space complexity is O(N) (not counting the storage required for input arguments)."
   ]
  },
  {
   "cell_type": "code",
   "execution_count": 17,
   "metadata": {
    "collapsed": true
   },
   "outputs": [],
   "source": [
    "def prefix_sums(A):\n",
    "    n = len(A)\n",
    "    P = [0] * (n + 1)\n",
    "    for k in range(1, n + 1):\n",
    "        P[k] = P[k - 1] + A[k - 1]\n",
    "    return P\n",
    "\n",
    "def count_total(P, x, y):\n",
    "    return P[y + 1] - P[x]\n",
    "\n",
    "def solution(A):\n",
    "    P = prefix_sums(A)\n",
    "    \n",
    "    N = len(A)\n",
    "    \n",
    "    min_index = 0\n",
    "    min_value = P[2]/2\n",
    "    for i in range(N-1):\n",
    "        if i < N-2:\n",
    "            current_min_value = min(count_total(P, i, i+1)/2, count_total(P, i, i+2)/3)\n",
    "        else:\n",
    "            current_min_value = count_total(P, i, i+1)/2\n",
    "        \n",
    "        if current_min_value < min_value:\n",
    "            min_index = i\n",
    "            min_value = current_min_value\n",
    "        \n",
    "    return min_index"
   ]
  },
  {
   "cell_type": "code",
   "execution_count": 18,
   "metadata": {},
   "outputs": [
    {
     "data": {
      "text/plain": [
       "0"
      ]
     },
     "execution_count": 18,
     "metadata": {},
     "output_type": "execute_result"
    }
   ],
   "source": [
    "A = [8,8,8,8,8,8]\n",
    "solution(A)"
   ]
  },
  {
   "cell_type": "code",
   "execution_count": null,
   "metadata": {
    "collapsed": true
   },
   "outputs": [],
   "source": []
  },
  {
   "cell_type": "markdown",
   "metadata": {},
   "source": [
    "# <font color='red'>Lesson 6: Sorting</font>"
   ]
  },
  {
   "cell_type": "markdown",
   "metadata": {},
   "source": [
    "## Distinct\n",
    "\n",
    "Programming language:  Spoken language:  \n",
    "Write a function\n",
    "\n",
    "int solution(int A[], int N);\n",
    "\n",
    "that, given an array A consisting of N integers, returns the number of distinct values in array A.\n",
    "\n",
    "Assume that:\n",
    "\n",
    "N is an integer within the range [0..100,000];\n",
    "each element of array A is an integer within the range [−1,000,000..1,000,000].\n",
    "For example, given array A consisting of six elements such that:\n",
    "\n",
    " A[0] = 2    A[1] = 1    A[2] = 1\n",
    " A[3] = 2    A[4] = 3    A[5] = 1\n",
    "the function should return 3, because there are 3 distinct values appearing in array A, namely 1, 2 and 3.\n",
    "\n",
    "Complexity:\n",
    "\n",
    "expected worst-case time complexity is O(N*log(N));\n",
    "expected worst-case space complexity is O(N) (not counting the storage required for input arguments)."
   ]
  },
  {
   "cell_type": "code",
   "execution_count": 336,
   "metadata": {
    "collapsed": true
   },
   "outputs": [],
   "source": [
    "def solution(A):\n",
    "    \n",
    "    N = len(A)\n",
    "    if N == 0:\n",
    "        return 0\n",
    "    \n",
    "    A.sort()    \n",
    "    unique_count = 1\n",
    "    \n",
    "    for i in range(1, N):\n",
    "        if A[i] != A[i-1]:\n",
    "            unique_count += 1\n",
    "        \n",
    "    return  unique_count"
   ]
  },
  {
   "cell_type": "markdown",
   "metadata": {
    "collapsed": true
   },
   "source": [
    "### use python set, example as follow"
   ]
  },
  {
   "cell_type": "code",
   "execution_count": 19,
   "metadata": {},
   "outputs": [
    {
     "data": {
      "text/plain": [
       "{1, 2, 3}"
      ]
     },
     "execution_count": 19,
     "metadata": {},
     "output_type": "execute_result"
    }
   ],
   "source": [
    "A = [1,2,3,2,1]\n",
    "A_set = set(A)\n",
    "A_set"
   ]
  },
  {
   "cell_type": "code",
   "execution_count": null,
   "metadata": {
    "collapsed": true
   },
   "outputs": [],
   "source": [
    "def solution(A):\n",
    "    # write your code in Python 2.7\n",
    "    A=set(A)\n",
    "    return len(A)"
   ]
  },
  {
   "cell_type": "code",
   "execution_count": null,
   "metadata": {
    "collapsed": true
   },
   "outputs": [],
   "source": []
  },
  {
   "cell_type": "markdown",
   "metadata": {},
   "source": [
    "## MaxProductOfThree\n",
    "A non-empty array A consisting of N integers is given. The product of triplet (P, Q, R) equates to A[P] * A[Q] * A[R] (0 ≤ P < Q < R < N).\n",
    "\n",
    "For example, array A such that:\n",
    "\n",
    "  A[0] = -3\n",
    "  A[1] = 1\n",
    "  A[2] = 2\n",
    "  A[3] = -2\n",
    "  A[4] = 5\n",
    "  A[5] = 6\n",
    "contains the following example triplets:\n",
    "\n",
    "(0, 1, 2), product is −3 * 1 * 2 = −6\n",
    "(1, 2, 4), product is 1 * 2 * 5 = 10\n",
    "(2, 4, 5), product is 2 * 5 * 6 = 60\n",
    "Your goal is to find the maximal product of any triplet.\n",
    "\n",
    "Write a function:\n",
    "\n",
    "int solution(int A[], int N);\n",
    "\n",
    "that, given a non-empty array A, returns the value of the maximal product of any triplet.\n",
    "\n",
    "For example, given array A such that:\n",
    "\n",
    "  A[0] = -3\n",
    "  A[1] = 1\n",
    "  A[2] = 2\n",
    "  A[3] = -2\n",
    "  A[4] = 5\n",
    "  A[5] = 6\n",
    "the function should return 60, as the product of triplet (2, 4, 5) is maximal.\n",
    "\n",
    "Assume that:\n",
    "\n",
    "N is an integer within the range [3..100,000];\n",
    "each element of array A is an integer within the range [−1,000..1,000].\n",
    "Complexity:\n",
    "\n",
    "expected worst-case time complexity is O(N*log(N));\n",
    "expected worst-case space complexity is O(1) (not counting the storage required for input arguments)."
   ]
  },
  {
   "cell_type": "code",
   "execution_count": 334,
   "metadata": {
    "collapsed": true
   },
   "outputs": [],
   "source": [
    "def solution(A):\n",
    "    A.sort()\n",
    "    N = len(A)\n",
    "    if N > 6:\n",
    "        num_for_prod = A[:3]\n",
    "        num_for_prod.extend(A[-3:])\n",
    "    else:\n",
    "        num_for_prod = A\n",
    "    print (num_for_prod) \n",
    "    max_product = num_for_prod[0] * num_for_prod[1] * num_for_prod[2]\n",
    "    M = len(num_for_prod)\n",
    "    for i in range(M):\n",
    "        for j in range(i+1, M):\n",
    "            for k in range(j+1, M):\n",
    "                product = num_for_prod[i] * num_for_prod[j] * num_for_prod[k]\n",
    "                if product > max_product:\n",
    "                    max_product = product\n",
    "    return max_product "
   ]
  },
  {
   "cell_type": "code",
   "execution_count": 21,
   "metadata": {},
   "outputs": [
    {
     "data": {
      "text/plain": [
       "105"
      ]
     },
     "execution_count": 21,
     "metadata": {},
     "output_type": "execute_result"
    }
   ],
   "source": [
    "A = [4, 7, 3, 2, 1, -3, -5] \n",
    "solution(A)"
   ]
  },
  {
   "cell_type": "markdown",
   "metadata": {
    "collapsed": true
   },
   "source": [
    "### max product can only be either A[0]*A[1]*A[-1] or A[-1]*A[-2]*A[-3]"
   ]
  },
  {
   "cell_type": "code",
   "execution_count": 20,
   "metadata": {
    "collapsed": true
   },
   "outputs": [],
   "source": [
    "def solution(A):\n",
    "    A.sort()\n",
    "    return max(A[0]*A[1]*A[-1], A[-1]*A[-2]*A[-3])"
   ]
  },
  {
   "cell_type": "code",
   "execution_count": null,
   "metadata": {
    "collapsed": true
   },
   "outputs": [],
   "source": []
  },
  {
   "cell_type": "markdown",
   "metadata": {},
   "source": [
    "## Triangle\n",
    "\n",
    "An array A consisting of N integers is given. A triplet (P, Q, R) is triangular if 0 ≤ P < Q < R < N and:\n",
    "\n",
    "A[P] + A[Q] > A[R],\n",
    "A[Q] + A[R] > A[P],\n",
    "A[R] + A[P] > A[Q].\n",
    "For example, consider array A such that:\n",
    "\n",
    "  A[0] = 10    A[1] = 2    A[2] = 5\n",
    "  A[3] = 1     A[4] = 8    A[5] = 20\n",
    "Triplet (0, 2, 4) is triangular.\n",
    "\n",
    "Write a function:\n",
    "\n",
    "int solution(int A[], int N);\n",
    "\n",
    "that, given an array A consisting of N integers, returns 1 if there exists a triangular triplet for this array and returns 0 otherwise.\n",
    "\n",
    "For example, given array A such that:\n",
    "\n",
    "  A[0] = 10    A[1] = 2    A[2] = 5\n",
    "  A[3] = 1     A[4] = 8    A[5] = 20\n",
    "the function should return 1, as explained above. Given array A such that:\n",
    "\n",
    "  A[0] = 10    A[1] = 50    A[2] = 5\n",
    "  A[3] = 1\n",
    "the function should return 0.\n",
    "\n",
    "Assume that:\n",
    "\n",
    "N is an integer within the range [0..100,000];\n",
    "each element of array A is an integer within the range [−2,147,483,648..2,147,483,647].\n",
    "Complexity:\n",
    "\n",
    "expected worst-case time complexity is O(N*log(N));\n",
    "expected worst-case space complexity is O(N) (not counting the storage required for input arguments)."
   ]
  },
  {
   "cell_type": "code",
   "execution_count": 339,
   "metadata": {
    "collapsed": true
   },
   "outputs": [],
   "source": [
    "def solution(A):\n",
    "    N = len(A)\n",
    "    triangle_exist = 0\n",
    "    \n",
    "    if N < 3:\n",
    "        triangle_exist = 0\n",
    "    \n",
    "    A.sort(reverse = True)\n",
    "    \n",
    "    for i in range(N-2):\n",
    "        if A[i] < A[i+1] + A[i+2]:\n",
    "            triangle_exist = 1\n",
    "    \n",
    "    return triangle_exist        "
   ]
  },
  {
   "cell_type": "code",
   "execution_count": 343,
   "metadata": {},
   "outputs": [
    {
     "data": {
      "text/plain": [
       "1"
      ]
     },
     "execution_count": 343,
     "metadata": {},
     "output_type": "execute_result"
    }
   ],
   "source": [
    "A = [3,3,3,3,3]\n",
    "solution(A)"
   ]
  },
  {
   "cell_type": "code",
   "execution_count": null,
   "metadata": {
    "collapsed": true
   },
   "outputs": [],
   "source": []
  },
  {
   "cell_type": "markdown",
   "metadata": {},
   "source": [
    "## NumberOfDiscIntersections\n",
    "\n",
    "We draw N discs on a plane. The discs are numbered from 0 to N − 1. An array A of N non-negative integers, specifying the radiuses of the discs, is given. The J-th disc is drawn with its center at (J, 0) and radius A[J].\n",
    "\n",
    "We say that the J-th disc and K-th disc intersect if J ≠ K and the J-th and K-th discs have at least one common point (assuming that the discs contain their borders).\n",
    "\n",
    "The figure below shows discs drawn for N = 6 and A as follows:\n",
    "\n",
    "  A[0] = 1\n",
    "  A[1] = 5\n",
    "  A[2] = 2\n",
    "  A[3] = 1\n",
    "  A[4] = 4\n",
    "  A[5] = 0\n",
    "\n",
    "\n",
    "There are eleven (unordered) pairs of discs that intersect, namely:\n",
    "\n",
    "discs 1 and 4 intersect, and both intersect with all the other discs;\n",
    "disc 2 also intersects with discs 0 and 3.\n",
    "Write a function:\n",
    "\n",
    "int solution(int A[], int N);\n",
    "\n",
    "that, given an array A describing N discs as explained above, returns the number of (unordered) pairs of intersecting discs. The function should return −1 if the number of intersecting pairs exceeds 10,000,000.\n",
    "\n",
    "Given array A shown above, the function should return 11, as explained above.\n",
    "\n",
    "Assume that:\n",
    "\n",
    "N is an integer within the range [0..100,000];\n",
    "each element of array A is an integer within the range [0..2,147,483,647].\n",
    "Complexity:\n",
    "\n",
    "expected worst-case time complexity is O(N*log(N));\n",
    "expected worst-case space complexity is O(N) (not counting the storage required for input arguments)."
   ]
  },
  {
   "cell_type": "code",
   "execution_count": 25,
   "metadata": {
    "collapsed": true
   },
   "outputs": [],
   "source": [
    "def solution(A):\n",
    "    N = len(A)\n",
    "    if N ==0:\n",
    "        return 0\n",
    "    \n",
    "    left = [n-r for n,r in enumerate (A)]\n",
    "    right = [n+r for n,r in enumerate (A)]\n",
    "    \n",
    "    lr = left\n",
    "    lr.extend(right)\n",
    "    \n",
    "    lr01 = [0] * N + [1] *N\n",
    "    \n",
    "    lr01_orderded = [lr01[b[0]] for b in sorted(enumerate(lr),key=lambda i:i[1])]\n",
    "    \n",
    "    lr01_orderded.reverse()\n",
    "    \n",
    "    left_num_current = 0\n",
    "    left_num_total = 0\n",
    "    \n",
    "    for i in range(2*N):\n",
    "        if lr01_orderded[i] == 0:\n",
    "            left_num_current += 1\n",
    "        else:\n",
    "            left_num_total = left_num_total + left_num_current\n",
    "            \n",
    "    result = int(N*(N-1)/2 - left_num_total)\n",
    "    \n",
    "    return result if result <= 1e7 else -1"
   ]
  },
  {
   "cell_type": "code",
   "execution_count": 26,
   "metadata": {},
   "outputs": [
    {
     "data": {
      "text/plain": [
       "0"
      ]
     },
     "execution_count": 26,
     "metadata": {},
     "output_type": "execute_result"
    }
   ],
   "source": [
    "A = [1]\n",
    "solution(A)"
   ]
  },
  {
   "cell_type": "code",
   "execution_count": 29,
   "metadata": {},
   "outputs": [
    {
     "data": {
      "text/plain": [
       "11"
      ]
     },
     "execution_count": 29,
     "metadata": {},
     "output_type": "execute_result"
    }
   ],
   "source": [
    "A = [1,5,2,1,4,0]\n",
    "solution(A)"
   ]
  },
  {
   "cell_type": "markdown",
   "metadata": {
    "collapsed": true
   },
   "source": [
    "### solution from Codesays"
   ]
  },
  {
   "cell_type": "code",
   "execution_count": 28,
   "metadata": {
    "collapsed": true
   },
   "outputs": [],
   "source": [
    "def solution(A):\n",
    "    discs_count = len(A)            # The total number of discs\n",
    "    range_upper = [0]*discs_count   # The upper limit position of discs\n",
    "    range_lower = [0]*discs_count   # The lower limit position of discs\n",
    " \n",
    "    # Fill the limit_upper and limit_lower\n",
    "    for index in range(0, discs_count):\n",
    "        range_upper[index] = index + A[index]\n",
    "        range_lower[index] = index - A[index]\n",
    " \n",
    "    range_upper.sort()\n",
    "    range_lower.sort()\n",
    " \n",
    "    range_lower_index = 0\n",
    "    intersect_count = 0\n",
    "    for range_upper_index in range(0, discs_count):\n",
    "        # Compute for each disc\n",
    "        while range_lower_index < discs_count and\\\n",
    "            range_upper[range_upper_index] >= range_lower[range_lower_index]:\n",
    "            # Find all the discs that:\n",
    "            #    disc_center - disc_radius <= current_center + current_radius\n",
    "            range_lower_index += 1\n",
    "        # We must exclude some discs such that:\n",
    "        #    disc_center - disc_radius <= current_center + current_radius\n",
    "        #    AND\n",
    "        #    disc_center + disc_radius <(=) current_center + current_radius\n",
    "        # These discs are not intersected with current disc, and below the\n",
    "        #    current one completely.\n",
    "        # After removing, the left discs are intersected with current disc,\n",
    "        #    and above the current one.\n",
    "        # Attention: the current disc is intersecting itself in this result\n",
    "        #    set. But it should not be. So we need to minus one to fix it.\n",
    "        intersect_count += range_lower_index - range_upper_index -1\n",
    "        if intersect_count > 10000000:\n",
    "            return -1\n",
    " \n",
    "    return intersect_count"
   ]
  },
  {
   "cell_type": "code",
   "execution_count": null,
   "metadata": {
    "collapsed": true
   },
   "outputs": [],
   "source": []
  },
  {
   "cell_type": "markdown",
   "metadata": {},
   "source": [
    "# <font color='red'>Lesson 7: Stacks and Queues</font>"
   ]
  },
  {
   "cell_type": "markdown",
   "metadata": {},
   "source": [
    "## Nesting\n",
    "\n",
    "A string S consisting of N characters is called properly nested if:\n",
    "\n",
    "S is empty;\n",
    "S has the form \"(U)\" where U is a properly nested string;\n",
    "S has the form \"VW\" where V and W are properly nested strings.\n",
    "For example, string \"(()(())())\" is properly nested but string \"())\" isn't.\n",
    "\n",
    "Write a function:\n",
    "\n",
    "def solution(S)\n",
    "\n",
    "that, given a string S consisting of N characters, returns 1 if string S is properly nested and 0 otherwise.\n",
    "\n",
    "For example, given S = \"(()(())())\", the function should return 1 and given S = \"())\", the function should return 0, as explained above.\n",
    "\n",
    "Assume that:\n",
    "\n",
    "N is an integer within the range [0..1,000,000];\n",
    "string S consists only of the characters \"(\" and/or \")\".\n",
    "Complexity:\n",
    "\n",
    "expected worst-case time complexity is O(N);\n",
    "expected worst-case space complexity is O(1) (not counting the storage required for input arguments)."
   ]
  },
  {
   "cell_type": "code",
   "execution_count": 42,
   "metadata": {
    "collapsed": true
   },
   "outputs": [],
   "source": [
    "def solution(S):\n",
    "    S = list(S)\n",
    "    N = len(S)\n",
    "    c = 0 # do not need a real stack, just the stack size is enough\n",
    "    for i in range(N):\n",
    "        if S[i] == '(':\n",
    "            c += 1\n",
    "        else:\n",
    "            c -= 1\n",
    "            if c < 0: # ')' can not be infront of '('\n",
    "                return 0\n",
    "    #print(c)        \n",
    "    return 1 if c == 0 else 0"
   ]
  },
  {
   "cell_type": "code",
   "execution_count": 43,
   "metadata": {},
   "outputs": [
    {
     "data": {
      "text/plain": [
       "1"
      ]
     },
     "execution_count": 43,
     "metadata": {},
     "output_type": "execute_result"
    }
   ],
   "source": [
    "S = \"(()(())())\"\n",
    "solution(S)"
   ]
  },
  {
   "cell_type": "code",
   "execution_count": 44,
   "metadata": {},
   "outputs": [
    {
     "data": {
      "text/plain": [
       "0"
      ]
     },
     "execution_count": 44,
     "metadata": {},
     "output_type": "execute_result"
    }
   ],
   "source": [
    "S = \")(())(\"\n",
    "solution(S)"
   ]
  },
  {
   "cell_type": "code",
   "execution_count": 45,
   "metadata": {},
   "outputs": [
    {
     "data": {
      "text/plain": [
       "0"
      ]
     },
     "execution_count": 45,
     "metadata": {},
     "output_type": "execute_result"
    }
   ],
   "source": [
    "S = '())'\n",
    "solution(S)"
   ]
  },
  {
   "cell_type": "code",
   "execution_count": null,
   "metadata": {
    "collapsed": true
   },
   "outputs": [],
   "source": []
  },
  {
   "cell_type": "markdown",
   "metadata": {},
   "source": [
    "## Brackets\n",
    "A string S consisting of N characters is considered to be properly nested if any of the following conditions is true:\n",
    "\n",
    "S is empty;\n",
    "S has the form \"(U)\" or \"[U]\" or \"{U}\" where U is a properly nested string;\n",
    "S has the form \"VW\" where V and W are properly nested strings.\n",
    "For example, the string \"{[()()]}\" is properly nested but \"([)()]\" is not.\n",
    "\n",
    "Write a function:\n",
    "\n",
    "int solution(char *S);\n",
    "\n",
    "that, given a string S consisting of N characters, returns 1 if S is properly nested and 0 otherwise.\n",
    "\n",
    "For example, given S = \"{[()()]}\", the function should return 1 and given S = \"([)()]\", the function should return 0, as explained above.\n",
    "\n",
    "Assume that:\n",
    "\n",
    "N is an integer within the range [0..200,000];\n",
    "string S consists only of the following characters: \"(\", \"{\", \"[\", \"]\", \"}\" and/or \")\".\n",
    "Complexity:\n",
    "\n",
    "expected worst-case time complexity is O(N);\n",
    "expected worst-case space complexity is O(N) (not counting the storage required for input arguments)."
   ]
  },
  {
   "cell_type": "code",
   "execution_count": 46,
   "metadata": {
    "collapsed": true
   },
   "outputs": [],
   "source": [
    "# Classic application of stacks.\n",
    "def solution(S):\n",
    "    S = list(S)\n",
    "    N = len(S)\n",
    "    \n",
    "    stack = [0] * N #a real stack\n",
    "    stack_n = 0\n",
    "    \n",
    "    for i in range(N):\n",
    "        if S[i] == '{':\n",
    "            stack_n += 1\n",
    "            stack[stack_n-1] = 1\n",
    "        if S[i] == '[':\n",
    "            stack_n += 1\n",
    "            stack[stack_n-1] = 2\n",
    "        if S[i] == '(':\n",
    "            stack_n += 1\n",
    "            stack[stack_n-1] = 3\n",
    "            \n",
    "        if S[i] == '}':\n",
    "            if stack_n == 0 or stack[stack_n-1] != 1:\n",
    "                return 0\n",
    "            else:\n",
    "                stack_n -= 1                \n",
    "        if S[i] == ']':\n",
    "            if stack_n == 0 or stack[stack_n-1] != 2:\n",
    "                return 0\n",
    "            else:\n",
    "                stack_n -= 1\n",
    "        if S[i] == ')':\n",
    "            if stack_n == 0 or stack[stack_n-1] != 3:\n",
    "                return 0\n",
    "            else:\n",
    "                stack_n -= 1\n",
    "                \n",
    "    return 1 if stack_n == 0 else 0     "
   ]
  },
  {
   "cell_type": "code",
   "execution_count": 47,
   "metadata": {},
   "outputs": [
    {
     "data": {
      "text/plain": [
       "0"
      ]
     },
     "execution_count": 47,
     "metadata": {},
     "output_type": "execute_result"
    }
   ],
   "source": [
    "S = \"[(])\"\n",
    "solution(S)"
   ]
  },
  {
   "cell_type": "code",
   "execution_count": 48,
   "metadata": {},
   "outputs": [
    {
     "data": {
      "text/plain": [
       "1"
      ]
     },
     "execution_count": 48,
     "metadata": {},
     "output_type": "execute_result"
    }
   ],
   "source": [
    "S = \"{[()()]}\"\n",
    "solution(S)"
   ]
  },
  {
   "cell_type": "markdown",
   "metadata": {},
   "source": [
    "### solution from codesays"
   ]
  },
  {
   "cell_type": "code",
   "execution_count": 49,
   "metadata": {
    "collapsed": true
   },
   "outputs": [],
   "source": [
    "def solution(S):\n",
    "    if len(S) % 2 == 1:   return 0\n",
    " \n",
    "    matched = {\"]\":\"[\", \"}\":\"{\", \")\": \"(\"} # use dictionary\n",
    "    to_push = [\"[\", \"{\", \"(\"]\n",
    "    stack = []\n",
    " \n",
    "    for element in S:\n",
    "        if element in to_push:\n",
    "            stack.append(element)\n",
    "        else:\n",
    "            if len(stack) == 0:\n",
    "                return 0\n",
    "            elif matched[element] != stack.pop(): # python list has pop function\n",
    "                return 0\n",
    " \n",
    "    if len(stack) == 0:\n",
    "        return 1\n",
    "    else:\n",
    "        return 0"
   ]
  },
  {
   "cell_type": "code",
   "execution_count": null,
   "metadata": {
    "collapsed": true
   },
   "outputs": [],
   "source": []
  },
  {
   "cell_type": "markdown",
   "metadata": {},
   "source": [
    "## Fish\n",
    "You are given two non-empty arrays A and B consisting of N integers. Arrays A and B represent N voracious fish in a river, ordered downstream along the flow of the river.\n",
    "\n",
    "The fish are numbered from 0 to N − 1. If P and Q are two fish and P < Q, then fish P is initially upstream of fish Q. Initially, each fish has a unique position.\n",
    "\n",
    "Fish number P is represented by A[P] and B[P]. Array A contains the sizes of the fish. All its elements are unique. Array B contains the directions of the fish. It contains only 0s and/or 1s, where:\n",
    "\n",
    "0 represents a fish flowing upstream,\n",
    "1 represents a fish flowing downstream.\n",
    "If two fish move in opposite directions and there are no other (living) fish between them, they will eventually meet each other. Then only one fish can stay alive − the larger fish eats the smaller one. More precisely, we say that two fish P and Q meet each other when P < Q, B[P] = 1 and B[Q] = 0, and there are no living fish between them. After they meet:\n",
    "\n",
    "If A[P] > A[Q] then P eats Q, and P will still be flowing downstream,\n",
    "If A[Q] > A[P] then Q eats P, and Q will still be flowing upstream.\n",
    "We assume that all the fish are flowing at the same speed. That is, fish moving in the same direction never meet. The goal is to calculate the number of fish that will stay alive.\n",
    "\n",
    "For example, consider arrays A and B such that:\n",
    "\n",
    "  A[0] = 4    B[0] = 0\n",
    "  A[1] = 3    B[1] = 1\n",
    "  A[2] = 2    B[2] = 0\n",
    "  A[3] = 1    B[3] = 0\n",
    "  A[4] = 5    B[4] = 0\n",
    "Initially all the fish are alive and all except fish number 1 are moving upstream. Fish number 1 meets fish number 2 and eats it, then it meets fish number 3 and eats it too. Finally, it meets fish number 4 and is eaten by it. The remaining two fish, number 0 and 4, never meet and therefore stay alive.\n",
    "\n",
    "Write a function:\n",
    "\n",
    "def solution(A, B)\n",
    "\n",
    "that, given two non-empty arrays A and B consisting of N integers, returns the number of fish that will stay alive.\n",
    "\n",
    "For example, given the arrays shown above, the function should return 2, as explained above.\n",
    "\n",
    "Assume that:\n",
    "\n",
    "N is an integer within the range [1..100,000];\n",
    "each element of array A is an integer within the range [0..1,000,000,000];\n",
    "each element of array B is an integer that can have one of the following values: 0, 1;\n",
    "the elements of A are all distinct.\n",
    "Complexity:\n",
    "\n",
    "expected worst-case time complexity is O(N);\n",
    "expected worst-case space complexity is O(N) (not counting the storage required for input arguments)."
   ]
  },
  {
   "cell_type": "code",
   "execution_count": 397,
   "metadata": {
    "collapsed": true
   },
   "outputs": [],
   "source": [
    "def solution(A, B):\n",
    "    N = len (A)\n",
    "    stack_dir = [0] * N\n",
    "    stack_size = [0] * N\n",
    "    stack_n = 0\n",
    "    \n",
    "    for i in range (N):\n",
    "        while stack_n > 0 and B[i] < stack_dir[stack_n-1] and A[i] > stack_size[stack_n-1]:\n",
    "            stack_n -= 1\n",
    "        \n",
    "        if stack_n > 0 and B[i] < stack_dir[stack_n-1] and A[i] < stack_size[stack_n-1]:\n",
    "            pass\n",
    "        \n",
    "        else:\n",
    "            stack_n +=1\n",
    "            stack_dir[stack_n-1] = B[i]\n",
    "            stack_size[stack_n-1] = A[i]\n",
    "       # print (stack_n, stack_dir, stack_size)\n",
    "            \n",
    "    return stack_n"
   ]
  },
  {
   "cell_type": "code",
   "execution_count": 400,
   "metadata": {},
   "outputs": [
    {
     "data": {
      "text/plain": [
       "1"
      ]
     },
     "execution_count": 400,
     "metadata": {},
     "output_type": "execute_result"
    }
   ],
   "source": [
    "A = [4]\n",
    "B = [1]\n",
    "solution(A, B)"
   ]
  },
  {
   "cell_type": "markdown",
   "metadata": {},
   "source": [
    "### shorter solution from codesays\n",
    "\n",
    "### Use pop() and append directly on python list when modifying stack"
   ]
  },
  {
   "cell_type": "code",
   "execution_count": null,
   "metadata": {
    "collapsed": true
   },
   "outputs": [],
   "source": [
    "def solution(A, B):\n",
    "    stack = []\n",
    "    for i in xrange(len(A)):\n",
    "            live_fish = i\n",
    "            while B[live_fish] == 0 and stack and B[stack[-1]] == 1:\n",
    "                other_fish = stack.pop()\n",
    "                if A[other_fish] > A[live_fish]:\n",
    "                    live_fish = other_fish\n",
    " \n",
    "            stack.append(live_fish)\n",
    " \n",
    "    return len(stack)"
   ]
  },
  {
   "cell_type": "code",
   "execution_count": null,
   "metadata": {
    "collapsed": true
   },
   "outputs": [],
   "source": []
  },
  {
   "cell_type": "markdown",
   "metadata": {},
   "source": [
    "## StoneWall\n",
    "You are going to build a stone wall. The wall should be straight and N meters long, and its thickness should be constant; however, it should have different heights in different places. The height of the wall is specified by an array H of N positive integers. H[I] is the height of the wall from I to I+1 meters to the right of its left end. In particular, H[0] is the height of the wall's left end and H[N−1] is the height of the wall's right end.\n",
    "\n",
    "The wall should be built of cuboid stone blocks (that is, all sides of such blocks are rectangular). Your task is to compute the minimum number of blocks needed to build the wall.\n",
    "\n",
    "Write a function:\n",
    "\n",
    "def solution(H)\n",
    "\n",
    "that, given an array H of N positive integers specifying the height of the wall, returns the minimum number of blocks needed to build it.\n",
    "\n",
    "For example, given array H containing N = 9 integers:\n",
    "\n",
    "  H[0] = 8    H[1] = 8    H[2] = 5\n",
    "  H[3] = 7    H[4] = 9    H[5] = 8\n",
    "  H[6] = 7    H[7] = 4    H[8] = 8\n",
    "the function should return 7. The figure shows one possible arrangement of seven blocks.\n",
    "\n",
    "\n",
    "\n",
    "Assume that:\n",
    "\n",
    "N is an integer within the range [1..100,000];\n",
    "each element of array H is an integer within the range [1..1,000,000,000].\n",
    "Complexity:\n",
    "\n",
    "expected worst-case time complexity is O(N);\n",
    "expected worst-case space complexity is O(N) (not counting the storage required for input arguments)."
   ]
  },
  {
   "cell_type": "code",
   "execution_count": 52,
   "metadata": {
    "collapsed": true
   },
   "outputs": [],
   "source": [
    "def solution(H):\n",
    "    N = len(H)\n",
    "    stack = [0] * N\n",
    "    stack_n = 0\n",
    "    stone_n = 0\n",
    "    \n",
    "    for i in range(N):\n",
    "        if stack_n == 0:\n",
    "            stack_n += 1            \n",
    "            stack[stack_n-1] = H[i]\n",
    "            stone_n += 1\n",
    "        else:\n",
    "            if H[i] > stack[stack_n-1]:\n",
    "                stack_n += 1            \n",
    "                stack[stack_n-1] = H[i]\n",
    "                stone_n += 1\n",
    "            if H[i] < stack[stack_n-1]:\n",
    "                while stack[stack_n-1] > H[i] and stack_n > 0:\n",
    "                    stack_n -= 1\n",
    "                if stack[stack_n-1] < H[i]:\n",
    "                    stack_n += 1            \n",
    "                    stack[stack_n-1] = H[i]\n",
    "                    stone_n += 1\n",
    "    return stone_n"
   ]
  },
  {
   "cell_type": "code",
   "execution_count": 53,
   "metadata": {},
   "outputs": [
    {
     "data": {
      "text/plain": [
       "7"
      ]
     },
     "execution_count": 53,
     "metadata": {},
     "output_type": "execute_result"
    }
   ],
   "source": [
    "H =[8,8,5,7,9,8,7,4,8]\n",
    "solution(H)"
   ]
  },
  {
   "cell_type": "markdown",
   "metadata": {
    "collapsed": true
   },
   "source": [
    "### official solution"
   ]
  },
  {
   "cell_type": "code",
   "execution_count": 54,
   "metadata": {
    "collapsed": true
   },
   "outputs": [],
   "source": [
    "def stone_wall(H):\n",
    "    N = len(H)\n",
    "    stones = 0\n",
    "    stack = [0] * N\n",
    "    stack_num = 0\n",
    "    \n",
    "    for i in range(N):\n",
    "        while stack_num > 0 and stack[stack_num - 1] > H[i]:\n",
    "            stack_num -= 1\n",
    "        if stack_num > 0 and stack[stack_num - 1] == H[i]:\n",
    "            pass\n",
    "        else:\n",
    "            stones += 1\n",
    "            stack[stack_num] = H[i]\n",
    "            stack_num += 1\n",
    "    return stones"
   ]
  },
  {
   "cell_type": "code",
   "execution_count": 55,
   "metadata": {},
   "outputs": [
    {
     "data": {
      "text/plain": [
       "7"
      ]
     },
     "execution_count": 55,
     "metadata": {},
     "output_type": "execute_result"
    }
   ],
   "source": [
    "H =[8,8,5,7,9,8,7,4,8]\n",
    "stone_wall(H)"
   ]
  },
  {
   "cell_type": "code",
   "execution_count": null,
   "metadata": {
    "collapsed": true
   },
   "outputs": [],
   "source": []
  },
  {
   "cell_type": "markdown",
   "metadata": {},
   "source": [
    "# <font color='red'>Lesson 8: Leader</font>"
   ]
  },
  {
   "cell_type": "markdown",
   "metadata": {},
   "source": [
    "##  Dominator\n",
    "\n",
    "An array A consisting of N integers is given. The dominator of array A is the value that occurs in more than half of the elements of A.\n",
    "\n",
    "For example, consider array A such that\n",
    "\n",
    " A[0] = 3    A[1] = 4    A[2] =  3\n",
    " A[3] = 2    A[4] = 3    A[5] = -1\n",
    " A[6] = 3    A[7] = 3\n",
    "The dominator of A is 3 because it occurs in 5 out of 8 elements of A (namely in those with indices 0, 2, 4, 6 and 7) and 5 is more than a half of 8.\n",
    "\n",
    "Write a function\n",
    "\n",
    "def solution(A)\n",
    "\n",
    "that, given an array A consisting of N integers, returns index of any element of array A in which the dominator of A occurs. The function should return −1 if array A does not have a dominator.\n",
    "\n",
    "Assume that:\n",
    "\n",
    "N is an integer within the range [0..100,000];\n",
    "each element of array A is an integer within the range [−2,147,483,648..2,147,483,647].\n",
    "For example, given array A such that\n",
    "\n",
    " A[0] = 3    A[1] = 4    A[2] =  3\n",
    " A[3] = 2    A[4] = 3    A[5] = -1\n",
    " A[6] = 3    A[7] = 3\n",
    "the function may return 0, 2, 4, 6 or 7, as explained above.\n",
    "\n",
    "Complexity:\n",
    "\n",
    "expected worst-case time complexity is O(N);\n",
    "expected worst-case space complexity is O(1) (not counting the storage required for input arguments)."
   ]
  },
  {
   "cell_type": "code",
   "execution_count": 60,
   "metadata": {
    "collapsed": true
   },
   "outputs": [],
   "source": [
    "def solution(A):\n",
    "    N = len(A)\n",
    "    stack_size = 0\n",
    "    top_value = 0\n",
    "    \n",
    "    for i in range(N):\n",
    "        if stack_size == 0:\n",
    "            stack_size +=1\n",
    "            top_value = A[i]\n",
    "        else:\n",
    "            if top_value == A[i]:\n",
    "                stack_size +=1\n",
    "            else:\n",
    "                stack_size -=1\n",
    "        \n",
    "    if stack_size > 0:\n",
    "        candidate = top_value\n",
    "    else:\n",
    "        return -1\n",
    "    \n",
    "    count = 0\n",
    "    index = -1\n",
    "    for i in range(N):\n",
    "        if A[i] == candidate:\n",
    "            count += 1\n",
    "            index = i\n",
    "            \n",
    "    if count > N/2.0:\n",
    "        return index\n",
    "    else:\n",
    "        return -1\n",
    "    "
   ]
  },
  {
   "cell_type": "code",
   "execution_count": 65,
   "metadata": {},
   "outputs": [
    {
     "data": {
      "text/plain": [
       "2"
      ]
     },
     "execution_count": 65,
     "metadata": {},
     "output_type": "execute_result"
    }
   ],
   "source": [
    "A = [2, 1, 1, 1, 3]\n",
    "solution(A)"
   ]
  },
  {
   "cell_type": "markdown",
   "metadata": {},
   "source": [
    "### solution from codesays"
   ]
  },
  {
   "cell_type": "code",
   "execution_count": 64,
   "metadata": {
    "collapsed": true
   },
   "outputs": [],
   "source": [
    "def solution(A):\n",
    "    A_len = len(A)\n",
    "    candidate = -1\n",
    "    candidate_count = 0\n",
    "    candidate_index = -1\n",
    "\n",
    "    for index in range(A_len):\n",
    "        if candidate_count == 0:\n",
    "            candidate = A[index]\n",
    "            candidate_index = index\n",
    "            candidate_count += 1\n",
    "        else:\n",
    "            if A[index] == candidate:\n",
    "                candidate_count += 1\n",
    "            else:\n",
    "                candidate_count -= 1\n",
    "        #print(candidate, candidate_count)\n",
    "    if len([number for number in A if number == candidate]) <= A_len//2:\n",
    "        return -1\n",
    "    else:\n",
    "        return candidate_index\n"
   ]
  },
  {
   "cell_type": "code",
   "execution_count": null,
   "metadata": {
    "collapsed": true
   },
   "outputs": [],
   "source": []
  },
  {
   "cell_type": "markdown",
   "metadata": {},
   "source": [
    "## EquiLeader\n",
    "A non-empty array A consisting of N integers is given.\n",
    "\n",
    "The leader of this array is the value that occurs in more than half of the elements of A.\n",
    "\n",
    "An equi leader is an index S such that 0 ≤ S < N − 1 and two sequences A[0], A[1], ..., A[S] and A[S + 1], A[S + 2], ..., A[N − 1] have leaders of the same value.\n",
    "\n",
    "For example, given array A such that:\n",
    "\n",
    "    A[0] = 4\n",
    "    A[1] = 3\n",
    "    A[2] = 4\n",
    "    A[3] = 4\n",
    "    A[4] = 4\n",
    "    A[5] = 2\n",
    "we can find two equi leaders:\n",
    "\n",
    "0, because sequences: (4) and (3, 4, 4, 4, 2) have the same leader, whose value is 4.\n",
    "2, because sequences: (4, 3, 4) and (4, 4, 2) have the same leader, whose value is 4.\n",
    "The goal is to count the number of equi leaders.\n",
    "\n",
    "Write a function:\n",
    "\n",
    "def solution(A)\n",
    "\n",
    "that, given a non-empty array A consisting of N integers, returns the number of equi leaders.\n",
    "\n",
    "For example, given:\n",
    "\n",
    "    A[0] = 4\n",
    "    A[1] = 3\n",
    "    A[2] = 4\n",
    "    A[3] = 4\n",
    "    A[4] = 4\n",
    "    A[5] = 2\n",
    "the function should return 2, as explained above.\n",
    "\n",
    "Assume that:\n",
    "\n",
    "N is an integer within the range [1..100,000];\n",
    "each element of array A is an integer within the range [−1,000,000,000..1,000,000,000].\n",
    "Complexity:\n",
    "\n",
    "expected worst-case time complexity is O(N);\n",
    "expected worst-case space complexity is O(N) (not counting the storage required for input arguments)."
   ]
  },
  {
   "cell_type": "code",
   "execution_count": 66,
   "metadata": {
    "collapsed": true
   },
   "outputs": [],
   "source": [
    "def find_leader_and_count(A):\n",
    "    N = len(A)\n",
    "    stack_size = 0\n",
    "    top_value = 0\n",
    "    \n",
    "    for i in range(N):\n",
    "        if stack_size == 0:\n",
    "            stack_size +=1\n",
    "            top_value = A[i]\n",
    "        else:\n",
    "            if top_value == A[i]:\n",
    "                stack_size +=1\n",
    "            else:\n",
    "                stack_size -=1\n",
    "        \n",
    "    if stack_size > 0:\n",
    "        candidate = top_value\n",
    "    else:\n",
    "        return -1, -1\n",
    "    \n",
    "    count = 0\n",
    "    for i in range(N):\n",
    "        if A[i] == candidate:\n",
    "            count += 1\n",
    "            \n",
    "    if count > N/2.0:\n",
    "        return top_value, count\n",
    "    else:\n",
    "        return -1, -1"
   ]
  },
  {
   "cell_type": "code",
   "execution_count": 86,
   "metadata": {
    "collapsed": true
   },
   "outputs": [],
   "source": [
    "def solution(A):\n",
    "    leader, count = find_leader_and_count(A)\n",
    "    \n",
    "    if count == -1:\n",
    "        return 0\n",
    "    \n",
    "    N = len(A)\n",
    "    leader_number_A1 = 0\n",
    "    el_counter = 0\n",
    "     \n",
    "    for i in range(N):        \n",
    "        if A[i] == leader:\n",
    "            leader_number_A1 += 1\n",
    "        leader_number_A2 = count - leader_number_A1\n",
    "            \n",
    "        if leader_number_A1 > (i+1)//2 and leader_number_A2 > (N-i-1)//2:\n",
    "            el_counter += 1\n",
    "            #print (i)\n",
    "    return  el_counter      "
   ]
  },
  {
   "cell_type": "code",
   "execution_count": 87,
   "metadata": {},
   "outputs": [
    {
     "data": {
      "text/plain": [
       "2"
      ]
     },
     "execution_count": 87,
     "metadata": {},
     "output_type": "execute_result"
    }
   ],
   "source": [
    "A = [4,3,4,4,4,2]\n",
    "solution(A)"
   ]
  },
  {
   "cell_type": "code",
   "execution_count": 88,
   "metadata": {},
   "outputs": [
    {
     "data": {
      "text/plain": [
       "0"
      ]
     },
     "execution_count": 88,
     "metadata": {},
     "output_type": "execute_result"
    }
   ],
   "source": [
    "A = [4,3,2,1]\n",
    "solution(A)"
   ]
  },
  {
   "cell_type": "code",
   "execution_count": null,
   "metadata": {
    "collapsed": true
   },
   "outputs": [],
   "source": []
  },
  {
   "cell_type": "markdown",
   "metadata": {},
   "source": [
    "# <font color='red'>Lesson 9: Maximum slice problem</font>"
   ]
  },
  {
   "cell_type": "markdown",
   "metadata": {},
   "source": [
    "## MaxDoubleSliceSum\n",
    "A non-empty array A consisting of N integers is given.\n",
    "\n",
    "A triplet (X, Y, Z), such that 0 ≤ X < Y < Z < N, is called a double slice.\n",
    "\n",
    "The sum of double slice (X, Y, Z) is the total of A[X + 1] + A[X + 2] + ... + A[Y − 1] + A[Y + 1] + A[Y + 2] + ... + A[Z − 1].\n",
    "\n",
    "For example, array A such that:\n",
    "\n",
    "    A[0] = 3\n",
    "    A[1] = 2\n",
    "    A[2] = 6\n",
    "    A[3] = -1\n",
    "    A[4] = 4\n",
    "    A[5] = 5\n",
    "    A[6] = -1\n",
    "    A[7] = 2\n",
    "contains the following example double slices:\n",
    "\n",
    "double slice (0, 3, 6), sum is 2 + 6 + 4 + 5 = 17,\n",
    "double slice (0, 3, 7), sum is 2 + 6 + 4 + 5 − 1 = 16,\n",
    "double slice (3, 4, 5), sum is 0.\n",
    "The goal is to find the maximal sum of any double slice.\n",
    "\n",
    "Write a function:\n",
    "\n",
    "def solution(A)\n",
    "\n",
    "that, given a non-empty array A consisting of N integers, returns the maximal sum of any double slice.\n",
    "\n",
    "For example, given:\n",
    "\n",
    "    A[0] = 3\n",
    "    A[1] = 2\n",
    "    A[2] = 6\n",
    "    A[3] = -1\n",
    "    A[4] = 4\n",
    "    A[5] = 5\n",
    "    A[6] = -1\n",
    "    A[7] = 2\n",
    "the function should return 17, because no double slice of array A has a sum of greater than 17.\n",
    "\n",
    "Assume that:\n",
    "\n",
    "N is an integer within the range [3..100,000];\n",
    "each element of array A is an integer within the range [−10,000..10,000].\n",
    "Complexity:\n",
    "\n",
    "expected worst-case time complexity is O(N);\n",
    "expected worst-case space complexity is O(N) (not counting the storage required for input arguments)."
   ]
  },
  {
   "cell_type": "code",
   "execution_count": 440,
   "metadata": {
    "collapsed": true
   },
   "outputs": [],
   "source": [
    "def solution(A):\n",
    "    N = len(A)\n",
    "    \n",
    "    if N < 4:\n",
    "        return 0 \n",
    "    \n",
    "    max_sum_at_ending_forward = [0] * N\n",
    "    max_sum_at_ending_reverse = [0] * N\n",
    "    \n",
    "    A_reverse = list(reversed(A))\n",
    "    \n",
    "    max_sum_at_ending = 0\n",
    "    for i in range(1,N):\n",
    "        max_sum_at_ending = max(0, max_sum_at_ending + A[i])\n",
    "        max_sum_at_ending_forward[i] = max_sum_at_ending\n",
    "        \n",
    "    max_sum_at_ending = 0\n",
    "    for i in range(1,N):\n",
    "        max_sum_at_ending = max(0, max_sum_at_ending + A_reverse[i])\n",
    "        max_sum_at_ending_reverse[i] = max_sum_at_ending\n",
    "    \n",
    "    max_sum_all_double_slices = 0\n",
    "    for i in range(1, N-1):\n",
    "        max_sum_all_double_slices = max(max_sum_all_double_slices, max_sum_at_ending_forward[i-1] + \n",
    "                                       max_sum_at_ending_reverse[N-2-i])\n",
    "        \n",
    "    return max_sum_all_double_slices"
   ]
  },
  {
   "cell_type": "code",
   "execution_count": 442,
   "metadata": {},
   "outputs": [
    {
     "data": {
      "text/plain": [
       "17"
      ]
     },
     "execution_count": 442,
     "metadata": {},
     "output_type": "execute_result"
    }
   ],
   "source": [
    "A = [3,2,6,-1,4,5,-1,2]\n",
    "solution(A)"
   ]
  },
  {
   "cell_type": "code",
   "execution_count": null,
   "metadata": {
    "collapsed": true
   },
   "outputs": [],
   "source": []
  },
  {
   "cell_type": "markdown",
   "metadata": {},
   "source": [
    "## MaxProfit\n",
    "\n",
    "\n",
    "An array A consisting of N integers is given. It contains daily prices of a stock share for a period of N consecutive days. If a single share was bought on day P and sold on day Q, where 0 ≤ P ≤ Q < N, then the profit of such transaction is equal to A[Q] − A[P], provided that A[Q] ≥ A[P]. Otherwise, the transaction brings loss of A[P] − A[Q].\n",
    "\n",
    "For example, consider the following array A consisting of six elements such that:\n",
    "\n",
    "  A[0] = 23171\n",
    "  A[1] = 21011\n",
    "  A[2] = 21123\n",
    "  A[3] = 21366\n",
    "  A[4] = 21013\n",
    "  A[5] = 21367\n",
    "If a share was bought on day 0 and sold on day 2, a loss of 2048 would occur because A[2] − A[0] = 21123 − 23171 = −2048. If a share was bought on day 4 and sold on day 5, a profit of 354 would occur because A[5] − A[4] = 21367 − 21013 = 354. Maximum possible profit was 356. It would occur if a share was bought on day 1 and sold on day 5.\n",
    "\n",
    "Write a function,\n",
    "\n",
    "def solution(A)\n",
    "\n",
    "that, given an array A consisting of N integers containing daily prices of a stock share for a period of N consecutive days, returns the maximum possible profit from one transaction during this period. The function should return 0 if it was impossible to gain any profit.\n",
    "\n",
    "For example, given array A consisting of six elements such that:\n",
    "\n",
    "  A[0] = 23171\n",
    "  A[1] = 21011\n",
    "  A[2] = 21123\n",
    "  A[3] = 21366\n",
    "  A[4] = 21013\n",
    "  A[5] = 21367\n",
    "the function should return 356, as explained above.\n",
    "\n",
    "Assume that:\n",
    "\n",
    "N is an integer within the range [0..400,000];\n",
    "each element of array A is an integer within the range [0..200,000].\n",
    "Complexity:\n",
    "\n",
    "expected worst-case time complexity is O(N);\n",
    "expected worst-case space complexity is O(1) (not counting the storage required for input arguments)."
   ]
  },
  {
   "cell_type": "code",
   "execution_count": 434,
   "metadata": {
    "collapsed": true
   },
   "outputs": [],
   "source": [
    "def solution(A):\n",
    "    max_sum_at_ending = 0\n",
    "    max_sum_all_slices = 0\n",
    "    \n",
    "    N = len(A)\n",
    "    \n",
    "    if N < 2:\n",
    "        return 0\n",
    "    \n",
    "    for i in range(1,N):\n",
    "        dif = A[i] - A[i-1]\n",
    "        max_sum_at_ending = max(0, max_sum_at_ending + dif)\n",
    "        max_sum_all_slices = max(max_sum_all_slices, max_sum_at_ending)\n",
    "        #print (dif, max_sum_at_ending, max_sum_all_slices)\n",
    "        \n",
    "    return max_sum_all_slices"
   ]
  },
  {
   "cell_type": "code",
   "execution_count": 435,
   "metadata": {},
   "outputs": [
    {
     "data": {
      "text/plain": [
       "356"
      ]
     },
     "execution_count": 435,
     "metadata": {},
     "output_type": "execute_result"
    }
   ],
   "source": [
    "A = [23171, 21011, 21123, 21366, 21013, 21367]\n",
    "solution(A)"
   ]
  },
  {
   "cell_type": "code",
   "execution_count": null,
   "metadata": {
    "collapsed": true
   },
   "outputs": [],
   "source": []
  },
  {
   "cell_type": "markdown",
   "metadata": {},
   "source": [
    "## MaxSliceSum\n",
    "\n",
    "A non-empty array A consisting of N integers is given. A pair of integers (P, Q), such that 0 ≤ P ≤ Q < N, is called a slice of array A. The sum of a slice (P, Q) is the total of A[P] + A[P+1] + ... + A[Q].\n",
    "\n",
    "Write a function:\n",
    "\n",
    "def solution(A)\n",
    "\n",
    "that, given an array A consisting of N integers, returns the maximum sum of any slice of A.\n",
    "\n",
    "For example, given array A such that:\n",
    "\n",
    "A[0] = 3  A[1] = 2  A[2] = -6\n",
    "A[3] = 4  A[4] = 0\n",
    "the function should return 5 because:\n",
    "\n",
    "(3, 4) is a slice of A that has sum 4,\n",
    "(2, 2) is a slice of A that has sum −6,\n",
    "(0, 1) is a slice of A that has sum 5,\n",
    "no other slice of A has sum greater than (0, 1).\n",
    "Assume that:\n",
    "\n",
    "N is an integer within the range [1..1,000,000];\n",
    "each element of array A is an integer within the range [−1,000,000..1,000,000];\n",
    "the result will be an integer within the range [−2,147,483,648..2,147,483,647].\n",
    "Complexity:\n",
    "\n",
    "expected worst-case time complexity is O(N);\n",
    "expected worst-case space complexity is O(N) (not counting the storage required for input arguments)."
   ]
  },
  {
   "cell_type": "code",
   "execution_count": 452,
   "metadata": {
    "collapsed": true
   },
   "outputs": [],
   "source": [
    "def solution(A):\n",
    "    \n",
    "    if all(a < 0 for a in A):\n",
    "        return max(A)\n",
    "    \n",
    "    else:\n",
    "        max_sum_at_ending = 0\n",
    "        max_sum_all_slices = 0\n",
    "\n",
    "        N = len(A)\n",
    "\n",
    "        if N == 0:\n",
    "            return 0\n",
    "\n",
    "        for i in A:\n",
    "            max_sum_at_ending = max(0, max_sum_at_ending + i)\n",
    "            max_sum_all_slices = max(max_sum_all_slices, max_sum_at_ending)\n",
    "        \n",
    "    return max_sum_all_slices"
   ]
  },
  {
   "cell_type": "code",
   "execution_count": null,
   "metadata": {
    "collapsed": true
   },
   "outputs": [],
   "source": []
  },
  {
   "cell_type": "code",
   "execution_count": 453,
   "metadata": {},
   "outputs": [
    {
     "data": {
      "text/plain": [
       "2"
      ]
     },
     "execution_count": 453,
     "metadata": {},
     "output_type": "execute_result"
    }
   ],
   "source": [
    "A = [2]\n",
    "solution(A)"
   ]
  },
  {
   "cell_type": "code",
   "execution_count": null,
   "metadata": {
    "collapsed": true
   },
   "outputs": [],
   "source": []
  },
  {
   "cell_type": "markdown",
   "metadata": {},
   "source": [
    "# <font color='red'>Lesson 10: Prime and composite numbers</font>"
   ]
  },
  {
   "cell_type": "markdown",
   "metadata": {},
   "source": [
    "##  CountFactors\n",
    "\n",
    "A positive integer D is a factor of a positive integer N if there exists an integer M such that N = D * M.\n",
    "\n",
    "For example, 6 is a factor of 24, because M = 4 satisfies the above condition (24 = 6 * 4).\n",
    "\n",
    "Write a function:\n",
    "\n",
    "def solution(N)\n",
    "\n",
    "that, given a positive integer N, returns the number of its factors.\n",
    "\n",
    "For example, given N = 24, the function should return 8, because 24 has 8 factors, namely 1, 2, 3, 4, 6, 8, 12, 24. There are no other factors of 24.\n",
    "\n",
    "Assume that:\n",
    "\n",
    "N is an integer within the range [1..2,147,483,647].\n",
    "Complexity:\n",
    "\n",
    "expected worst-case time complexity is O(sqrt(N));\n",
    "expected worst-case space complexity is O(1)."
   ]
  },
  {
   "cell_type": "code",
   "execution_count": 480,
   "metadata": {
    "collapsed": true
   },
   "outputs": [],
   "source": [
    "def solution(N):\n",
    "    count = 0\n",
    "    sqrt = int(N**0.5)\n",
    "    \n",
    "    \n",
    "    for i in range(1, sqrt+1):\n",
    "        if N%i == 0:\n",
    "            count += 2\n",
    "            \n",
    "    if sqrt**2 == N:       \n",
    "        count -= 1\n",
    "        \n",
    "    return count"
   ]
  },
  {
   "cell_type": "code",
   "execution_count": 484,
   "metadata": {},
   "outputs": [
    {
     "data": {
      "text/plain": [
       "9"
      ]
     },
     "execution_count": 484,
     "metadata": {},
     "output_type": "execute_result"
    }
   ],
   "source": [
    "solution(36)"
   ]
  },
  {
   "cell_type": "code",
   "execution_count": null,
   "metadata": {
    "collapsed": true
   },
   "outputs": [],
   "source": []
  },
  {
   "cell_type": "markdown",
   "metadata": {},
   "source": [
    "## MinPerimeterRectangle\n",
    "\n",
    "An integer N is given, representing the area of some rectangle.\n",
    "\n",
    "The area of a rectangle whose sides are of length A and B is A * B, and the perimeter is 2 * (A + B).\n",
    "\n",
    "The goal is to find the minimal perimeter of any rectangle whose area equals N. The sides of this rectangle should be only integers.\n",
    "\n",
    "For example, given integer N = 30, rectangles of area 30 are:\n",
    "\n",
    "(1, 30), with a perimeter of 62,\n",
    "(2, 15), with a perimeter of 34,\n",
    "(3, 10), with a perimeter of 26,\n",
    "(5, 6), with a perimeter of 22.\n",
    "Write a function:\n",
    "\n",
    "def solution(N)\n",
    "\n",
    "that, given an integer N, returns the minimal perimeter of any rectangle whose area is exactly equal to N.\n",
    "\n",
    "For example, given an integer N = 30, the function should return 22, as explained above.\n",
    "\n",
    "Assume that:\n",
    "\n",
    "N is an integer within the range [1..1,000,000,000].\n",
    "Complexity:\n",
    "\n",
    "expected worst-case time complexity is O(sqrt(N));\n",
    "expected worst-case space complexity is O(1)."
   ]
  },
  {
   "cell_type": "code",
   "execution_count": 511,
   "metadata": {
    "collapsed": true
   },
   "outputs": [],
   "source": [
    "def solution(N):\n",
    "    \n",
    "    i = 1\n",
    "    max_factor = 1\n",
    "    while (i * i < N):\n",
    "        if N%i == 0:\n",
    "            max_factor = i\n",
    "        i += 1\n",
    "    \n",
    "    if i * i == N:\n",
    "        max_factor = i\n",
    "    \n",
    "    a = max_factor\n",
    "    b= N/a\n",
    "    \n",
    "    return int(2*(a+b))"
   ]
  },
  {
   "cell_type": "code",
   "execution_count": 512,
   "metadata": {},
   "outputs": [
    {
     "data": {
      "text/plain": [
       "204"
      ]
     },
     "execution_count": 512,
     "metadata": {},
     "output_type": "execute_result"
    }
   ],
   "source": [
    "solution(101)"
   ]
  },
  {
   "cell_type": "code",
   "execution_count": null,
   "metadata": {
    "collapsed": true
   },
   "outputs": [],
   "source": []
  },
  {
   "cell_type": "markdown",
   "metadata": {},
   "source": [
    "## Peaks\n",
    "\n",
    "\n",
    "A non-empty array A consisting of N integers is given.\n",
    "\n",
    "A peak is an array element which is larger than its neighbors. More precisely, it is an index P such that 0 < P < N − 1,  A[P − 1] < A[P] and A[P] > A[P + 1].\n",
    "\n",
    "For example, the following array A:\n",
    "\n",
    "    A[0] = 1\n",
    "    A[1] = 2\n",
    "    A[2] = 3\n",
    "    A[3] = 4\n",
    "    A[4] = 3\n",
    "    A[5] = 4\n",
    "    A[6] = 1\n",
    "    A[7] = 2\n",
    "    A[8] = 3\n",
    "    A[9] = 4\n",
    "    A[10] = 6\n",
    "    A[11] = 2\n",
    "has exactly three peaks: 3, 5, 10.\n",
    "\n",
    "We want to divide this array into blocks containing the same number of elements. More precisely, we want to choose a number K that will yield the following blocks:\n",
    "\n",
    "A[0], A[1], ..., A[K − 1],\n",
    "A[K], A[K + 1], ..., A[2K − 1],\n",
    "...\n",
    "A[N − K], A[N − K + 1], ..., A[N − 1].\n",
    "What's more, every block should contain at least one peak. Notice that extreme elements of the blocks (for example A[K − 1] or A[K]) can also be peaks, but only if they have both neighbors (including one in an adjacent blocks).\n",
    "\n",
    "The goal is to find the maximum number of blocks into which the array A can be divided.\n",
    "\n",
    "Array A can be divided into blocks as follows:\n",
    "\n",
    "one block (1, 2, 3, 4, 3, 4, 1, 2, 3, 4, 6, 2). This block contains three peaks.\n",
    "two blocks (1, 2, 3, 4, 3, 4) and (1, 2, 3, 4, 6, 2). Every block has a peak.\n",
    "three blocks (1, 2, 3, 4), (3, 4, 1, 2), (3, 4, 6, 2). Every block has a peak. Notice in particular that the first block (1, 2, 3, 4) has a peak at A[3], because A[2] < A[3] > A[4], even though A[4] is in the adjacent block.\n",
    "However, array A cannot be divided into four blocks, (1, 2, 3), (4, 3, 4), (1, 2, 3) and (4, 6, 2), because the (1, 2, 3) blocks do not contain a peak. Notice in particular that the (4, 3, 4) block contains two peaks: A[3] and A[5].\n",
    "\n",
    "The maximum number of blocks that array A can be divided into is three.\n",
    "\n",
    "Write a function:\n",
    "\n",
    "def solution(A)\n",
    "\n",
    "that, given a non-empty array A consisting of N integers, returns the maximum number of blocks into which A can be divided.\n",
    "\n",
    "If A cannot be divided into some number of blocks, the function should return 0.\n",
    "\n",
    "For example, given:\n",
    "\n",
    "    A[0] = 1\n",
    "    A[1] = 2\n",
    "    A[2] = 3\n",
    "    A[3] = 4\n",
    "    A[4] = 3\n",
    "    A[5] = 4\n",
    "    A[6] = 1\n",
    "    A[7] = 2\n",
    "    A[8] = 3\n",
    "    A[9] = 4\n",
    "    A[10] = 6\n",
    "    A[11] = 2\n",
    "the function should return 3, as explained above.\n",
    "\n",
    "Assume that:\n",
    "\n",
    "N is an integer within the range [1..100,000];\n",
    "each element of array A is an integer within the range [0..1,000,000,000].\n",
    "Complexity:\n",
    "\n",
    "expected worst-case time complexity is O(N*log(log(N)));\n",
    "expected worst-case space complexity is O(N) (not counting the storage required for input arguments)."
   ]
  },
  {
   "cell_type": "code",
   "execution_count": 707,
   "metadata": {
    "collapsed": true
   },
   "outputs": [],
   "source": [
    "def find_factors(N):    \n",
    "    factors_1 = []\n",
    "    factors_2 = []\n",
    "    i = 1\n",
    "    while (i * i < N):\n",
    "        if N%i == 0:\n",
    "            factors_1.append(i)\n",
    "            factors_2.append(int(N/i)) \n",
    "        i += 1    \n",
    "    if i * i == N:\n",
    "        factors_1.append(i)        \n",
    "    factors = factors_1 + list(reversed(factors_2))     \n",
    "    return factors\n",
    "\n",
    "def find_peaks(A):\n",
    "    N = len(A)\n",
    "    peaks = [0] * N\n",
    "    n_peaks = 0\n",
    "    for i in range(1,N-1):\n",
    "        if A[i-1] < A[i] and  A[i] > A[i+1]:\n",
    "            peaks[i] = 1\n",
    "            n_peaks += 1\n",
    "    return n_peaks, peaks"
   ]
  },
  {
   "cell_type": "code",
   "execution_count": 731,
   "metadata": {
    "collapsed": true
   },
   "outputs": [],
   "source": [
    "def solution(A):\n",
    "    \n",
    "    N = len(A)\n",
    "    \n",
    "    n_peaks, peaks = find_peaks(A)\n",
    "    if n_peaks == 0:\n",
    "        return 0\n",
    "    \n",
    "    max_n_block = 1\n",
    "    possible_K = find_factors(N)[1:]\n",
    "    #print('possible_K',possible_K)\n",
    "    for K in possible_K:\n",
    "        n_blocks = int(N/K)\n",
    "        peak_in_all_bloack = 1\n",
    "        #print(K, n_blocks)\n",
    "        for n in range(n_blocks):\n",
    "            block_peaks = peaks[n*K : (n+1)*K]\n",
    "            #print(block_peaks)\n",
    "            peak_in_all_bloack = min(peak_in_all_bloack, sum(block_peaks))\n",
    "            #print('peak_in_all_bloack', peak_in_all_bloack)\n",
    "            \n",
    "        if  peak_in_all_bloack == 1:\n",
    "            max_n_block = n_blocks\n",
    "            break\n",
    "        #print('max_n_block', max_n_block)\n",
    "    return max_n_block       "
   ]
  },
  {
   "cell_type": "code",
   "execution_count": 734,
   "metadata": {},
   "outputs": [
    {
     "data": {
      "text/plain": [
       "0"
      ]
     },
     "execution_count": 734,
     "metadata": {},
     "output_type": "execute_result"
    }
   ],
   "source": [
    "A = [2,2,2,2]\n",
    "solution(A)"
   ]
  },
  {
   "cell_type": "code",
   "execution_count": null,
   "metadata": {
    "collapsed": true
   },
   "outputs": [],
   "source": []
  },
  {
   "cell_type": "markdown",
   "metadata": {},
   "source": [
    "## Flags\n",
    "\n",
    "A non-empty array A consisting of N integers is given.\n",
    "\n",
    "A peak is an array element which is larger than its neighbours. More precisely, it is an index P such that 0 < P < N − 1 and A[P − 1] < A[P] > A[P + 1].\n",
    "\n",
    "For example, the following array A:\n",
    "\n",
    "    A[0] = 1\n",
    "    A[1] = 5\n",
    "    A[2] = 3\n",
    "    A[3] = 4\n",
    "    A[4] = 3\n",
    "    A[5] = 4\n",
    "    A[6] = 1\n",
    "    A[7] = 2\n",
    "    A[8] = 3\n",
    "    A[9] = 4\n",
    "    A[10] = 6\n",
    "    A[11] = 2\n",
    "has exactly four peaks: elements 1, 3, 5 and 10.\n",
    "\n",
    "You are going on a trip to a range of mountains whose relative heights are represented by array A, as shown in a figure below. You have to choose how many flags you should take with you. The goal is to set the maximum number of flags on the peaks, according to certain rules.\n",
    "\n",
    "\n",
    "\n",
    "Flags can only be set on peaks. What's more, if you take K flags, then the distance between any two flags should be greater than or equal to K. The distance between indices P and Q is the absolute value |P − Q|.\n",
    "\n",
    "For example, given the mountain range represented by array A, above, with N = 12, if you take:\n",
    "\n",
    "two flags, you can set them on peaks 1 and 5;\n",
    "three flags, you can set them on peaks 1, 5 and 10;\n",
    "four flags, you can set only three flags, on peaks 1, 5 and 10.\n",
    "You can therefore set a maximum of three flags in this case.\n",
    "\n",
    "Write a function:\n",
    "\n",
    "def solution(A)\n",
    "\n",
    "that, given a non-empty array A of N integers, returns the maximum number of flags that can be set on the peaks of the array.\n",
    "\n",
    "For example, the following array A:\n",
    "\n",
    "    A[0] = 1\n",
    "    A[1] = 5\n",
    "    A[2] = 3\n",
    "    A[3] = 4\n",
    "    A[4] = 3\n",
    "    A[5] = 4\n",
    "    A[6] = 1\n",
    "    A[7] = 2\n",
    "    A[8] = 3\n",
    "    A[9] = 4\n",
    "    A[10] = 6\n",
    "    A[11] = 2\n",
    "the function should return 3, as explained above.\n",
    "\n",
    "Assume that:\n",
    "\n",
    "N is an integer within the range [1..400,000];\n",
    "each element of array A is an integer within the range [0..1,000,000,000].\n",
    "Complexity:\n",
    "\n",
    "expected worst-case time complexity is O(N);\n",
    "expected worst-case space complexity is O(N) (not counting the storage required for input arguments)."
   ]
  },
  {
   "cell_type": "code",
   "execution_count": 670,
   "metadata": {
    "collapsed": true
   },
   "outputs": [],
   "source": [
    "def find_peaks(A):\n",
    "    N = len(A)\n",
    "    peaks = [0] * N\n",
    "    #peaks[0] = 0\n",
    "    for i in range(1,N-1):\n",
    "        if A[i-1] < A[i] and  A[i] > A[i+1]:\n",
    "            peaks[i] = 1\n",
    "    return peaks\n",
    "\n",
    "def find_skip_to(peaks):\n",
    "    N = len(peaks)\n",
    "    skip_to = [0] * N\n",
    "    \n",
    "    skip_to[N-1] = -1\n",
    "    \n",
    "    for i in range(N-2, -1, -1):\n",
    "        if peaks[i] == 1:\n",
    "            skip_to[i] = i\n",
    "        else:\n",
    "            skip_to[i] = skip_to[i+1]\n",
    "        \n",
    "    return skip_to\n",
    "\n",
    "def solution(A):\n",
    "    N = len(A)\n",
    "    if N<3:\n",
    "        return 0\n",
    "    \n",
    "    max_n_flags = int(N**0.5) + 1\n",
    "    \n",
    "    peaks = find_peaks(A)\n",
    "    skip_to = find_skip_to(peaks)\n",
    "\n",
    "    result = 0\n",
    "    \n",
    "    for i in range(max_n_flags, 0, -1):\n",
    "        \n",
    "        distance_between_flag = i\n",
    "        current_flag_pos = -i\n",
    "        current_flag_n = 0\n",
    "        \n",
    "        for j in range(i):  \n",
    "            current_flag_pos = skip_to[current_flag_pos+distance_between_flag] \n",
    "            #check if current position already in non-peak area\n",
    "            if current_flag_pos == -1:\n",
    "                break\n",
    "            current_flag_n += 1\n",
    "            #check next round \n",
    "            if current_flag_pos+distance_between_flag > N-2:\n",
    "                break\n",
    "                \n",
    "        if current_flag_n >= i:\n",
    "            result = i\n",
    "            break\n",
    "        \n",
    "    return result"
   ]
  },
  {
   "cell_type": "code",
   "execution_count": 671,
   "metadata": {},
   "outputs": [
    {
     "data": {
      "text/plain": [
       "3"
      ]
     },
     "execution_count": 671,
     "metadata": {},
     "output_type": "execute_result"
    }
   ],
   "source": [
    "A= [1, 5, 3, 4, 3, 4, 1, 2, 3, 4, 6, 2]\n",
    "solution(A)"
   ]
  },
  {
   "cell_type": "code",
   "execution_count": 672,
   "metadata": {},
   "outputs": [
    {
     "data": {
      "text/plain": [
       "0"
      ]
     },
     "execution_count": 672,
     "metadata": {},
     "output_type": "execute_result"
    }
   ],
   "source": [
    "A= [3, 2, 1]\n",
    "solution(A)"
   ]
  },
  {
   "cell_type": "code",
   "execution_count": 673,
   "metadata": {},
   "outputs": [
    {
     "data": {
      "text/plain": [
       "2"
      ]
     },
     "execution_count": 673,
     "metadata": {},
     "output_type": "execute_result"
    }
   ],
   "source": [
    "A = [0, 0, 0, 0, 0, 1, 0, 1, 0, 1]\n",
    "solution(A)"
   ]
  },
  {
   "cell_type": "markdown",
   "metadata": {},
   "source": [
    "#### Tips:\n",
    "1. array has no peaks, skip_to list has -1 for all possition\n",
    "2. max flag could be int(sqrt(N)) + 1"
   ]
  },
  {
   "cell_type": "code",
   "execution_count": null,
   "metadata": {
    "collapsed": true
   },
   "outputs": [],
   "source": []
  },
  {
   "cell_type": "markdown",
   "metadata": {},
   "source": [
    "# <font color='red'>Lesson 11: Sieve of Eratosthenes</font>"
   ]
  },
  {
   "cell_type": "markdown",
   "metadata": {},
   "source": [
    "## CountSemiprimes\n",
    "\n",
    "A prime is a positive integer X that has exactly two distinct divisors: 1 and X. The first few prime integers are 2, 3, 5, 7, 11 and 13.\n",
    "\n",
    "A semiprime is a natural number that is the product of two (not necessarily distinct) prime numbers. The first few semiprimes are 4, 6, 9, 10, 14, 15, 21, 22, 25, 26.\n",
    "\n",
    "You are given two non-empty arrays P and Q, each consisting of M integers. These arrays represent queries about the number of semiprimes within specified ranges.\n",
    "\n",
    "Query K requires you to find the number of semiprimes within the range (P[K], Q[K]), where 1 ≤ P[K] ≤ Q[K] ≤ N.\n",
    "\n",
    "For example, consider an integer N = 26 and arrays P, Q such that:\n",
    "\n",
    "    P[0] = 1    Q[0] = 26\n",
    "    P[1] = 4    Q[1] = 10\n",
    "    P[2] = 16   Q[2] = 20\n",
    "The number of semiprimes within each of these ranges is as follows:\n",
    "\n",
    "(1, 26) is 10,\n",
    "(4, 10) is 4,\n",
    "(16, 20) is 0.\n",
    "Write a function:\n",
    "\n",
    "def solution(N, P, Q)\n",
    "\n",
    "that, given an integer N and two non-empty arrays P and Q consisting of M integers, returns an array consisting of M elements specifying the consecutive answers to all the queries.\n",
    "\n",
    "For example, given an integer N = 26 and arrays P, Q such that:\n",
    "\n",
    "    P[0] = 1    Q[0] = 26\n",
    "    P[1] = 4    Q[1] = 10\n",
    "    P[2] = 16   Q[2] = 20\n",
    "the function should return the values [10, 4, 0], as explained above.\n",
    "\n",
    "Assume that:\n",
    "\n",
    "N is an integer within the range [1..50,000];\n",
    "M is an integer within the range [1..30,000];\n",
    "each element of arrays P, Q is an integer within the range [1..N];\n",
    "P[i] ≤ Q[i].\n",
    "Complexity:\n",
    "\n",
    "expected worst-case time complexity is O(N*log(log(N))+M);\n",
    "expected worst-case space complexity is O(N+M) (not counting the storage required for input arguments)."
   ]
  },
  {
   "cell_type": "code",
   "execution_count": 740,
   "metadata": {
    "collapsed": true
   },
   "outputs": [],
   "source": [
    "def factorization(x, F):\n",
    "    primeFactors = []\n",
    "    while (F[x] > 0):\n",
    "        primeFactors += [F[x]]\n",
    "        x /= F[x]\n",
    "    primeFactors += [x]\n",
    "    return primeFactors"
   ]
  },
  {
   "cell_type": "code",
   "execution_count": null,
   "metadata": {
    "collapsed": true
   },
   "outputs": [],
   "source": []
  },
  {
   "cell_type": "code",
   "execution_count": 742,
   "metadata": {
    "collapsed": true
   },
   "outputs": [],
   "source": [
    "def arrayF(n):\n",
    "    F = [0] * (n + 1)\n",
    "    i=2\n",
    "    while (i * i <= n):\n",
    "        if (F[i] == 0):\n",
    "            k=i * i\n",
    "            while (k <= n):\n",
    "                if (F[k] == 0):\n",
    "                    F[k] = i;\n",
    "                k += i\n",
    "        i += 1\n",
    "    return F"
   ]
  },
  {
   "cell_type": "code",
   "execution_count": 755,
   "metadata": {
    "collapsed": true
   },
   "outputs": [],
   "source": [
    "def if_semiprime(x, F):\n",
    "    prime_factor_count = 0\n",
    "    while (F[x] > 0):\n",
    "        prime_factor_count += 1\n",
    "        if prime_factor_count > 1:\n",
    "            break\n",
    "        x = int(x/F[x])\n",
    "        #print(prime_factor_count)\n",
    "    prime_factor_count += 1\n",
    "    return 1 if prime_factor_count == 2 else 0"
   ]
  },
  {
   "cell_type": "code",
   "execution_count": 764,
   "metadata": {
    "collapsed": true
   },
   "outputs": [],
   "source": [
    "def prefix_sums(A):\n",
    "    n = len(A)\n",
    "    P = [0] * (n + 1)\n",
    "    for k in range(1, n + 1):\n",
    "        P[k] = P[k - 1] + A[k - 1]\n",
    "    return P"
   ]
  },
  {
   "cell_type": "code",
   "execution_count": 777,
   "metadata": {
    "collapsed": true
   },
   "outputs": [],
   "source": [
    "def solution(N, P, Q):\n",
    "    M = len(P)\n",
    "    \n",
    "    F = arrayF(N)\n",
    "    is_semiprime_list = [0] * N\n",
    "    for i in range(N):\n",
    "        is_semiprime_list[i] = if_semiprime(i+1, F)\n",
    "    #print(is_semiprime_list)\n",
    "    \n",
    "    prefix_sums_list = prefix_sums(is_semiprime_list)\n",
    "    #print(prefix_sums_list)\n",
    "     \n",
    "    n_semiprime_list = []\n",
    "    for i in range(M):\n",
    "        start = P[i]\n",
    "        end = Q[i]\n",
    "        n_semiprime = prefix_sums_list[end] - prefix_sums_list[start-1]\n",
    "        #print(i, start, end, n_semiprime)\n",
    "        n_semiprime_list += [n_semiprime]\n",
    "    \n",
    "    return n_semiprime_list"
   ]
  },
  {
   "cell_type": "code",
   "execution_count": 781,
   "metadata": {},
   "outputs": [
    {
     "data": {
      "text/plain": [
       "[1]"
      ]
     },
     "execution_count": 781,
     "metadata": {},
     "output_type": "execute_result"
    }
   ],
   "source": [
    "N = 4\n",
    "P = [1]\n",
    "Q = [4]\n",
    "solution(N, P, Q)"
   ]
  },
  {
   "cell_type": "code",
   "execution_count": null,
   "metadata": {
    "collapsed": true
   },
   "outputs": [],
   "source": []
  },
  {
   "cell_type": "markdown",
   "metadata": {},
   "source": [
    "## CountNonDivisible\n",
    "\n",
    "You are given an array A consisting of N integers.\n",
    "\n",
    "For each number A[i] such that 0 ≤ i < N, we want to count the number of elements of the array that are not the divisors of A[i]. We say that these elements are non-divisors.\n",
    "\n",
    "For example, consider integer N = 5 and array A such that:\n",
    "\n",
    "    A[0] = 3\n",
    "    A[1] = 1\n",
    "    A[2] = 2\n",
    "    A[3] = 3\n",
    "    A[4] = 6\n",
    "For the following elements:\n",
    "\n",
    "A[0] = 3, the non-divisors are: 2, 6,\n",
    "A[1] = 1, the non-divisors are: 3, 2, 3, 6,\n",
    "A[2] = 2, the non-divisors are: 3, 3, 6,\n",
    "A[3] = 3, the non-divisors are: 2, 6,\n",
    "A[4] = 6, there aren't any non-divisors.\n",
    "Write a function:\n",
    "\n",
    "def solution(A)\n",
    "\n",
    "that, given an array A consisting of N integers, returns a sequence of integers representing the amount of non-divisors.\n",
    "\n",
    "The sequence should be returned as:\n",
    "\n",
    "a structure Results (in C), or\n",
    "a vector of integers (in C++), or\n",
    "a record Results (in Pascal), or\n",
    "an array of integers (in any other programming language).\n",
    "For example, given:\n",
    "\n",
    "    A[0] = 3\n",
    "    A[1] = 1\n",
    "    A[2] = 2\n",
    "    A[3] = 3\n",
    "    A[4] = 6\n",
    "the function should return [2, 4, 3, 2, 0], as explained above.\n",
    "\n",
    "Assume that:\n",
    "\n",
    "N is an integer within the range [1..50,000];\n",
    "each element of array A is an integer within the range [1..2 * N].\n",
    "Complexity:\n",
    "\n",
    "expected worst-case time complexity is O(N*log(N));\n",
    "expected worst-case space complexity is O(N) (not counting the storage required for input arguments)."
   ]
  },
  {
   "cell_type": "code",
   "execution_count": null,
   "metadata": {
    "collapsed": true
   },
   "outputs": [],
   "source": []
  },
  {
   "cell_type": "code",
   "execution_count": 782,
   "metadata": {
    "collapsed": true
   },
   "outputs": [],
   "source": [
    "def solution(A):\n",
    "  \n",
    "    A_max = max(A)\n",
    "  \n",
    "    count = {}\n",
    "    for element in A:\n",
    "        if element not in count:\n",
    "            count[element] = 1\n",
    "        else:\n",
    "            count[element] += 1\n",
    "  \n",
    "    divisors = {}\n",
    "    for element in A:\n",
    "        divisors[element] = set([1, element])\n",
    "  \n",
    "    # start the Sieve of Eratosthenes\n",
    "    divisor = 2\n",
    "    while divisor*divisor <= A_max:\n",
    "        element_candidate = divisor\n",
    "        while element_candidate  <= A_max:\n",
    "            if element_candidate in divisors and not divisor in divisors[element_candidate]:\n",
    "                divisors[element_candidate].add(divisor)\n",
    "                divisors[element_candidate].add(element_candidate//divisor)\n",
    "            element_candidate += divisor\n",
    "        divisor += 1\n",
    "  \n",
    "    result = [0] * len(A)\n",
    "    for idx, element in enumerate(A):\n",
    "        result[idx] = (len(A)-sum([count.get(divisor,0) for divisor in divisors[element]]))\n",
    "  \n",
    "    return result"
   ]
  },
  {
   "cell_type": "code",
   "execution_count": null,
   "metadata": {
    "collapsed": true
   },
   "outputs": [],
   "source": []
  },
  {
   "cell_type": "markdown",
   "metadata": {},
   "source": [
    "# <font color='red'>Lesson 12: Euclidean algorithm</font>"
   ]
  },
  {
   "cell_type": "markdown",
   "metadata": {},
   "source": [
    "## ChocolatesByNumbers\n",
    "\n",
    "\n",
    "Two positive integers N and M are given. Integer N represents the number of chocolates arranged in a circle, numbered from 0 to N − 1.\n",
    "\n",
    "You start to eat the chocolates. After eating a chocolate you leave only a wrapper.\n",
    "\n",
    "You begin with eating chocolate number 0. Then you omit the next M − 1 chocolates or wrappers on the circle, and eat the following one.\n",
    "\n",
    "More precisely, if you ate chocolate number X, then you will next eat the chocolate with number (X + M) modulo N (remainder of division).\n",
    "\n",
    "You stop eating when you encounter an empty wrapper.\n",
    "\n",
    "For example, given integers N = 10 and M = 4. You will eat the following chocolates: 0, 4, 8, 2, 6.\n",
    "\n",
    "The goal is to count the number of chocolates that you will eat, following the above rules.\n",
    "\n",
    "Write a function:\n",
    "\n",
    "def solution(N, M)\n",
    "\n",
    "that, given two positive integers N and M, returns the number of chocolates that you will eat.\n",
    "\n",
    "For example, given integers N = 10 and M = 4. the function should return 5, as explained above.\n",
    "\n",
    "Assume that:\n",
    "\n",
    "N and M are integers within the range [1..1,000,000,000].\n",
    "Complexity:\n",
    "\n",
    "expected worst-case time complexity is O(log(N+M));\n",
    "expected worst-case space complexity is O(log(N+M))."
   ]
  },
  {
   "cell_type": "code",
   "execution_count": 784,
   "metadata": {
    "collapsed": true
   },
   "outputs": [],
   "source": [
    "def gcd(a,b):\n",
    "    if a%b != 0:\n",
    "        return gcd(b, a%b)\n",
    "    else:\n",
    "        return b"
   ]
  },
  {
   "cell_type": "code",
   "execution_count": 788,
   "metadata": {
    "collapsed": true
   },
   "outputs": [],
   "source": [
    "def solution(N, M):\n",
    "    gcd_NM = gcd(N, M)\n",
    "    lcm_NM = N*M/gcd_NM\n",
    "    return int(lcm_NM/M)"
   ]
  },
  {
   "cell_type": "code",
   "execution_count": 789,
   "metadata": {},
   "outputs": [
    {
     "data": {
      "text/plain": [
       "1"
      ]
     },
     "execution_count": 789,
     "metadata": {},
     "output_type": "execute_result"
    }
   ],
   "source": [
    "solution(1, 5)"
   ]
  },
  {
   "cell_type": "code",
   "execution_count": null,
   "metadata": {
    "collapsed": true
   },
   "outputs": [],
   "source": []
  },
  {
   "cell_type": "markdown",
   "metadata": {},
   "source": [
    "## CommonPrimeDivisors\n",
    "\n",
    "A prime is a positive integer X that has exactly two distinct divisors: 1 and X. The first few prime integers are 2, 3, 5, 7, 11 and 13.\n",
    "\n",
    "A prime D is called a prime divisor of a positive integer P if there exists a positive integer K such that D * K = P. For example, 2 and 5 are prime divisors of 20.\n",
    "\n",
    "You are given two positive integers N and M. The goal is to check whether the sets of prime divisors of integers N and M are exactly the same.\n",
    "\n",
    "For example, given:\n",
    "\n",
    "N = 15 and M = 75, the prime divisors are the same: {3, 5};\n",
    "N = 10 and M = 30, the prime divisors aren't the same: {2, 5} is not equal to {2, 3, 5};\n",
    "N = 9 and M = 5, the prime divisors aren't the same: {3} is not equal to {5}.\n",
    "Write a function:\n",
    "\n",
    "def solution(A, B)\n",
    "\n",
    "that, given two non-empty arrays A and B of Z integers, returns the number of positions K for which the prime divisors of A[K] and B[K] are exactly the same.\n",
    "\n",
    "For example, given:\n",
    "\n",
    "    A[0] = 15   B[0] = 75\n",
    "    A[1] = 10   B[1] = 30\n",
    "    A[2] = 3    B[2] = 5\n",
    "the function should return 1, because only one pair (15, 75) has the same set of prime divisors.\n",
    "\n",
    "Assume that:\n",
    "\n",
    "Z is an integer within the range [1..6,000];\n",
    "each element of arrays A, B is an integer within the range [1..2,147,483,647].\n",
    "Complexity:\n",
    "\n",
    "expected worst-case time complexity is O(Z*log(max(A)+max(B))2);\n",
    "expected worst-case space complexity is O(1) (not counting the storage required for input arguments)."
   ]
  },
  {
   "cell_type": "code",
   "execution_count": 812,
   "metadata": {
    "collapsed": true
   },
   "outputs": [],
   "source": [
    "def gcd(a,b):\n",
    "    if a%b != 0:\n",
    "        return gcd(b, a%b)\n",
    "    else:\n",
    "        return b"
   ]
  },
  {
   "cell_type": "code",
   "execution_count": 830,
   "metadata": {
    "collapsed": true
   },
   "outputs": [],
   "source": [
    "def if_common_prime_divisor(a,b):\n",
    "\n",
    "    gcd_ab = gcd(a,b)\n",
    "    #print(gcd_ab)\n",
    "    q_a = a/gcd_ab\n",
    "    q_b = b/gcd_ab\n",
    "    #print(q_a, q_b)\n",
    "    \n",
    "    gcd_q = gcd(gcd_ab, q_a)\n",
    "    while (gcd_q != 1):\n",
    "        q_a = q_a/gcd_q\n",
    "        gcd_q = gcd(q_a, gcd_q)\n",
    "        #print (gcd_q)\n",
    "    if q_a == 1:\n",
    "        if_all_a_prime_divisor_in_gcd = True\n",
    "    else:\n",
    "        if_all_a_prime_divisor_in_gcd = False\n",
    "    \n",
    "    gcd_q = gcd(gcd_ab, q_b)\n",
    "    while (gcd_q != 1):\n",
    "        q_b = q_b/gcd_q\n",
    "        gcd_q = gcd(q_b, gcd_q)\n",
    "    if q_b == 1:\n",
    "        if_all_b_prime_divisor_in_gcd = True\n",
    "    else:\n",
    "        if_all_b_prime_divisor_in_gcd = False \n",
    "        \n",
    "    return if_all_a_prime_divisor_in_gcd and if_all_b_prime_divisor_in_gcd"
   ]
  },
  {
   "cell_type": "code",
   "execution_count": 831,
   "metadata": {
    "collapsed": true
   },
   "outputs": [],
   "source": [
    "def solution(A, B):\n",
    "    Z = len(A)\n",
    "    \n",
    "    K = 0\n",
    "    for i in range(Z):\n",
    "        if if_common_prime_divisor(A[i],B[i]):\n",
    "            K +=1\n",
    "    #print(A[i], B[i])\n",
    "    return K"
   ]
  },
  {
   "cell_type": "code",
   "execution_count": 832,
   "metadata": {},
   "outputs": [
    {
     "data": {
      "text/plain": [
       "1"
      ]
     },
     "execution_count": 832,
     "metadata": {},
     "output_type": "execute_result"
    }
   ],
   "source": [
    "A = [15,10,3]\n",
    "B = [75,30,5]\n",
    "solution(A, B)"
   ]
  },
  {
   "cell_type": "code",
   "execution_count": 833,
   "metadata": {},
   "outputs": [
    {
     "data": {
      "text/plain": [
       "1"
      ]
     },
     "execution_count": 833,
     "metadata": {},
     "output_type": "execute_result"
    }
   ],
   "source": [
    "A = [1]\n",
    "B = [1]\n",
    "solution(A, B)"
   ]
  },
  {
   "cell_type": "code",
   "execution_count": null,
   "metadata": {
    "collapsed": true
   },
   "outputs": [],
   "source": []
  },
  {
   "cell_type": "markdown",
   "metadata": {},
   "source": [
    "# <font color='red'>Lesson 13: Fibonacci numbers</font>"
   ]
  },
  {
   "cell_type": "markdown",
   "metadata": {},
   "source": [
    "## Ladder\n",
    "\n",
    "\n",
    "You have to climb up a ladder. The ladder has exactly N rungs, numbered from 1 to N. With each step, you can ascend by one or two rungs. More precisely:\n",
    "\n",
    "with your first step you can stand on rung 1 or 2,\n",
    "if you are on rung K, you can move to rungs K + 1 or K + 2,\n",
    "finally you have to stand on rung N.\n",
    "Your task is to count the number of different ways of climbing to the top of the ladder.\n",
    "\n",
    "For example, given N = 4, you have five different ways of climbing, ascending by:\n",
    "\n",
    "1, 1, 1 and 1 rung,\n",
    "1, 1 and 2 rungs,\n",
    "1, 2 and 1 rung,\n",
    "2, 1 and 1 rungs, and\n",
    "2 and 2 rungs.\n",
    "Given N = 5, you have eight different ways of climbing, ascending by:\n",
    "\n",
    "1, 1, 1, 1 and 1 rung,\n",
    "1, 1, 1 and 2 rungs,\n",
    "1, 1, 2 and 1 rung,\n",
    "1, 2, 1 and 1 rung,\n",
    "1, 2 and 2 rungs,\n",
    "2, 1, 1 and 1 rungs,\n",
    "2, 1 and 2 rungs, and\n",
    "2, 2 and 1 rung.\n",
    "The number of different ways can be very large, so it is sufficient to return the result modulo 2P, for a given integer P.\n",
    "\n",
    "Write a function:\n",
    "\n",
    "def solution(A, B)\n",
    "\n",
    "that, given two non-empty arrays A and B of L integers, returns an array consisting of L integers specifying the consecutive answers; position I should contain the number of different ways of climbing the ladder with A[I] rungs modulo 2B[I].\n",
    "\n",
    "For example, given L = 5 and:\n",
    "\n",
    "    A[0] = 4   B[0] = 3\n",
    "    A[1] = 4   B[1] = 2\n",
    "    A[2] = 5   B[2] = 4\n",
    "    A[3] = 5   B[3] = 3\n",
    "    A[4] = 1   B[4] = 1\n",
    "the function should return the sequence [5, 1, 8, 0, 1], as explained above.\n",
    "\n",
    "Assume that:\n",
    "\n",
    "L is an integer within the range [1..50,000];\n",
    "each element of array A is an integer within the range [1..L];\n",
    "each element of array B is an integer within the range [1..30].\n",
    "Complexity:\n",
    "\n",
    "expected worst-case time complexity is O(L);\n",
    "expected worst-case space complexity is O(L) (not counting the storage required for input arguments).\n"
   ]
  },
  {
   "cell_type": "code",
   "execution_count": 878,
   "metadata": {
    "collapsed": true
   },
   "outputs": [],
   "source": [
    "def fibonacciDynamic(n):\n",
    "    fib = [0] * (n + 1)\n",
    "    fib[1] = 1\n",
    "    for i in range(2, n+1):\n",
    "        fib[i] = fib[i-1] + fib[i-2]\n",
    "    return fib"
   ]
  },
  {
   "cell_type": "code",
   "execution_count": 889,
   "metadata": {
    "collapsed": true
   },
   "outputs": [],
   "source": [
    "def solution(A, B):\n",
    "    \n",
    "    L = len(A)\n",
    "    \n",
    "    fib = fibonacciDynamic(L+1)\n",
    "#     exp_of_2 = [1] * 31\n",
    "#     for i in range(1,31):\n",
    "#         exp_of_2[i] *= exp_of_2[i-1] * 2\n",
    "    \n",
    "    mod_list = []\n",
    "    for i in range(L):\n",
    "        stairs = A[i]\n",
    "        n_ways = fib[stairs+1]\n",
    "#         mod = n_ways & (exp_of_2[B[i]] - 1)\n",
    "        mod = n_ways & ((1<<B[i]) - 1)\n",
    "        mod_list += [mod]\n",
    "    \n",
    "    return mod_list"
   ]
  },
  {
   "cell_type": "code",
   "execution_count": 890,
   "metadata": {},
   "outputs": [
    {
     "data": {
      "text/plain": [
       "[5, 1, 8, 0, 1]"
      ]
     },
     "execution_count": 890,
     "metadata": {},
     "output_type": "execute_result"
    }
   ],
   "source": [
    "A = [4,4,5,5,1]\n",
    "B = [3,2,4,3,1]\n",
    "solution(A, B)"
   ]
  },
  {
   "cell_type": "code",
   "execution_count": null,
   "metadata": {
    "collapsed": true
   },
   "outputs": [],
   "source": []
  },
  {
   "cell_type": "markdown",
   "metadata": {},
   "source": [
    "## FibFrog\n",
    "\n",
    "The Fibonacci sequence is defined using the following recursive formula:\n",
    "\n",
    "    F(0) = 0\n",
    "    F(1) = 1\n",
    "    F(M) = F(M - 1) + F(M - 2) if M >= 2\n",
    "A small frog wants to get to the other side of a river. The frog is initially located at one bank of the river (position −1) and wants to get to the other bank (position N). The frog can jump over any distance F(K), where F(K) is the K-th Fibonacci number. Luckily, there are many leaves on the river, and the frog can jump between the leaves, but only in the direction of the bank at position N.\n",
    "\n",
    "The leaves on the river are represented in an array A consisting of N integers. Consecutive elements of array A represent consecutive positions from 0 to N − 1 on the river. Array A contains only 0s and/or 1s:\n",
    "\n",
    "0 represents a position without a leaf;\n",
    "1 represents a position containing a leaf.\n",
    "The goal is to count the minimum number of jumps in which the frog can get to the other side of the river (from position −1 to position N). The frog can jump between positions −1 and N (the banks of the river) and every position containing a leaf.\n",
    "\n",
    "For example, consider array A such that:\n",
    "\n",
    "    A[0] = 0\n",
    "    A[1] = 0\n",
    "    A[2] = 0\n",
    "    A[3] = 1\n",
    "    A[4] = 1\n",
    "    A[5] = 0\n",
    "    A[6] = 1\n",
    "    A[7] = 0\n",
    "    A[8] = 0\n",
    "    A[9] = 0\n",
    "    A[10] = 0\n",
    "The frog can make three jumps of length F(5) = 5, F(3) = 2 and F(5) = 5.\n",
    "\n",
    "Write a function:\n",
    "\n",
    "def solution(A)\n",
    "\n",
    "that, given an array A consisting of N integers, returns the minimum number of jumps by which the frog can get to the other side of the river. If the frog cannot reach the other side of the river, the function should return −1.\n",
    "\n",
    "For example, given:\n",
    "\n",
    "    A[0] = 0\n",
    "    A[1] = 0\n",
    "    A[2] = 0\n",
    "    A[3] = 1\n",
    "    A[4] = 1\n",
    "    A[5] = 0\n",
    "    A[6] = 1\n",
    "    A[7] = 0\n",
    "    A[8] = 0\n",
    "    A[9] = 0\n",
    "    A[10] = 0\n",
    "the function should return 3, as explained above.\n",
    "\n",
    "Assume that:\n",
    "\n",
    "N is an integer within the range [0..100,000];\n",
    "each element of array A is an integer that can have one of the following values: 0, 1.\n",
    "Complexity:\n",
    "\n",
    "expected worst-case time complexity is O(N*log(N));\n",
    "expected worst-case space complexity is O(N) (not counting the storage required for input arguments)."
   ]
  },
  {
   "cell_type": "code",
   "execution_count": 891,
   "metadata": {
    "collapsed": true
   },
   "outputs": [],
   "source": [
    "def fibonacciDynamic_to_N(N):\n",
    "    fib = [0,1]\n",
    "    for i in range(2, N+1):\n",
    "        fib_next = fib[i-1] + fib[i-2] \n",
    "        if fib_next > N:\n",
    "            break\n",
    "        else:\n",
    "            fib.append(fib_next)\n",
    "    return fib"
   ]
  },
  {
   "cell_type": "code",
   "execution_count": 89,
   "metadata": {
    "collapsed": true
   },
   "outputs": [],
   "source": [
    "def fibonacciDynamic_to_N(N):\n",
    "    fib = [0,1]\n",
    "    for i in range(2, N+1):\n",
    "        fib_next = fib[i-1] + fib[i-2] \n",
    "        if fib_next > N:\n",
    "            break\n",
    "        else:\n",
    "            fib.append(fib_next)\n",
    "    return fib\n",
    "\n",
    "def solution(A):\n",
    "    N = len(A)\n",
    "    \n",
    "    if N == 0:\n",
    "        return 1\n",
    "    \n",
    "    A.append(1)\n",
    "    \n",
    "    fib = fibonacciDynamic_to_N(N+2)[2:]\n",
    "    n_fib = len(fib)\n",
    "    #print(fib)\n",
    "    \n",
    "    min_jump = [N+1]*(N+1)\n",
    "    #print(min_jump)\n",
    "    for i in range(N+1):\n",
    "        if A[i] != 0:\n",
    "            j = 0\n",
    "            while (j < n_fib and i - fib[j] >= -1):\n",
    "                #print(i - fib[j])\n",
    "                if i - fib[j] == -1:\n",
    "                    min_jump[i] = 1\n",
    "                elif A[i - fib[j]] == 1:\n",
    "                    min_jump[i] = min(min_jump[i], min_jump[i - fib[j]]+1)\n",
    "                #print(i, j, min_jump) \n",
    "                j +=1\n",
    "                 \n",
    "            if min_jump[i] == N+1:\n",
    "                A[i] = 0\n",
    "        #print(A, min_jump)\n",
    "    if min_jump[-1] == N+1:\n",
    "        return -1\n",
    "    else:\n",
    "        return min_jump[-1]"
   ]
  },
  {
   "cell_type": "code",
   "execution_count": 90,
   "metadata": {},
   "outputs": [
    {
     "data": {
      "text/plain": [
       "1"
      ]
     },
     "execution_count": 90,
     "metadata": {},
     "output_type": "execute_result"
    }
   ],
   "source": [
    "A = []\n",
    "solution(A)"
   ]
  },
  {
   "cell_type": "code",
   "execution_count": 91,
   "metadata": {},
   "outputs": [
    {
     "data": {
      "text/plain": [
       "3"
      ]
     },
     "execution_count": 91,
     "metadata": {},
     "output_type": "execute_result"
    }
   ],
   "source": [
    "A = [0,0,0,1,1,0,1,0,0,0,0]\n",
    "solution(A)"
   ]
  },
  {
   "cell_type": "code",
   "execution_count": null,
   "metadata": {
    "collapsed": true
   },
   "outputs": [],
   "source": []
  },
  {
   "cell_type": "markdown",
   "metadata": {},
   "source": [
    "# <font color='red'>Lesson 14: Binary search algorithm</font>"
   ]
  },
  {
   "cell_type": "markdown",
   "metadata": {},
   "source": [
    "## MinMaxDivision\n",
    "\n",
    "You are given integers K, M and a non-empty array A consisting of N integers. Every element of the array is not greater than M.\n",
    "\n",
    "You should divide this array into K blocks of consecutive elements. The size of the block is any integer between 0 and N. Every element of the array should belong to some block.\n",
    "\n",
    "The sum of the block from X to Y equals A[X] + A[X + 1] + ... + A[Y]. The sum of empty block equals 0.\n",
    "\n",
    "The large sum is the maximal sum of any block.\n",
    "\n",
    "For example, you are given integers K = 3, M = 5 and array A such that:\n",
    "\n",
    "  A[0] = 2\n",
    "  A[1] = 1\n",
    "  A[2] = 5\n",
    "  A[3] = 1\n",
    "  A[4] = 2\n",
    "  A[5] = 2\n",
    "  A[6] = 2\n",
    "The array can be divided, for example, into the following blocks:\n",
    "\n",
    "[2, 1, 5, 1, 2, 2, 2], [], [] with a large sum of 15;\n",
    "[2], [1, 5, 1, 2], [2, 2] with a large sum of 9;\n",
    "[2, 1, 5], [], [1, 2, 2, 2] with a large sum of 8;\n",
    "[2, 1], [5, 1], [2, 2, 2] with a large sum of 6.\n",
    "The goal is to minimize the large sum. In the above example, 6 is the minimal large sum.\n",
    "\n",
    "Write a function:\n",
    "\n",
    "def solution(K, M, A)\n",
    "\n",
    "that, given integers K, M and a non-empty array A consisting of N integers, returns the minimal large sum.\n",
    "\n",
    "For example, given K = 3, M = 5 and array A such that:\n",
    "\n",
    "  A[0] = 2\n",
    "  A[1] = 1\n",
    "  A[2] = 5\n",
    "  A[3] = 1\n",
    "  A[4] = 2\n",
    "  A[5] = 2\n",
    "  A[6] = 2\n",
    "the function should return 6, as explained above.\n",
    "\n",
    "Assume that:\n",
    "\n",
    "N and K are integers within the range [1..100,000];\n",
    "M is an integer within the range [0..10,000];\n",
    "each element of array A is an integer within the range [0..M].\n",
    "Complexity:\n",
    "\n",
    "expected worst-case time complexity is O(N*log(N+M));\n",
    "expected worst-case space complexity is O(1) (not counting the storage required for input arguments)."
   ]
  },
  {
   "cell_type": "code",
   "execution_count": 1037,
   "metadata": {
    "collapsed": true
   },
   "outputs": [],
   "source": [
    "def check_n_needed_slices(A, min_large_sum):\n",
    "    N = len(A)\n",
    "    n_needed_slices = 0\n",
    "    current_sum = 0\n",
    "    for i in range(N):\n",
    "        current_sum += A[i]\n",
    "        if i == N-1 or current_sum + A[i+1] > min_large_sum:\n",
    "            n_needed_slices += 1\n",
    "            current_sum = 0\n",
    "       # print(i,current_sum, n_needed_slices)\n",
    "    return n_needed_slices"
   ]
  },
  {
   "cell_type": "code",
   "execution_count": 1073,
   "metadata": {
    "collapsed": true
   },
   "outputs": [],
   "source": [
    "def solution(K, M, A):\n",
    "    N = len(A)\n",
    "    M = max(A)\n",
    "    \n",
    "    min_large_sum_start  = M\n",
    "    min_large_sum_end  = sum(A)\n",
    "    min_large_sum = 0\n",
    "    \n",
    "    while (min_large_sum_start <= min_large_sum_end):\n",
    "        mid = (min_large_sum_start + min_large_sum_end)//2\n",
    "\n",
    "        if check_n_needed_slices(A, mid) <= K:\n",
    "            min_large_sum_end = mid - 1\n",
    "            min_large_sum = mid\n",
    "        else:\n",
    "            min_large_sum_start = mid + 1\n",
    "            \n",
    "    return min_large_sum"
   ]
  },
  {
   "cell_type": "code",
   "execution_count": 1076,
   "metadata": {},
   "outputs": [
    {
     "data": {
      "text/plain": [
       "0"
      ]
     },
     "execution_count": 1076,
     "metadata": {},
     "output_type": "execute_result"
    }
   ],
   "source": [
    "A = [0]\n",
    "\n",
    "solution(3, 5, A)"
   ]
  },
  {
   "cell_type": "code",
   "execution_count": null,
   "metadata": {
    "collapsed": true
   },
   "outputs": [],
   "source": []
  },
  {
   "cell_type": "markdown",
   "metadata": {},
   "source": [
    "## NailingPlanks\n",
    "\n",
    "You are given two non-empty arrays A and B consisting of N integers. These arrays represent N planks. More precisely, A[K] is the start and B[K] the end of the K−th plank.\n",
    "\n",
    "Next, you are given a non-empty array C consisting of M integers. This array represents M nails. More precisely, C[I] is the position where you can hammer in the I−th nail.\n",
    "\n",
    "We say that a plank (A[K], B[K]) is nailed if there exists a nail C[I] such that A[K] ≤ C[I] ≤ B[K].\n",
    "\n",
    "The goal is to find the minimum number of nails that must be used until all the planks are nailed. In other words, you should find a value J such that all planks will be nailed after using only the first J nails. More precisely, for every plank (A[K], B[K]) such that 0 ≤ K < N, there should exist a nail C[I] such that I < J and A[K] ≤ C[I] ≤ B[K].\n",
    "\n",
    "For example, given arrays A, B such that:\n",
    "\n",
    "    A[0] = 1    B[0] = 4\n",
    "    A[1] = 4    B[1] = 5\n",
    "    A[2] = 5    B[2] = 9\n",
    "    A[3] = 8    B[3] = 10\n",
    "four planks are represented: [1, 4], [4, 5], [5, 9] and [8, 10].\n",
    "\n",
    "Given array C such that:\n",
    "\n",
    "    C[0] = 4\n",
    "    C[1] = 6\n",
    "    C[2] = 7\n",
    "    C[3] = 10\n",
    "    C[4] = 2\n",
    "if we use the following nails:\n",
    "\n",
    "0, then planks [1, 4] and [4, 5] will both be nailed.\n",
    "0, 1, then planks [1, 4], [4, 5] and [5, 9] will be nailed.\n",
    "0, 1, 2, then planks [1, 4], [4, 5] and [5, 9] will be nailed.\n",
    "0, 1, 2, 3, then all the planks will be nailed.\n",
    "Thus, four is the minimum number of nails that, used sequentially, allow all the planks to be nailed.\n",
    "\n",
    "Write a function:\n",
    "\n",
    "def solution(A, B, C)\n",
    "\n",
    "that, given two non-empty arrays A and B consisting of N integers and a non-empty array C consisting of M integers, returns the minimum number of nails that, used sequentially, allow all the planks to be nailed.\n",
    "\n",
    "If it is not possible to nail all the planks, the function should return −1.\n",
    "\n",
    "For example, given arrays A, B, C such that:\n",
    "\n",
    "    A[0] = 1    B[0] = 4\n",
    "    A[1] = 4    B[1] = 5\n",
    "    A[2] = 5    B[2] = 9\n",
    "    A[3] = 8    B[3] = 10\n",
    "\n",
    "    C[0] = 4\n",
    "    C[1] = 6\n",
    "    C[2] = 7\n",
    "    C[3] = 10\n",
    "    C[4] = 2\n",
    "the function should return 4, as explained above.\n",
    "\n",
    "Assume that:\n",
    "\n",
    "N and M are integers within the range [1..30,000];\n",
    "each element of arrays A, B, C is an integer within the range [1..2*M];\n",
    "A[K] ≤ B[K].\n",
    "Complexity:\n",
    "\n",
    "expected worst-case time complexity is O((N+M)*log(M));\n",
    "expected worst-case space complexity is O(M) (not counting the storage required for input arguments)."
   ]
  },
  {
   "cell_type": "code",
   "execution_count": 1016,
   "metadata": {},
   "outputs": [
    {
     "data": {
      "text/plain": [
       "[(1, 1), (0, 3), (2, 4), (3, 6)]"
      ]
     },
     "execution_count": 1016,
     "metadata": {},
     "output_type": "execute_result"
    }
   ],
   "source": [
    "C = [3,1,4,6]\n",
    "nails = sorted(enumerate(C), key = lambda x: x[1])\n",
    "nails"
   ]
  },
  {
   "cell_type": "code",
   "execution_count": 1019,
   "metadata": {
    "collapsed": true
   },
   "outputs": [],
   "source": [
    "# you can write to stdout for debugging purposes, e.g.\n",
    "# print(\"this is a debug message\")\n",
    "\n",
    "def _findFirstNail(plankBegin, plankEnd, nails, preResult):\n",
    "    # Function: find the nails, that could nail this plank.\n",
    "    #\n",
    "    # Input: plankBegin: the begin position of current plank\n",
    "    #        plankEnd: the end position of current plank\n",
    "    #        nails: the nails' position and index\n",
    "    #        preResult: for all of the previous planks, the\n",
    "    #           first preResult+1 nails in original array\n",
    "    #           could be sequentially used to nail them.\n",
    "    #\n",
    "    # Return: If all these nails are after the preResult's\n",
    "    #       position, return the first nail's position in\n",
    "    #       the original nails' array.\n",
    "    #       Else, return the preResult as the result.\n",
    " \n",
    "    result = -1     # The index of nail in the original array\n",
    "    resultPos = -1  # The index of nail in the sorted array\n",
    " \n",
    "    nailLower = 0\n",
    "    nailUpper = len(nails) - 1\n",
    "    nailMid = 0\n",
    " \n",
    "    # Find the first nail, whose postion >= plankBegin and\n",
    "    #   position <= plankEnd, with binary search algorithm\n",
    "    while nailLower <= nailUpper:\n",
    "        nailMid = int((nailLower + nailUpper) / 2)\n",
    "        nailPosMid = nails[nailMid][1]\n",
    "        if nailPosMid < plankBegin:\n",
    "            nailLower = nailMid + 1\n",
    "        elif nailPosMid > plankEnd:\n",
    "            nailUpper = nailMid - 1\n",
    "        else:\n",
    "            nailUpper = nailMid - 1\n",
    "            result = nails[nailMid][0]\n",
    "            resultPos = nailMid\n",
    " \n",
    "    # Cannot find one, which could nail the plank\n",
    "    if result == -1:                        return -1\n",
    " \n",
    "    # Linear search all the quanlified nails, and find\n",
    "    # out the one with the earliest position.\n",
    "    resultPos += 1\n",
    "    while resultPos < len(nails):\n",
    "        # Not quanlified anymore.\n",
    "        if nails[resultPos][1] > plankEnd:  break\n",
    "        result = min(result, nails[resultPos][0])\n",
    "        resultPos += 1\n",
    "        # If we find a position before the preResult. We could\n",
    "        # terminate our search and return.\n",
    "        # With a position before the preResult, the result for\n",
    "        # this round must <= preResult. And globally, the final\n",
    "        # result is the maximum of ALL the results in each rounds.\n",
    "        # So the result of this round actually does not affect\n",
    "        # the final result.\n",
    "        if preResult >= result:             return preResult\n",
    " \n",
    "    return max(result, preResult)\n",
    " \n",
    "def solution(A, B, C):\n",
    "    # Sort the nails according to their positions\n",
    "    nails = sorted(enumerate(C), key = lambda x: x[1])\n",
    "    result = -1\n",
    " \n",
    "    for plankIndex in range(len(A)):\n",
    "        # Find a nail for the current plank\n",
    "        result = _findFirstNail(A[plankIndex], B[plankIndex], nails, result)\n",
    "        if result == -1:  return -1     # Cannot find such a nail\n",
    " \n",
    "    return result + 1"
   ]
  },
  {
   "cell_type": "code",
   "execution_count": 1020,
   "metadata": {},
   "outputs": [
    {
     "data": {
      "text/plain": [
       "4"
      ]
     },
     "execution_count": 1020,
     "metadata": {},
     "output_type": "execute_result"
    }
   ],
   "source": [
    "A = [1,4,5,8]\n",
    "B = [4,5,9,10]\n",
    "C = [4,6,7,10,2]\n",
    "\n",
    "solution(A, B, C)"
   ]
  },
  {
   "cell_type": "code",
   "execution_count": null,
   "metadata": {
    "collapsed": true
   },
   "outputs": [],
   "source": []
  },
  {
   "cell_type": "markdown",
   "metadata": {},
   "source": [
    "# <font color='red'>Lesson 15: Caterpillar method</font>"
   ]
  },
  {
   "cell_type": "markdown",
   "metadata": {},
   "source": [
    "## AbsDistinct\n",
    "\n",
    "A non-empty array A consisting of N numbers is given. The array is sorted in non-decreasing order. The absolute distinct count of this array is the number of distinct absolute values among the elements of the array.\n",
    "\n",
    "For example, consider array A such that:\n",
    "\n",
    "  A[0] = -5\n",
    "  A[1] = -3\n",
    "  A[2] = -1\n",
    "  A[3] =  0\n",
    "  A[4] =  3\n",
    "  A[5] =  6\n",
    "The absolute distinct count of this array is 5, because there are 5 distinct absolute values among the elements of this array, namely 0, 1, 3, 5 and 6.\n",
    "\n",
    "Write a function:\n",
    "\n",
    "def solution(A)\n",
    "\n",
    "that, given a non-empty array A consisting of N numbers, returns absolute distinct count of array A.\n",
    "\n",
    "For example, given array A such that:\n",
    "\n",
    "  A[0] = -5\n",
    "  A[1] = -3\n",
    "  A[2] = -1\n",
    "  A[3] =  0\n",
    "  A[4] =  3\n",
    "  A[5] =  6\n",
    "the function should return 5, as explained above.\n",
    "\n",
    "Assume that:\n",
    "\n",
    "N is an integer within the range [1..100,000];\n",
    "each element of array A is an integer within the range [−2,147,483,648..2,147,483,647];\n",
    "array A is sorted in non-decreasing order.\n",
    "Complexity:\n",
    "\n",
    "expected worst-case time complexity is O(N);\n",
    "expected worst-case space complexity is O(N) (not counting the storage required for input arguments)."
   ]
  },
  {
   "cell_type": "code",
   "execution_count": 92,
   "metadata": {
    "collapsed": true
   },
   "outputs": [],
   "source": [
    "def solution(A):\n",
    "    count_dic = {}\n",
    "    for a in A:\n",
    "        if abs(a) not in count_dic:\n",
    "            count_dic[abs(a)] = 1\n",
    "    return len(count_dic.keys())"
   ]
  },
  {
   "cell_type": "code",
   "execution_count": 93,
   "metadata": {},
   "outputs": [
    {
     "data": {
      "text/plain": [
       "5"
      ]
     },
     "execution_count": 93,
     "metadata": {},
     "output_type": "execute_result"
    }
   ],
   "source": [
    "A = [-5,-3,-1,0,3,6]\n",
    "solution(A)"
   ]
  },
  {
   "cell_type": "code",
   "execution_count": 94,
   "metadata": {
    "collapsed": true
   },
   "outputs": [],
   "source": [
    "def solution(A):\n",
    "    n = len(A)\n",
    "    start = 0\n",
    "    end = n-1\n",
    "    \n",
    "    distinct_count = 0\n",
    "    pre_remove = None\n",
    "   # print(start, end, distinct_count, pre_remove)  \n",
    "    while (start <= end):\n",
    "        if abs(A[start]) > abs(A[end]):\n",
    "            if pre_remove != abs(A[start]):                \n",
    "                distinct_count += 1\n",
    "            pre_remove = abs(A[start])\n",
    "            start += 1\n",
    "        elif abs(A[start]) < abs(A[end]):           \n",
    "            if pre_remove != abs(A[end]):                \n",
    "                distinct_count += 1\n",
    "            pre_remove = abs(A[end])\n",
    "            end -= 1\n",
    "        else:            \n",
    "            if pre_remove != abs(A[start]):                \n",
    "                distinct_count += 1\n",
    "            pre_remove = abs(A[end])\n",
    "            start += 1\n",
    "            end -= 1\n",
    "            \n",
    "        #print(start, end, distinct_count, pre_remove)        \n",
    "    return distinct_count"
   ]
  },
  {
   "cell_type": "code",
   "execution_count": 95,
   "metadata": {},
   "outputs": [
    {
     "data": {
      "text/plain": [
       "5"
      ]
     },
     "execution_count": 95,
     "metadata": {},
     "output_type": "execute_result"
    }
   ],
   "source": [
    "A = [-5,-3,-1,0,3,6]\n",
    "solution(A)"
   ]
  },
  {
   "cell_type": "code",
   "execution_count": 96,
   "metadata": {},
   "outputs": [
    {
     "data": {
      "text/plain": [
       "3"
      ]
     },
     "execution_count": 96,
     "metadata": {},
     "output_type": "execute_result"
    }
   ],
   "source": [
    "A = [-2,-2,-1,-1,0,1,1,2,2]\n",
    "solution(A)"
   ]
  },
  {
   "cell_type": "code",
   "execution_count": null,
   "metadata": {
    "collapsed": true
   },
   "outputs": [],
   "source": []
  },
  {
   "cell_type": "markdown",
   "metadata": {},
   "source": [
    "## CountDistinctSlices\n",
    "\n",
    "An integer M and a non-empty array A consisting of N non-negative integers are given. All integers in array A are less than or equal to M.\n",
    "\n",
    "A pair of integers (P, Q), such that 0 ≤ P ≤ Q < N, is called a slice of array A. The slice consists of the elements A[P], A[P + 1], ..., A[Q]. A distinct slice is a slice consisting of only unique numbers. That is, no individual number occurs more than once in the slice.\n",
    "\n",
    "For example, consider integer M = 6 and array A such that:\n",
    "\n",
    "    A[0] = 3\n",
    "    A[1] = 4\n",
    "    A[2] = 5\n",
    "    A[3] = 5\n",
    "    A[4] = 2\n",
    "There are exactly nine distinct slices: (0, 0), (0, 1), (0, 2), (1, 1), (1, 2), (2, 2), (3, 3), (3, 4) and (4, 4).\n",
    "\n",
    "The goal is to calculate the number of distinct slices.\n",
    "\n",
    "Write a function:\n",
    "\n",
    "def solution(M, A)\n",
    "\n",
    "that, given an integer M and a non-empty array A consisting of N integers, returns the number of distinct slices.\n",
    "\n",
    "If the number of distinct slices is greater than 1,000,000,000, the function should return 1,000,000,000.\n",
    "\n",
    "For example, given integer M = 6 and array A such that:\n",
    "\n",
    "    A[0] = 3\n",
    "    A[1] = 4\n",
    "    A[2] = 5\n",
    "    A[3] = 5\n",
    "    A[4] = 2\n",
    "the function should return 9, as explained above.\n",
    "\n",
    "Assume that:\n",
    "\n",
    "N is an integer within the range [1..100,000];\n",
    "M is an integer within the range [0..100,000];\n",
    "each element of array A is an integer within the range [0..M].\n",
    "Complexity:\n",
    "\n",
    "expected worst-case time complexity is O(N);\n",
    "expected worst-case space complexity is O(M) (not counting the storage required for input arguments)."
   ]
  },
  {
   "cell_type": "code",
   "execution_count": 97,
   "metadata": {
    "collapsed": true
   },
   "outputs": [],
   "source": [
    "def solution(M, A):\n",
    "    n = len(A)\n",
    "    exist_list = [0] * (M + 1)\n",
    "    \n",
    "    back = 0\n",
    "    front = 0\n",
    "    count = 0\n",
    "    for back in range (n):\n",
    "        if(front < back):\n",
    "            front = back\n",
    "        while (front < n and exist_list[A[front]] == 0):\n",
    "            count += front - back + 1          \n",
    "            exist_list[A[front]] = 1\n",
    "            #print('in while', back, front, count,exist_list)\n",
    "            front += 1\n",
    "        exist_list[A[back]] = 0\n",
    "        #print('out while', back, front, count,exist_list)\n",
    "    return count if count < 1000000000 else 1000000000"
   ]
  },
  {
   "cell_type": "code",
   "execution_count": 98,
   "metadata": {},
   "outputs": [
    {
     "data": {
      "text/plain": [
       "9"
      ]
     },
     "execution_count": 98,
     "metadata": {},
     "output_type": "execute_result"
    }
   ],
   "source": [
    "A = [3,4,5,5,2]\n",
    "solution(6,A)"
   ]
  },
  {
   "cell_type": "code",
   "execution_count": 99,
   "metadata": {},
   "outputs": [
    {
     "data": {
      "text/plain": [
       "3"
      ]
     },
     "execution_count": 99,
     "metadata": {},
     "output_type": "execute_result"
    }
   ],
   "source": [
    "A = [0,0,0]\n",
    "solution(6,A)"
   ]
  },
  {
   "cell_type": "code",
   "execution_count": null,
   "metadata": {
    "collapsed": true
   },
   "outputs": [],
   "source": []
  },
  {
   "cell_type": "markdown",
   "metadata": {},
   "source": [
    "## CountTriangles\n",
    "\n",
    "An array A consisting of N integers is given. A triplet (P, Q, R) is triangular if it is possible to build a triangle with sides of lengths A[P], A[Q] and A[R]. In other words, triplet (P, Q, R) is triangular if 0 ≤ P < Q < R < N and:\n",
    "\n",
    "A[P] + A[Q] > A[R],\n",
    "A[Q] + A[R] > A[P],\n",
    "A[R] + A[P] > A[Q].\n",
    "For example, consider array A such that:\n",
    "\n",
    "  A[0] = 10    A[1] = 2    A[2] = 5\n",
    "  A[3] = 1     A[4] = 8    A[5] = 12\n",
    "There are four triangular triplets that can be constructed from elements of this array, namely (0, 2, 4), (0, 2, 5), (0, 4, 5), and (2, 4, 5).\n",
    "\n",
    "Write a function:\n",
    "\n",
    "def solution(A)\n",
    "\n",
    "that, given an array A consisting of N integers, returns the number of triangular triplets in this array.\n",
    "\n",
    "For example, given array A such that:\n",
    "\n",
    "  A[0] = 10    A[1] = 2    A[2] = 5\n",
    "  A[3] = 1     A[4] = 8    A[5] = 12\n",
    "the function should return 4, as explained above.\n",
    "\n",
    "Assume that:\n",
    "\n",
    "N is an integer within the range [0..1,000];\n",
    "each element of array A is an integer within the range [1..1,000,000,000].\n",
    "Complexity:\n",
    "\n",
    "expected worst-case time complexity is O(N2);\n",
    "expected worst-case space complexity is O(N) (not counting the storage required for input arguments)."
   ]
  },
  {
   "cell_type": "code",
   "execution_count": 1079,
   "metadata": {
    "collapsed": true
   },
   "outputs": [],
   "source": [
    "def solution(A):\n",
    "    n = len(A)\n",
    "    n_tri = 0\n",
    "    A.sort()\n",
    "    for x in range(n):\n",
    "        z= x + 2\n",
    "        for y in range(x+1, n):\n",
    "            while (z < n and A[x] + A[y] > A[z]):\n",
    "                z += 1\n",
    "                n_tri += z - y - 1\n",
    "    return n_tri"
   ]
  },
  {
   "cell_type": "code",
   "execution_count": 1080,
   "metadata": {},
   "outputs": [
    {
     "data": {
      "text/plain": [
       "4"
      ]
     },
     "execution_count": 1080,
     "metadata": {},
     "output_type": "execute_result"
    }
   ],
   "source": [
    "A = [10,2,5,1,8,12]\n",
    "solution(A)"
   ]
  },
  {
   "cell_type": "code",
   "execution_count": 1084,
   "metadata": {},
   "outputs": [
    {
     "data": {
      "text/plain": [
       "1"
      ]
     },
     "execution_count": 1084,
     "metadata": {},
     "output_type": "execute_result"
    }
   ],
   "source": [
    "A = [1,1,1]\n",
    "solution(A)"
   ]
  },
  {
   "cell_type": "code",
   "execution_count": null,
   "metadata": {
    "collapsed": true
   },
   "outputs": [],
   "source": []
  },
  {
   "cell_type": "markdown",
   "metadata": {},
   "source": [
    "## MinAbsSumOfTwo\n",
    "\n",
    "Let A be a non-empty array consisting of N integers.\n",
    "\n",
    "The abs sum of two for a pair of indices (P, Q) is the absolute value |A[P] + A[Q]|, for 0 ≤ P ≤ Q < N.\n",
    "\n",
    "For example, the following array A:\n",
    "\n",
    "  A[0] =  1\n",
    "  A[1] =  4\n",
    "  A[2] = -3\n",
    "has pairs of indices (0, 0), (0, 1), (0, 2), (1, 1), (1, 2), (2, 2). \n",
    "The abs sum of two for the pair (0, 0) is A[0] + A[0] = |1 + 1| = 2. \n",
    "The abs sum of two for the pair (0, 1) is A[0] + A[1] = |1 + 4| = 5. \n",
    "The abs sum of two for the pair (0, 2) is A[0] + A[2] = |1 + (−3)| = 2. \n",
    "The abs sum of two for the pair (1, 1) is A[1] + A[1] = |4 + 4| = 8. \n",
    "The abs sum of two for the pair (1, 2) is A[1] + A[2] = |4 + (−3)| = 1. \n",
    "The abs sum of two for the pair (2, 2) is A[2] + A[2] = |(−3) + (−3)| = 6. \n",
    "Write a function:\n",
    "\n",
    "def solution(A)\n",
    "\n",
    "that, given a non-empty array A consisting of N integers, returns the minimal abs sum of two for any pair of indices in this array.\n",
    "\n",
    "For example, given the following array A:\n",
    "\n",
    "  A[0] =  1\n",
    "  A[1] =  4\n",
    "  A[2] = -3\n",
    "the function should return 1, as explained above.\n",
    "\n",
    "Given array A:\n",
    "\n",
    "  A[0] = -8\n",
    "  A[1] =  4\n",
    "  A[2] =  5\n",
    "  A[3] =-10\n",
    "  A[4] =  3\n",
    "the function should return |(−8) + 5| = 3.\n",
    "\n",
    "Assume that:\n",
    "\n",
    "N is an integer within the range [1..100,000];\n",
    "each element of array A is an integer within the range [−1,000,000,000..1,000,000,000].\n",
    "Complexity:\n",
    "\n",
    "expected worst-case time complexity is O(N*log(N));\n",
    "expected worst-case space complexity is O(N) (not counting the storage required for input arguments)."
   ]
  },
  {
   "cell_type": "code",
   "execution_count": 1260,
   "metadata": {
    "collapsed": true
   },
   "outputs": [],
   "source": [
    "def solution(A):\n",
    "    n = len(A)\n",
    "    A.sort()\n",
    "    \n",
    "    start = 0\n",
    "    end = n-1\n",
    "    min_abs = 2*max([abs(a) for a in A])\n",
    "    \n",
    "    while (start <= end):\n",
    "        current_sum =  A[start] + A[end]\n",
    "        if current_sum > 0:\n",
    "            min_abs = min(min_abs, abs(current_sum))\n",
    "            end -= 1\n",
    "        elif current_sum < 0:\n",
    "            min_abs = min(min_abs, abs(current_sum))\n",
    "            start += 1\n",
    "        else:\n",
    "            return 0\n",
    "        \n",
    "    return min_abs"
   ]
  },
  {
   "cell_type": "code",
   "execution_count": 1252,
   "metadata": {},
   "outputs": [
    {
     "data": {
      "text/plain": [
       "1"
      ]
     },
     "execution_count": 1252,
     "metadata": {},
     "output_type": "execute_result"
    }
   ],
   "source": [
    "A = [1,4,-3]\n",
    "solution(A)"
   ]
  },
  {
   "cell_type": "code",
   "execution_count": 1253,
   "metadata": {},
   "outputs": [
    {
     "data": {
      "text/plain": [
       "3"
      ]
     },
     "execution_count": 1253,
     "metadata": {},
     "output_type": "execute_result"
    }
   ],
   "source": [
    "A = [-8,4,5,-10,3]\n",
    "solution(A)"
   ]
  },
  {
   "cell_type": "code",
   "execution_count": 1262,
   "metadata": {},
   "outputs": [
    {
     "data": {
      "text/plain": [
       "12"
      ]
     },
     "execution_count": 1262,
     "metadata": {},
     "output_type": "execute_result"
    }
   ],
   "source": [
    "A = [6,6,6]\n",
    "solution(A)"
   ]
  },
  {
   "cell_type": "code",
   "execution_count": 1258,
   "metadata": {},
   "outputs": [
    {
     "data": {
      "text/plain": [
       "0"
      ]
     },
     "execution_count": 1258,
     "metadata": {},
     "output_type": "execute_result"
    }
   ],
   "source": [
    "A = [-6,-6,-6,6,6,6]\n",
    "solution(A)"
   ]
  },
  {
   "cell_type": "code",
   "execution_count": null,
   "metadata": {
    "collapsed": true
   },
   "outputs": [],
   "source": []
  },
  {
   "cell_type": "markdown",
   "metadata": {},
   "source": [
    "# <font color='red'>Lesson 16: Greedy algorithms</font>"
   ]
  },
  {
   "cell_type": "markdown",
   "metadata": {},
   "source": [
    "## MaxNonoverlappingSegments\n",
    "\n",
    "Located on a line are N segments, numbered from 0 to N − 1, whose positions are given in arrays A and B. For each I (0 ≤ I < N) the position of segment I is from A[I] to B[I] (inclusive). The segments are sorted by their ends, which means that B[K] ≤ B[K + 1] for K such that 0 ≤ K < N − 1.\n",
    "\n",
    "Two segments I and J, such that I ≠ J, are overlapping if they share at least one common point. In other words, A[I] ≤ A[J] ≤ B[I] or A[J] ≤ A[I] ≤ B[J].\n",
    "\n",
    "We say that the set of segments is non-overlapping if it contains no two overlapping segments. The goal is to find the size of a non-overlapping set containing the maximal number of segments.\n",
    "\n",
    "For example, consider arrays A, B such that:\n",
    "\n",
    "    A[0] = 1    B[0] = 5\n",
    "    A[1] = 3    B[1] = 6\n",
    "    A[2] = 7    B[2] = 8\n",
    "    A[3] = 9    B[3] = 9\n",
    "    A[4] = 9    B[4] = 10\n",
    "The segments are shown in the figure below.\n",
    "\n",
    "\n",
    "\n",
    "The size of a non-overlapping set containing a maximal number of segments is 3. For example, possible sets are {0, 2, 3}, {0, 2, 4}, {1, 2, 3} or {1, 2, 4}. There is no non-overlapping set with four segments.\n",
    "\n",
    "Write a function:\n",
    "\n",
    "def solution(A, B)\n",
    "\n",
    "that, given two arrays A and B consisting of N integers, returns the size of a non-overlapping set containing a maximal number of segments.\n",
    "\n",
    "For example, given arrays A, B shown above, the function should return 3, as explained above.\n",
    "\n",
    "Assume that:\n",
    "\n",
    "N is an integer within the range [0..30,000];\n",
    "each element of arrays A, B is an integer within the range [0..1,000,000,000];\n",
    "A[I] ≤ B[I], for each I (0 ≤ I < N);\n",
    "B[K] ≤ B[K + 1], for each K (0 ≤ K < N − 1).\n",
    "Complexity:\n",
    "\n",
    "expected worst-case time complexity is O(N);\n",
    "expected worst-case space complexity is O(N) (not counting the storage required for input arguments)."
   ]
  },
  {
   "cell_type": "code",
   "execution_count": 1274,
   "metadata": {
    "collapsed": true
   },
   "outputs": [],
   "source": [
    "def solution(A, B):\n",
    "    n = len(A)  \n",
    "    \n",
    "    if n == 0:\n",
    "        return 0    \n",
    "    \n",
    "    count = 1\n",
    "    current_end = B[0]\n",
    "    for i in range(1,n):\n",
    "        if A[i] > current_end:\n",
    "            count += 1\n",
    "            current_end = B[i]\n",
    "            \n",
    "    return count"
   ]
  },
  {
   "cell_type": "code",
   "execution_count": 1275,
   "metadata": {},
   "outputs": [
    {
     "data": {
      "text/plain": [
       "3"
      ]
     },
     "execution_count": 1275,
     "metadata": {},
     "output_type": "execute_result"
    }
   ],
   "source": [
    "A = [1,3,7,9,9]\n",
    "B = [5,6,8,9,10]\n",
    "solution(A,B)"
   ]
  },
  {
   "cell_type": "code",
   "execution_count": 1283,
   "metadata": {},
   "outputs": [
    {
     "data": {
      "text/plain": [
       "1"
      ]
     },
     "execution_count": 1283,
     "metadata": {},
     "output_type": "execute_result"
    }
   ],
   "source": [
    "A = [0,0,0]\n",
    "B = [0,0,0]\n",
    "solution(A,B)"
   ]
  },
  {
   "cell_type": "code",
   "execution_count": null,
   "metadata": {
    "collapsed": true
   },
   "outputs": [],
   "source": []
  },
  {
   "cell_type": "markdown",
   "metadata": {},
   "source": [
    "## TieRopes\n",
    "\n",
    "There are N ropes numbered from 0 to N − 1, whose lengths are given in an array A, lying on the floor in a line. For each I (0 ≤ I < N), the length of rope I on the line is A[I].\n",
    "\n",
    "We say that two ropes I and I + 1 are adjacent. Two adjacent ropes can be tied together with a knot, and the length of the tied rope is the sum of lengths of both ropes. The resulting new rope can then be tied again.\n",
    "\n",
    "For a given integer K, the goal is to tie the ropes in such a way that the number of ropes whose length is greater than or equal to K is maximal.\n",
    "\n",
    "For example, consider K = 4 and array A such that:\n",
    "\n",
    "    A[0] = 1\n",
    "    A[1] = 2\n",
    "    A[2] = 3\n",
    "    A[3] = 4\n",
    "    A[4] = 1\n",
    "    A[5] = 1\n",
    "    A[6] = 3\n",
    "The ropes are shown in the figure below.\n",
    "\n",
    "\n",
    "\n",
    "We can tie:\n",
    "\n",
    "rope 1 with rope 2 to produce a rope of length A[1] + A[2] = 5;\n",
    "rope 4 with rope 5 with rope 6 to produce a rope of length A[4] + A[5] + A[6] = 5.\n",
    "After that, there will be three ropes whose lengths are greater than or equal to K = 4. It is not possible to produce four such ropes.\n",
    "\n",
    "Write a function:\n",
    "\n",
    "def solution(K, A)\n",
    "\n",
    "that, given an integer K and a non-empty array A of N integers, returns the maximum number of ropes of length greater than or equal to K that can be created.\n",
    "\n",
    "For example, given K = 4 and array A such that:\n",
    "\n",
    "    A[0] = 1\n",
    "    A[1] = 2\n",
    "    A[2] = 3\n",
    "    A[3] = 4\n",
    "    A[4] = 1\n",
    "    A[5] = 1\n",
    "    A[6] = 3\n",
    "the function should return 3, as explained above.\n",
    "\n",
    "Assume that:\n",
    "\n",
    "N is an integer within the range [1..100,000];\n",
    "K is an integer within the range [1..1,000,000,000];\n",
    "each element of array A is an integer within the range [1..1,000,000,000].\n",
    "Complexity:\n",
    "\n",
    "expected worst-case time complexity is O(N);\n",
    "expected worst-case space complexity is O(N) (not counting the storage required for input arguments)."
   ]
  },
  {
   "cell_type": "code",
   "execution_count": 1290,
   "metadata": {
    "collapsed": true
   },
   "outputs": [],
   "source": [
    "def solution(K, A):\n",
    "    n = len(A)\n",
    "    \n",
    "    current_sum = 0\n",
    "    count = 0\n",
    "    for i in range(n):\n",
    "        #print('before', i, current_sum, count)\n",
    "        if current_sum < K:\n",
    "            current_sum += A[i]\n",
    "        else:\n",
    "            count += 1\n",
    "            current_sum = 0\n",
    "            current_sum += A[i]\n",
    "        #print('after', i, current_sum, count)\n",
    "    if current_sum >= K:\n",
    "        count += 1\n",
    "    return count            "
   ]
  },
  {
   "cell_type": "code",
   "execution_count": 1291,
   "metadata": {},
   "outputs": [
    {
     "data": {
      "text/plain": [
       "3"
      ]
     },
     "execution_count": 1291,
     "metadata": {},
     "output_type": "execute_result"
    }
   ],
   "source": [
    "A = [1,2,3,4,1,1,3]\n",
    "solution(4,A)"
   ]
  },
  {
   "cell_type": "code",
   "execution_count": 1294,
   "metadata": {},
   "outputs": [
    {
     "data": {
      "text/plain": [
       "1"
      ]
     },
     "execution_count": 1294,
     "metadata": {},
     "output_type": "execute_result"
    }
   ],
   "source": [
    "A = [4]\n",
    "solution(4,A)"
   ]
  },
  {
   "cell_type": "code",
   "execution_count": null,
   "metadata": {
    "collapsed": true
   },
   "outputs": [],
   "source": []
  },
  {
   "cell_type": "markdown",
   "metadata": {},
   "source": [
    "# <font color='red'>Lesson 17: Dynamic programming</font>"
   ]
  },
  {
   "cell_type": "markdown",
   "metadata": {},
   "source": [
    "## NumberSolitaire\n",
    "\n",
    "A game for one player is played on a board consisting of N consecutive squares, numbered from 0 to N − 1. There is a number written on each square. A non-empty array A of N integers contains the numbers written on the squares. Moreover, some squares can be marked during the game.\n",
    "\n",
    "At the beginning of the game, there is a pebble on square number 0 and this is the only square on the board which is marked. The goal of the game is to move the pebble to square number N − 1.\n",
    "\n",
    "During each turn we throw a six-sided die, with numbers from 1 to 6 on its faces, and consider the number K, which shows on the upper face after the die comes to rest. Then we move the pebble standing on square number I to square number I + K, providing that square number I + K exists. If square number I + K does not exist, we throw the die again until we obtain a valid move. Finally, we mark square number I + K.\n",
    "\n",
    "After the game finishes (when the pebble is standing on square number N − 1), we calculate the result. The result of the game is the sum of the numbers written on all marked squares.\n",
    "\n",
    "For example, given the following array:\n",
    "\n",
    "    A[0] = 1\n",
    "    A[1] = -2\n",
    "    A[2] = 0\n",
    "    A[3] = 9\n",
    "    A[4] = -1\n",
    "    A[5] = -2\n",
    "one possible game could be as follows:\n",
    "\n",
    "the pebble is on square number 0, which is marked;\n",
    "we throw 3; the pebble moves from square number 0 to square number 3; we mark square number 3;\n",
    "we throw 5; the pebble does not move, since there is no square number 8 on the board;\n",
    "we throw 2; the pebble moves to square number 5; we mark this square and the game ends.\n",
    "The marked squares are 0, 3 and 5, so the result of the game is 1 + 9 + (−2) = 8. This is the maximal possible result that can be achieved on this board.\n",
    "\n",
    "Write a function:\n",
    "\n",
    "def solution(A)\n",
    "\n",
    "that, given a non-empty array A of N integers, returns the maximal result that can be achieved on the board represented by array A.\n",
    "\n",
    "For example, given the array\n",
    "\n",
    "    A[0] = 1\n",
    "    A[1] = -2\n",
    "    A[2] = 0\n",
    "    A[3] = 9\n",
    "    A[4] = -1\n",
    "    A[5] = -2\n",
    "the function should return 8, as explained above.\n",
    "\n",
    "Assume that:\n",
    "\n",
    "N is an integer within the range [2..100,000];\n",
    "each element of array A is an integer within the range [−10,000..10,000].\n",
    "Complexity:\n",
    "\n",
    "expected worst-case time complexity is O(N);\n",
    "expected worst-case space complexity is O(N) (not counting the storage required for input arguments)."
   ]
  },
  {
   "cell_type": "code",
   "execution_count": 1299,
   "metadata": {
    "collapsed": true
   },
   "outputs": [],
   "source": [
    "def solution(A):\n",
    "    S = [1,2,3,4,5,6]\n",
    "    m = len(S)\n",
    "    n = len(A)\n",
    "    \n",
    "    dp = [-10000*n] * n\n",
    "    dp[0] = A[0]\n",
    "    for i in range(1, n):\n",
    "        for j in range(m):\n",
    "            if S[j] <= i:\n",
    "                dp[i]= max(dp[i], dp[i-S[j]] + A[i])\n",
    "    \n",
    "    return dp[n-1]"
   ]
  },
  {
   "cell_type": "code",
   "execution_count": 1300,
   "metadata": {},
   "outputs": [
    {
     "data": {
      "text/plain": [
       "8"
      ]
     },
     "execution_count": 1300,
     "metadata": {},
     "output_type": "execute_result"
    }
   ],
   "source": [
    "A = [1,-2,0,9,-1,-2]\n",
    "solution(A)"
   ]
  },
  {
   "cell_type": "code",
   "execution_count": 1302,
   "metadata": {},
   "outputs": [
    {
     "data": {
      "text/plain": [
       "-1"
      ]
     },
     "execution_count": 1302,
     "metadata": {},
     "output_type": "execute_result"
    }
   ],
   "source": [
    "A = [1,-2,-2]\n",
    "solution(A)"
   ]
  },
  {
   "cell_type": "code",
   "execution_count": null,
   "metadata": {
    "collapsed": true
   },
   "outputs": [],
   "source": []
  },
  {
   "cell_type": "markdown",
   "metadata": {},
   "source": [
    "## MinAbsSum\n",
    "\n",
    "For a given array A of N integers and a sequence S of N integers from the set {−1, 1}, we define val(A, S) as follows:\n",
    "\n",
    "val(A, S) = |sum{ A[i]*S[i] for i = 0..N−1 }|\n",
    "\n",
    "(Assume that the sum of zero elements equals zero.)\n",
    "\n",
    "For a given array A, we are looking for such a sequence S that minimizes val(A,S).\n",
    "\n",
    "Write a function:\n",
    "\n",
    "def solution(A)\n",
    "\n",
    "that, given an array A of N integers, computes the minimum value of val(A,S) from all possible values of val(A,S) for all possible sequences S of N integers from the set {−1, 1}.\n",
    "\n",
    "For example, given array:\n",
    "\n",
    "  A[0] =  1\n",
    "  A[1] =  5\n",
    "  A[2] =  2\n",
    "  A[3] = -2\n",
    "your function should return 0, since for S = [−1, 1, −1, 1], val(A, S) = 0, which is the minimum possible value.\n",
    "\n",
    "Assume that:\n",
    "\n",
    "N is an integer within the range [0..20,000];\n",
    "each element of array A is an integer within the range [−100..100].\n",
    "Complexity:\n",
    "\n",
    "expected worst-case time complexity is O(N*max(abs(A))2);\n",
    "expected worst-case space complexity is O(N+sum(abs(A))) (not counting the storage required for input arguments)."
   ]
  },
  {
   "cell_type": "code",
   "execution_count": null,
   "metadata": {
    "collapsed": true
   },
   "outputs": [],
   "source": []
  },
  {
   "cell_type": "markdown",
   "metadata": {},
   "source": [
    "# <font color='red'>Future training</font>"
   ]
  },
  {
   "cell_type": "markdown",
   "metadata": {},
   "source": [
    "## TreeHeight\n",
    "\n",
    "In this problem we consider binary trees, represented by pointer data structures.\n",
    "\n",
    "A binary tree is either an empty tree or a node (called the root) consisting of a single integer value and two further binary trees, called the left subtree and the right subtree.\n",
    "\n",
    "For example, the figure below shows a binary tree consisting of six nodes. Its root contains the value 5, and the roots of its left and right subtrees have the values 3 and 10, respectively. The right subtree of the node containing the value 10, as well as the left and right subtrees of the nodes containing the values 20, 21 and 1, are empty trees.\n",
    "\n",
    "\n",
    "\n",
    "A path in a binary tree is a non-empty sequence of nodes that one can traverse by following the pointers. The length of a path is the number of pointers it traverses. More formally, a path of length K is a sequence of nodes P[0], P[1], ..., P[K], such that node P[I + 1] is the root of the left or right subtree of P[I], for 0 ≤ I < K. For example, the sequence of nodes with values 5, 3, 21 is a path of length 2 in the tree from the above figure. The sequence of nodes with values 10, 1 is a path of length 1. The sequence of nodes with values 21, 3, 20 is not a valid path.\n",
    "\n",
    "The height of a binary tree is defined as the length of the longest possible path in the tree. In particular, a tree consisting of only one node has height 0 and, conventionally, an empty tree has height −1. For example, the tree shown in the above figure is of height 2.\n",
    "\n",
    "Problem\n",
    "Write a function:\n",
    "\n",
    "def solution(T)\n",
    "\n",
    "that, given a non-empty binary tree T consisting of N nodes, returns its height. For example, given tree T shown in the figure above, the function should return 2, as explained above. Note that the values contained in the nodes are not relevant in this task.\n",
    "\n",
    "Technical details\n",
    "A binary tree can be given using a pointer data structure. Assume that the following declarations are given:\n",
    "\n",
    "class Tree(object):\n",
    "  x = 0\n",
    "  l = None\n",
    "  r = None\n",
    "\n",
    "An empty tree is represented by an empty pointer (denoted by None). A non-empty tree is represented by a pointer to an object representing its root. The attribute x holds the integer contained in the root, whereas attributes l and r hold the left and right subtrees of the binary tree, respectively.\n",
    "\n",
    "For the purpose of entering your own test cases, you can denote a tree recursively in the following way. An empty binary tree is denoted by None. A non-empty tree is denoted as (X, L, R), where X is the value contained in the root and L and R denote the left and right subtrees, respectively. The tree from the above figure can be denoted as:\n",
    "\n",
    "  (5, (3, (20, None, None), (21, None, None)), (10, (1, None, None), None))\n",
    "Assumptions\n",
    "Assume that:\n",
    "\n",
    "N is an integer within the range [1..1,000];\n",
    "the height of tree T (number of edges on the longest path from root to leaf) is within the range [0..500].\n",
    "Complexity:\n",
    "\n",
    "expected worst-case time complexity is O(N);\n",
    "expected worst-case space complexity is O(N)."
   ]
  },
  {
   "cell_type": "code",
   "execution_count": 100,
   "metadata": {
    "collapsed": true
   },
   "outputs": [],
   "source": [
    "def solution(T):\n",
    "    if len(T) == 0:\n",
    "        return -1\n",
    "    stack = [0] * 1000\n",
    "    stack_T = [0] * 1000\n",
    "    stack_last = 0\n",
    "    stack_T[0] = T\n",
    "    max_stack_n = 0\n",
    "    \n",
    "    while (stack_last > -1): \n",
    "        current_node = stack_T[stack_last]\n",
    "        print('before', stack_last, stack[stack_last], max_stack_n, current_node)\n",
    "        if stack[stack_last] < 2 and current_node[stack[stack_last] + 1] != None:\n",
    "            stack_T[stack_last + 1] = current_node[stack[stack_last] + 1]\n",
    "            stack[stack_last] += 1\n",
    "            stack_last += 1\n",
    "            stack[stack_last] = 0\n",
    "            max_stack_n = max(max_stack_n, stack_last)\n",
    "        else:\n",
    "            if stack[stack_last] < 2:\n",
    "                stack[stack_last] += 1\n",
    "            else:\n",
    "                stack_last -= 1\n",
    "        print('after', stack_last, stack[stack_last], max_stack_n, current_node)\n",
    "    return max_stack_n"
   ]
  },
  {
   "cell_type": "code",
   "execution_count": 101,
   "metadata": {},
   "outputs": [
    {
     "name": "stdout",
     "output_type": "stream",
     "text": [
      "before 0 0 0 (1, (2, None, None), (3, (4, None, None), (5, None, None)))\n",
      "after 1 0 1 (1, (2, None, None), (3, (4, None, None), (5, None, None)))\n",
      "before 1 0 1 (2, None, None)\n",
      "after 1 1 1 (2, None, None)\n",
      "before 1 1 1 (2, None, None)\n",
      "after 1 2 1 (2, None, None)\n",
      "before 1 2 1 (2, None, None)\n",
      "after 0 1 1 (2, None, None)\n",
      "before 0 1 1 (1, (2, None, None), (3, (4, None, None), (5, None, None)))\n",
      "after 1 0 1 (1, (2, None, None), (3, (4, None, None), (5, None, None)))\n",
      "before 1 0 1 (3, (4, None, None), (5, None, None))\n",
      "after 2 0 2 (3, (4, None, None), (5, None, None))\n",
      "before 2 0 2 (4, None, None)\n",
      "after 2 1 2 (4, None, None)\n",
      "before 2 1 2 (4, None, None)\n",
      "after 2 2 2 (4, None, None)\n",
      "before 2 2 2 (4, None, None)\n",
      "after 1 1 2 (4, None, None)\n",
      "before 1 1 2 (3, (4, None, None), (5, None, None))\n",
      "after 2 0 2 (3, (4, None, None), (5, None, None))\n",
      "before 2 0 2 (5, None, None)\n",
      "after 2 1 2 (5, None, None)\n",
      "before 2 1 2 (5, None, None)\n",
      "after 2 2 2 (5, None, None)\n",
      "before 2 2 2 (5, None, None)\n",
      "after 1 2 2 (5, None, None)\n",
      "before 1 2 2 (3, (4, None, None), (5, None, None))\n",
      "after 0 2 2 (3, (4, None, None), (5, None, None))\n",
      "before 0 2 2 (1, (2, None, None), (3, (4, None, None), (5, None, None)))\n",
      "after -1 0 2 (1, (2, None, None), (3, (4, None, None), (5, None, None)))\n"
     ]
    },
    {
     "data": {
      "text/plain": [
       "2"
      ]
     },
     "execution_count": 101,
     "metadata": {},
     "output_type": "execute_result"
    }
   ],
   "source": [
    "T = (1, (2, None, None), (3, (4, None, None), (5, None, None)))\n",
    "solution(T)"
   ]
  },
  {
   "cell_type": "code",
   "execution_count": 102,
   "metadata": {},
   "outputs": [
    {
     "name": "stdout",
     "output_type": "stream",
     "text": [
      "before 0 0 0 (5, (3, (20, None, None), (21, None, None)), (10, (1, None, None), None))\n",
      "after 1 0 1 (5, (3, (20, None, None), (21, None, None)), (10, (1, None, None), None))\n",
      "before 1 0 1 (3, (20, None, None), (21, None, None))\n",
      "after 2 0 2 (3, (20, None, None), (21, None, None))\n",
      "before 2 0 2 (20, None, None)\n",
      "after 2 1 2 (20, None, None)\n",
      "before 2 1 2 (20, None, None)\n",
      "after 2 2 2 (20, None, None)\n",
      "before 2 2 2 (20, None, None)\n",
      "after 1 1 2 (20, None, None)\n",
      "before 1 1 2 (3, (20, None, None), (21, None, None))\n",
      "after 2 0 2 (3, (20, None, None), (21, None, None))\n",
      "before 2 0 2 (21, None, None)\n",
      "after 2 1 2 (21, None, None)\n",
      "before 2 1 2 (21, None, None)\n",
      "after 2 2 2 (21, None, None)\n",
      "before 2 2 2 (21, None, None)\n",
      "after 1 2 2 (21, None, None)\n",
      "before 1 2 2 (3, (20, None, None), (21, None, None))\n",
      "after 0 1 2 (3, (20, None, None), (21, None, None))\n",
      "before 0 1 2 (5, (3, (20, None, None), (21, None, None)), (10, (1, None, None), None))\n",
      "after 1 0 2 (5, (3, (20, None, None), (21, None, None)), (10, (1, None, None), None))\n",
      "before 1 0 2 (10, (1, None, None), None)\n",
      "after 2 0 2 (10, (1, None, None), None)\n",
      "before 2 0 2 (1, None, None)\n",
      "after 2 1 2 (1, None, None)\n",
      "before 2 1 2 (1, None, None)\n",
      "after 2 2 2 (1, None, None)\n",
      "before 2 2 2 (1, None, None)\n",
      "after 1 1 2 (1, None, None)\n",
      "before 1 1 2 (10, (1, None, None), None)\n",
      "after 1 2 2 (10, (1, None, None), None)\n",
      "before 1 2 2 (10, (1, None, None), None)\n",
      "after 0 2 2 (10, (1, None, None), None)\n",
      "before 0 2 2 (5, (3, (20, None, None), (21, None, None)), (10, (1, None, None), None))\n",
      "after -1 0 2 (5, (3, (20, None, None), (21, None, None)), (10, (1, None, None), None))\n"
     ]
    },
    {
     "data": {
      "text/plain": [
       "2"
      ]
     },
     "execution_count": 102,
     "metadata": {},
     "output_type": "execute_result"
    }
   ],
   "source": [
    "T = (5, (3, (20, None, None), (21, None, None)), (10, (1, None, None), None))\n",
    "solution(T)"
   ]
  },
  {
   "cell_type": "code",
   "execution_count": 103,
   "metadata": {},
   "outputs": [
    {
     "name": "stdout",
     "output_type": "stream",
     "text": [
      "before 0 0 0 (5, None, None)\n",
      "after 0 1 0 (5, None, None)\n",
      "before 0 1 0 (5, None, None)\n",
      "after 0 2 0 (5, None, None)\n",
      "before 0 2 0 (5, None, None)\n",
      "after -1 0 0 (5, None, None)\n"
     ]
    },
    {
     "data": {
      "text/plain": [
       "0"
      ]
     },
     "execution_count": 103,
     "metadata": {},
     "output_type": "execute_result"
    }
   ],
   "source": [
    "T = (5, None, None)\n",
    "solution(T)"
   ]
  },
  {
   "cell_type": "code",
   "execution_count": 104,
   "metadata": {},
   "outputs": [
    {
     "name": "stdout",
     "output_type": "stream",
     "text": [
      "before 0 0 0 (5, None, (10, None, (1, None, None)))\n",
      "after 0 1 0 (5, None, (10, None, (1, None, None)))\n",
      "before 0 1 0 (5, None, (10, None, (1, None, None)))\n",
      "after 1 0 1 (5, None, (10, None, (1, None, None)))\n",
      "before 1 0 1 (10, None, (1, None, None))\n",
      "after 1 1 1 (10, None, (1, None, None))\n",
      "before 1 1 1 (10, None, (1, None, None))\n",
      "after 2 0 2 (10, None, (1, None, None))\n",
      "before 2 0 2 (1, None, None)\n",
      "after 2 1 2 (1, None, None)\n",
      "before 2 1 2 (1, None, None)\n",
      "after 2 2 2 (1, None, None)\n",
      "before 2 2 2 (1, None, None)\n",
      "after 1 2 2 (1, None, None)\n",
      "before 1 2 2 (10, None, (1, None, None))\n",
      "after 0 2 2 (10, None, (1, None, None))\n",
      "before 0 2 2 (5, None, (10, None, (1, None, None)))\n",
      "after -1 0 2 (5, None, (10, None, (1, None, None)))\n"
     ]
    },
    {
     "data": {
      "text/plain": [
       "2"
      ]
     },
     "execution_count": 104,
     "metadata": {},
     "output_type": "execute_result"
    }
   ],
   "source": [
    "T = (5, None, (10, None, (1, None, None)))\n",
    "solution(T)"
   ]
  },
  {
   "cell_type": "code",
   "execution_count": 105,
   "metadata": {},
   "outputs": [
    {
     "data": {
      "text/plain": [
       "-1"
      ]
     },
     "execution_count": 105,
     "metadata": {},
     "output_type": "execute_result"
    }
   ],
   "source": [
    "T = ()\n",
    "solution(T)"
   ]
  },
  {
   "cell_type": "code",
   "execution_count": 106,
   "metadata": {
    "collapsed": true
   },
   "outputs": [],
   "source": [
    "#from extratypes import Tree  # library with types used in the task\n",
    "def solution(T):\n",
    "    if T.x == None:\n",
    "        return -1\n",
    "    stack = [0] * 501 #stack_path\n",
    "    stack_T = [0] * 501 #stack_node\n",
    "    stack_last = 0\n",
    "    stack_T[0] = T #put root node into first\n",
    "    max_stack_n = 0 #initialize\n",
    "    \n",
    "    while (stack_last > -1): \n",
    "        current_node = stack_T[stack_last]\n",
    "        #print('before', stack_last, stack[stack_last], max_stack_n, current_node)\n",
    "        if stack[stack_last] == 0:\n",
    "            next_node = current_node.l\n",
    "        elif stack[stack_last] == 1:\n",
    "            next_node = current_node.r\n",
    "        if stack[stack_last] < 2 and next_node != None:\n",
    "            stack_T[stack_last + 1] = next_node\n",
    "            stack[stack_last] += 1\n",
    "            stack_last += 1\n",
    "            stack[stack_last] = 0\n",
    "            \n",
    "            max_stack_n = max(max_stack_n, stack_last)\n",
    "        else:\n",
    "            if stack[stack_last] < 2:\n",
    "                stack[stack_last] += 1\n",
    "            else:\n",
    "                stack_last -= 1\n",
    "        #print('after', stack_last, stack[stack_last], max_stack_n, current_node)\n",
    "    return max_stack_n"
   ]
  },
  {
   "cell_type": "code",
   "execution_count": 107,
   "metadata": {},
   "outputs": [
    {
     "data": {
      "text/plain": [
       "2"
      ]
     },
     "execution_count": 107,
     "metadata": {},
     "output_type": "execute_result"
    }
   ],
   "source": [
    "class Tree(object):\n",
    "  x = 0\n",
    "  l = None\n",
    "  r = None\n",
    "\n",
    "T = Tree()\n",
    "T.x, T.l, T.r = 5, Tree(), Tree()\n",
    "T.l.x, T.l.l, T.l.r = 3, Tree(), Tree()\n",
    "T.l.l.x, T.l.l.l, T.l.l.r = 20, None, None\n",
    "T.l.r.x, T.l.r.l, T.l.r.r = 21, None, None\n",
    "T.r.x, T.r.l, T.r.r = 10, Tree(), None\n",
    "T.r.l.x, T.r.l.l, T.r.l.r = 1, None, None\n",
    "solution(T)"
   ]
  },
  {
   "cell_type": "code",
   "execution_count": 108,
   "metadata": {},
   "outputs": [
    {
     "data": {
      "text/plain": [
       "2"
      ]
     },
     "execution_count": 108,
     "metadata": {},
     "output_type": "execute_result"
    }
   ],
   "source": [
    "class Tree(object):\n",
    "  x = 0\n",
    "  l = None\n",
    "  r = None\n",
    "\n",
    "T = Tree()\n",
    "T.x, T.l, T.r = 5, Tree(), Tree()\n",
    "T.l.x, T.l.l, T.l.r = 3, None, None\n",
    "T.r.x, T.r.l, T.r.r = 10, Tree(), Tree()\n",
    "T.r.l.x, T.r.l.l, T.r.l.r = 21, None, None\n",
    "T.r.r.x, T.r.r.l, T.r.r.r = 1, None, None\n",
    "solution(T)"
   ]
  },
  {
   "cell_type": "code",
   "execution_count": 109,
   "metadata": {},
   "outputs": [
    {
     "data": {
      "text/plain": [
       "0"
      ]
     },
     "execution_count": 109,
     "metadata": {},
     "output_type": "execute_result"
    }
   ],
   "source": [
    "class Tree(object):\n",
    "  x = 0\n",
    "  l = None\n",
    "  r = None\n",
    "\n",
    "T = Tree()\n",
    "T.x, T.l, T.r = 5, None, None\n",
    "solution(T)"
   ]
  },
  {
   "cell_type": "code",
   "execution_count": 1469,
   "metadata": {
    "collapsed": true
   },
   "outputs": [],
   "source": [
    "def solution(T):\n",
    "    if T.l == None and T.r == None:\n",
    "        return 0\n",
    "    elif T.l == None:\n",
    "        return 1 + solution(T.r)\n",
    "    elif T.r == None:\n",
    "        return 1 + solution(T.l)\n",
    "    else:\n",
    "        return 1+ max(solution(T.l), solution(T.r))"
   ]
  },
  {
   "cell_type": "code",
   "execution_count": null,
   "metadata": {
    "collapsed": true
   },
   "outputs": [],
   "source": []
  },
  {
   "cell_type": "markdown",
   "metadata": {},
   "source": [
    "## StrSymmetryPoint\n",
    "\n",
    "\n",
    "Write a function:\n",
    "\n",
    "def solution(S)\n",
    "\n",
    "that, given a string S, returns the index (counting from 0) of a character such that the part of the string to the left of that character is a reversal of the part of the string to its right. The function should return −1 if no such index exists.\n",
    "\n",
    "Note: reversing an empty string (i.e. a string whose length is zero) gives an empty string.\n",
    "\n",
    "For example, given a string:\n",
    "\n",
    "\"racecar\"\n",
    "\n",
    "the function should return 3, because the substring to the left of the character \"e\" at index 3 is \"rac\", and the one to the right is \"car\".\n",
    "\n",
    "Given a string:\n",
    "\n",
    "\"x\"\n",
    "\n",
    "the function should return 0, because both substrings are empty.\n",
    "\n",
    "Assume that:\n",
    "\n",
    "the length of S is within the range [0..2,000,000].\n",
    "Complexity:\n",
    "\n",
    "expected worst-case time complexity is O(length(S));\n",
    "expected worst-case space complexity is O(1) (not counting the storage required for input arguments)."
   ]
  },
  {
   "cell_type": "code",
   "execution_count": 1305,
   "metadata": {
    "collapsed": true
   },
   "outputs": [],
   "source": [
    "def solution(S):\n",
    "    \n",
    "    s = list(S)\n",
    "    n = len(s)\n",
    "    \n",
    "    if n%2 == 0:\n",
    "        return -1\n",
    "    \n",
    "    mid = n//2\n",
    "    j = 1\n",
    "    while (mid+j < n):\n",
    "        if s[mid-j] != s[mid+j]:            \n",
    "            return -1\n",
    "        j += 1\n",
    "        \n",
    "    return mid"
   ]
  },
  {
   "cell_type": "code",
   "execution_count": 1306,
   "metadata": {},
   "outputs": [
    {
     "data": {
      "text/plain": [
       "3"
      ]
     },
     "execution_count": 1306,
     "metadata": {},
     "output_type": "execute_result"
    }
   ],
   "source": [
    "S = \"racecar\"\n",
    "solution(S)"
   ]
  },
  {
   "cell_type": "code",
   "execution_count": 1307,
   "metadata": {},
   "outputs": [
    {
     "data": {
      "text/plain": [
       "0"
      ]
     },
     "execution_count": 1307,
     "metadata": {},
     "output_type": "execute_result"
    }
   ],
   "source": [
    "S = \"r\"\n",
    "solution(S)"
   ]
  },
  {
   "cell_type": "code",
   "execution_count": 1308,
   "metadata": {},
   "outputs": [
    {
     "data": {
      "text/plain": [
       "-1"
      ]
     },
     "execution_count": 1308,
     "metadata": {},
     "output_type": "execute_result"
    }
   ],
   "source": [
    "S = \"\"\n",
    "solution(S)"
   ]
  },
  {
   "cell_type": "code",
   "execution_count": null,
   "metadata": {
    "collapsed": true
   },
   "outputs": [],
   "source": []
  },
  {
   "cell_type": "markdown",
   "metadata": {},
   "source": [
    "## ArrayInversionCount\n",
    "\n",
    "An array A consisting of N integers is given. An inversion is a pair of indexes (P, Q) such that P < Q and A[Q] < A[P].\n",
    "\n",
    "Write a function:\n",
    "\n",
    "def solution(A)\n",
    "\n",
    "that computes the number of inversions in A, or returns −1 if it exceeds 1,000,000,000.\n",
    "\n",
    "Assume that:\n",
    "\n",
    "N is an integer within the range [0..100,000];\n",
    "each element of array A is an integer within the range [−2,147,483,648..2,147,483,647].\n",
    "For example, in the following array:\n",
    "\n",
    " A[0] = -1 A[1] = 6 A[2] = 3\n",
    " A[3] =  4 A[4] = 7 A[5] = 4\n",
    "there are four inversions:\n",
    "\n",
    "   (1,2)  (1,3)  (1,5)  (4,5)\n",
    "so the function should return 4.\n",
    "\n",
    "Complexity:\n",
    "\n",
    "expected worst-case time complexity is O(N*log(N));\n",
    "expected worst-case space complexity is O(N) (not counting the storage required for input arguments)."
   ]
  },
  {
   "cell_type": "markdown",
   "metadata": {},
   "source": [
    "### original merge sort code"
   ]
  },
  {
   "cell_type": "code",
   "execution_count": 1483,
   "metadata": {
    "collapsed": true
   },
   "outputs": [],
   "source": [
    "def mergeSort(alist):\n",
    "    print(\"Splitting \",alist)\n",
    "    if len(alist)>1:\n",
    "        mid = len(alist)//2\n",
    "        lefthalf = alist[:mid]\n",
    "        righthalf = alist[mid:]\n",
    "\n",
    "        mergeSort(lefthalf)\n",
    "        mergeSort(righthalf)\n",
    "\n",
    "        i=0\n",
    "        j=0\n",
    "        k=0\n",
    "        while i < len(lefthalf) and j < len(righthalf):\n",
    "            if lefthalf[i] < righthalf[j]:\n",
    "                alist[k]=lefthalf[i]\n",
    "                i=i+1\n",
    "            else:\n",
    "                alist[k]=righthalf[j]\n",
    "                j=j+1\n",
    "            k=k+1\n",
    "\n",
    "        while i < len(lefthalf):\n",
    "            alist[k]=lefthalf[i]\n",
    "            i=i+1\n",
    "            k=k+1\n",
    "\n",
    "        while j < len(righthalf):\n",
    "            alist[k]=righthalf[j]\n",
    "            j=j+1\n",
    "            k=k+1\n",
    "    print(\"Merging \",alist)"
   ]
  },
  {
   "cell_type": "code",
   "execution_count": 1484,
   "metadata": {},
   "outputs": [
    {
     "name": "stdout",
     "output_type": "stream",
     "text": [
      "Splitting  [54, 26, 93, 17, 77, 31, 44, 55, 20]\n",
      "Splitting  [54, 26, 93, 17]\n",
      "Splitting  [54, 26]\n",
      "Splitting  [54]\n",
      "Merging  [54]\n",
      "Splitting  [26]\n",
      "Merging  [26]\n",
      "Merging  [26, 54]\n",
      "Splitting  [93, 17]\n",
      "Splitting  [93]\n",
      "Merging  [93]\n",
      "Splitting  [17]\n",
      "Merging  [17]\n",
      "Merging  [17, 93]\n",
      "Merging  [17, 26, 54, 93]\n",
      "Splitting  [77, 31, 44, 55, 20]\n",
      "Splitting  [77, 31]\n",
      "Splitting  [77]\n",
      "Merging  [77]\n",
      "Splitting  [31]\n",
      "Merging  [31]\n",
      "Merging  [31, 77]\n",
      "Splitting  [44, 55, 20]\n",
      "Splitting  [44]\n",
      "Merging  [44]\n",
      "Splitting  [55, 20]\n",
      "Splitting  [55]\n",
      "Merging  [55]\n",
      "Splitting  [20]\n",
      "Merging  [20]\n",
      "Merging  [20, 55]\n",
      "Merging  [20, 44, 55]\n",
      "Merging  [20, 31, 44, 55, 77]\n",
      "Merging  [17, 20, 26, 31, 44, 54, 55, 77, 93]\n",
      "[17, 20, 26, 31, 44, 54, 55, 77, 93]\n"
     ]
    }
   ],
   "source": [
    "alist = [54,26,93,17,77,31,44,55,20]\n",
    "mergeSort(alist)\n",
    "print(alist)"
   ]
  },
  {
   "cell_type": "code",
   "execution_count": null,
   "metadata": {
    "collapsed": true
   },
   "outputs": [],
   "source": []
  },
  {
   "cell_type": "markdown",
   "metadata": {},
   "source": [
    "### merge sort code with inversion count"
   ]
  },
  {
   "cell_type": "code",
   "execution_count": 11,
   "metadata": {
    "collapsed": true
   },
   "outputs": [],
   "source": [
    "def mergeSort(alist):\n",
    "    global count\n",
    "    \n",
    "    #print(\"Splitting \",alist)\n",
    "    if len(alist)>1:\n",
    "        mid = len(alist)//2\n",
    "        lefthalf = alist[:mid]\n",
    "        righthalf = alist[mid:]\n",
    "\n",
    "        mergeSort(lefthalf)\n",
    "        mergeSort(righthalf)\n",
    "\n",
    "        i=0\n",
    "        j=0\n",
    "        k=0\n",
    "          \n",
    "        right_len = len(righthalf)\n",
    "        while i < left_len and j < right_len:\n",
    "            if lefthalf[i] <= righthalf[j]:\n",
    "                alist[k]=lefthalf[i]\n",
    "                i=i+1\n",
    "            else:\n",
    "                count += left_len - i\n",
    "                #count += len(lefthalf[i:])\n",
    "                alist[k]=righthalf[j]\n",
    "                j=j+1\n",
    "                \n",
    "            k=k+1\n",
    "\n",
    "        while i < left_len:\n",
    "            alist[k]=lefthalf[i]\n",
    "            i=i+1\n",
    "            k=k+1\n",
    "\n",
    "        while j < right_len:\n",
    "            alist[k]=righthalf[j]\n",
    "            j=j+1\n",
    "            k=k+1\n",
    "    #print(\"Merging \",alist,count)\n",
    "    return count #, alist"
   ]
  },
  {
   "cell_type": "code",
   "execution_count": 12,
   "metadata": {},
   "outputs": [
    {
     "data": {
      "text/plain": [
       "6"
      ]
     },
     "execution_count": 12,
     "metadata": {},
     "output_type": "execute_result"
    }
   ],
   "source": [
    "count = 0\n",
    "alist = [4,3,2,1]\n",
    "mergeSort(alist)"
   ]
  },
  {
   "cell_type": "code",
   "execution_count": 13,
   "metadata": {},
   "outputs": [
    {
     "data": {
      "text/plain": [
       "0"
      ]
     },
     "execution_count": 13,
     "metadata": {},
     "output_type": "execute_result"
    }
   ],
   "source": [
    "count = 0\n",
    "alist = [1]\n",
    "mergeSort(alist)"
   ]
  },
  {
   "cell_type": "code",
   "execution_count": 1512,
   "metadata": {},
   "outputs": [
    {
     "data": {
      "text/plain": [
       "0"
      ]
     },
     "execution_count": 1512,
     "metadata": {},
     "output_type": "execute_result"
    }
   ],
   "source": [
    "count = 0\n",
    "alist = []\n",
    "mergeSort(alist)"
   ]
  },
  {
   "cell_type": "code",
   "execution_count": null,
   "metadata": {
    "collapsed": true
   },
   "outputs": [],
   "source": []
  },
  {
   "cell_type": "markdown",
   "metadata": {},
   "source": [
    "### submitted version"
   ]
  },
  {
   "cell_type": "code",
   "execution_count": 14,
   "metadata": {
    "collapsed": true
   },
   "outputs": [],
   "source": [
    "def solution(alist):\n",
    "    global count\n",
    "    \n",
    "    #print(\"Splitting \",alist)\n",
    "    if len(alist)>1:\n",
    "        mid = len(alist)//2\n",
    "        lefthalf = alist[:mid]\n",
    "        righthalf = alist[mid:]\n",
    "\n",
    "        solution(lefthalf)\n",
    "        solution(righthalf)\n",
    "\n",
    "        i=0\n",
    "        j=0\n",
    "        k=0\n",
    "        left_len = len(lefthalf)\n",
    "        right_len = len(righthalf)\n",
    "        while i < left_len and j < right_len:\n",
    "            if lefthalf[i] <= righthalf[j]:\n",
    "                alist[k]=lefthalf[i]\n",
    "                i=i+1\n",
    "            else:\n",
    "                count += left_len - i\n",
    "                #count += len(lefthalf[i:])\n",
    "                alist[k]=righthalf[j]\n",
    "                j=j+1\n",
    "                \n",
    "            k=k+1\n",
    "\n",
    "        while i < left_len:\n",
    "            alist[k]=lefthalf[i]\n",
    "            i=i+1\n",
    "            k=k+1\n",
    "\n",
    "        while j < right_len:\n",
    "            alist[k]=righthalf[j]\n",
    "            j=j+1\n",
    "            k=k+1\n",
    "    #print(\"Merging \",alist,count)\n",
    "    if count >1e9:\n",
    "        return -1\n",
    "    return count #, alist"
   ]
  },
  {
   "cell_type": "code",
   "execution_count": null,
   "metadata": {
    "collapsed": true
   },
   "outputs": [],
   "source": [
    "import bisect\n",
    "\n",
    "def solution(A):\n",
    "    \"\"\" computes the number of inversions in A, or returns -1 if it exceeds 1,000,000,000\n",
    "    \"\"\"\n",
    "    # the idea is to store elements left of n-th sorted,\n",
    "    # which would allow us to easily find the number of them greater than n-th.\n",
    "    sorted_left = []\n",
    "    res = 0\n",
    "    for i in range(1, len(A)):\n",
    "        bisect.insort_left(sorted_left, A[i-1])\n",
    "        # i is also the length of sorted_left\n",
    "        res += (i - bisect.bisect(sorted_left, A[i]))\n",
    "        if res > 1000000000:\n",
    "            return -1\n",
    "    return res"
   ]
  },
  {
   "cell_type": "code",
   "execution_count": null,
   "metadata": {
    "collapsed": true
   },
   "outputs": [],
   "source": []
  },
  {
   "cell_type": "markdown",
   "metadata": {},
   "source": [
    "## LongestPassword\n",
    "\n",
    "You would like to set a password for a bank account. However, there are three restrictions on the format of the password:\n",
    "\n",
    "it has to contain only alphanumerical characters (a−z, A−Z, 0−9);\n",
    "there should be an even number of letters;\n",
    "there should be an odd number of digits.\n",
    "You are given a string S consisting of N characters. String S can be divided into words by splitting it at, and removing, the spaces. The goal is to choose the longest word that is a valid password. You can assume that if there are K spaces in string S then there are exactly K + 1 words.\n",
    "\n",
    "For example, given \"test 5 a0A pass007 ?xy1\", there are five words and three of them are valid passwords: \"5\", \"a0A\" and \"pass007\". Thus the longest password is \"pass007\" and its length is 7. Note that neither \"test\" nor \"?xy1\" is a valid password, because \"?\" is not an alphanumerical character and \"test\" contains an even number of digits (zero).\n",
    "\n",
    "Write a function:\n",
    "\n",
    "def solution(S)\n",
    "\n",
    "that, given a non-empty string S consisting of N characters, returns the length of the longest word from the string that is a valid password. If there is no such word, your function should return −1.\n",
    "\n",
    "For example, given S = \"test 5 a0A pass007 ?xy1\", your function should return 7, as explained above.\n",
    "\n",
    "Assume that:\n",
    "\n",
    "N is an integer within the range [1..200];\n",
    "string S consists only of printable ASCII characters and spaces.\n",
    "In your solution, focus on correctness. The performance of your solution will not be the focus of the assessment."
   ]
  },
  {
   "cell_type": "code",
   "execution_count": 13,
   "metadata": {
    "collapsed": true
   },
   "outputs": [],
   "source": [
    "def solution(S):\n",
    "    s_list = S.split(' ')\n",
    "    max_len = -1\n",
    "    for s in s_list:\n",
    "        n_total = len(s)\n",
    "        n_digit = len([c for c in s if c.isdigit()])\n",
    "        n_letter = len([c for c in s if c.isalpha()])\n",
    "        n_non_digit_letter = n_total - n_digit - n_letter\n",
    "        \n",
    "        if n_digit%2 == 1 and n_letter%2 == 0 and n_non_digit_letter == 0:\n",
    "            max_len = max(max_len, n_total)\n",
    "            \n",
    "    return max_len        "
   ]
  },
  {
   "cell_type": "code",
   "execution_count": 14,
   "metadata": {},
   "outputs": [
    {
     "data": {
      "text/plain": [
       "7"
      ]
     },
     "execution_count": 14,
     "metadata": {},
     "output_type": "execute_result"
    }
   ],
   "source": [
    "S = \"test 5 a0A pass007 ?xy1\"\n",
    "solution(S)"
   ]
  },
  {
   "cell_type": "code",
   "execution_count": 16,
   "metadata": {},
   "outputs": [
    {
     "data": {
      "text/plain": [
       "-1"
      ]
     },
     "execution_count": 16,
     "metadata": {},
     "output_type": "execute_result"
    }
   ],
   "source": [
    "S = \"a\"\n",
    "solution(S)"
   ]
  },
  {
   "cell_type": "code",
   "execution_count": null,
   "metadata": {
    "collapsed": true
   },
   "outputs": [],
   "source": []
  },
  {
   "cell_type": "markdown",
   "metadata": {},
   "source": [
    "## FloodDepth\n",
    "\n"
   ]
  },
  {
   "cell_type": "code",
   "execution_count": null,
   "metadata": {
    "collapsed": true
   },
   "outputs": [],
   "source": []
  },
  {
   "cell_type": "code",
   "execution_count": null,
   "metadata": {
    "collapsed": true
   },
   "outputs": [],
   "source": []
  },
  {
   "cell_type": "code",
   "execution_count": null,
   "metadata": {
    "collapsed": true
   },
   "outputs": [],
   "source": []
  }
 ],
 "metadata": {
  "kernelspec": {
   "display_name": "Python 3",
   "language": "python",
   "name": "python3"
  },
  "language_info": {
   "codemirror_mode": {
    "name": "ipython",
    "version": 3
   },
   "file_extension": ".py",
   "mimetype": "text/x-python",
   "name": "python",
   "nbconvert_exporter": "python",
   "pygments_lexer": "ipython3",
   "version": "3.6.1"
  }
 },
 "nbformat": 4,
 "nbformat_minor": 2
}
