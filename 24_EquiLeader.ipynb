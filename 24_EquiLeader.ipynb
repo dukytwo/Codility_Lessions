{
 "cells": [
  {
   "cell_type": "code",
   "execution_count": null,
   "metadata": {
    "collapsed": true
   },
   "outputs": [],
   "source": [
    "def find_leader_and_count(A):\n",
    "    N = len(A)\n",
    "    stack_size = 0\n",
    "    top_value = 0\n",
    "    \n",
    "    for i in range(N):\n",
    "        if stack_size == 0:\n",
    "            stack_size +=1\n",
    "            top_value = A[i]\n",
    "        else:\n",
    "            if top_value == A[i]:\n",
    "                stack_size +=1\n",
    "            else:\n",
    "                stack_size -=1\n",
    "        \n",
    "    if stack_size > 0:\n",
    "        candidate = top_value\n",
    "    else:\n",
    "        return -1, -1\n",
    "    \n",
    "    count = 0\n",
    "    for i in range(N):\n",
    "        if A[i] == candidate:\n",
    "            count += 1\n",
    "            \n",
    "    if count > N/2.0:\n",
    "        return top_value, count\n",
    "    else:\n",
    "        return -1, -1"
   ]
  },
  {
   "cell_type": "code",
   "execution_count": null,
   "metadata": {
    "collapsed": true
   },
   "outputs": [],
   "source": [
    "def solution(A):\n",
    "    leader, count = find_leader_and_count(A)\n",
    "    \n",
    "    if count == -1:\n",
    "        return 0\n",
    "    \n",
    "    N = len(A)\n",
    "    leader_number_A1 = 0\n",
    "    el_counter = 0\n",
    "     \n",
    "    for i in range(N):        \n",
    "        if A[i] == leader:\n",
    "            leader_number_A1 += 1\n",
    "        leader_number_A2 = count - leader_number_A1\n",
    "            \n",
    "        if leader_number_A1 > (i+1)//2 and leader_number_A2 > (N-i-1)//2:\n",
    "            el_counter += 1\n",
    "           \n",
    "    return  el_counter    "
   ]
  }
 ],
 "metadata": {
  "kernelspec": {
   "display_name": "Python 3",
   "language": "python",
   "name": "python3"
  },
  "language_info": {
   "codemirror_mode": {
    "name": "ipython",
    "version": 3
   },
   "file_extension": ".py",
   "mimetype": "text/x-python",
   "name": "python",
   "nbconvert_exporter": "python",
   "pygments_lexer": "ipython3",
   "version": "3.6.1"
  }
 },
 "nbformat": 4,
 "nbformat_minor": 2
}
