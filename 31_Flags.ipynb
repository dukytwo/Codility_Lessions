{
 "cells": [
  {
   "cell_type": "code",
   "execution_count": null,
   "metadata": {
    "collapsed": true
   },
   "outputs": [],
   "source": [
    "def find_peaks(A):\n",
    "    N = len(A)\n",
    "    peaks = [0] * N\n",
    "    #peaks[0] = 0\n",
    "    for i in range(1,N-1):\n",
    "        if A[i-1] < A[i] and  A[i] > A[i+1]:\n",
    "            peaks[i] = 1\n",
    "    return peaks\n",
    "\n",
    "def find_skip_to(peaks):\n",
    "    N = len(peaks)\n",
    "    skip_to = [0] * N\n",
    "    \n",
    "    skip_to[N-1] = -1\n",
    "    \n",
    "    for i in range(N-2, -1, -1):\n",
    "        if peaks[i] == 1:\n",
    "            skip_to[i] = i\n",
    "        else:\n",
    "            skip_to[i] = skip_to[i+1]\n",
    "        \n",
    "    return skip_to\n",
    "\n",
    "def solution(A):\n",
    "    N = len(A)\n",
    "    if N<3:\n",
    "        return 0\n",
    "    \n",
    "    max_n_flags = int(N**0.5) + 1\n",
    "    \n",
    "    peaks = find_peaks(A)\n",
    "    skip_to = find_skip_to(peaks)\n",
    "\n",
    "    result = 0\n",
    "    \n",
    "    for i in range(max_n_flags, 0, -1):\n",
    "        \n",
    "        distance_between_flag = i\n",
    "        current_flag_pos = -i\n",
    "        current_flag_n = 0\n",
    "        \n",
    "        for j in range(i):  \n",
    "            current_flag_pos = skip_to[current_flag_pos+distance_between_flag] \n",
    "            #check if current position already in non-peak area\n",
    "            if current_flag_pos == -1:\n",
    "                break\n",
    "            current_flag_n += 1\n",
    "            #check next round \n",
    "            if current_flag_pos+distance_between_flag > N-2:\n",
    "                break\n",
    "                \n",
    "        if current_flag_n >= i:\n",
    "            result = i\n",
    "            break\n",
    "        \n",
    "    return result"
   ]
  }
 ],
 "metadata": {
  "kernelspec": {
   "display_name": "Python 3",
   "language": "python",
   "name": "python3"
  },
  "language_info": {
   "codemirror_mode": {
    "name": "ipython",
    "version": 3
   },
   "file_extension": ".py",
   "mimetype": "text/x-python",
   "name": "python",
   "nbconvert_exporter": "python",
   "pygments_lexer": "ipython3",
   "version": "3.6.1"
  }
 },
 "nbformat": 4,
 "nbformat_minor": 2
}
