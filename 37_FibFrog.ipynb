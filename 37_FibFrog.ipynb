{
 "cells": [
  {
   "cell_type": "code",
   "execution_count": null,
   "metadata": {
    "collapsed": true
   },
   "outputs": [],
   "source": [
    "def fibonacciDynamic_to_N(N):\n",
    "    fib = [0,1]\n",
    "    for i in range(2, N+1):\n",
    "        fib_next = fib[i-1] + fib[i-2] \n",
    "        if fib_next > N:\n",
    "            break\n",
    "        else:\n",
    "            fib.append(fib_next)\n",
    "    return fib"
   ]
  },
  {
   "cell_type": "code",
   "execution_count": null,
   "metadata": {
    "collapsed": true
   },
   "outputs": [],
   "source": [
    "def fibonacciDynamic_to_N(N):\n",
    "    fib = [0,1]\n",
    "    for i in range(2, N+1):\n",
    "        fib_next = fib[i-1] + fib[i-2] \n",
    "        if fib_next > N:\n",
    "            break\n",
    "        else:\n",
    "            fib.append(fib_next)\n",
    "    return fib\n",
    "\n",
    "def solution(A):\n",
    "    N = len(A)\n",
    "    \n",
    "    if N == 0:\n",
    "        return 1\n",
    "    \n",
    "    A.append(1)\n",
    "    \n",
    "    fib = fibonacciDynamic_to_N(N+2)[2:]\n",
    "    n_fib = len(fib)\n",
    "    #print(fib)\n",
    "    \n",
    "    min_jump = [N+1]*(N+1)\n",
    "    #print(min_jump)\n",
    "    for i in range(N+1):\n",
    "        if A[i] != 0:\n",
    "            j = 0\n",
    "            while (j < n_fib and i - fib[j] >= -1):\n",
    "                #print(i - fib[j])\n",
    "                if i - fib[j] == -1:\n",
    "                    min_jump[i] = 1\n",
    "                elif A[i - fib[j]] == 1:\n",
    "                    min_jump[i] = min(min_jump[i], min_jump[i - fib[j]]+1)\n",
    "                #print(i, j, min_jump) \n",
    "                j +=1\n",
    "                 \n",
    "            if min_jump[i] == N+1:\n",
    "                A[i] = 0\n",
    "        #print(A, min_jump)\n",
    "    if min_jump[-1] == N+1:\n",
    "        return -1\n",
    "    else:\n",
    "        return min_jump[-1]"
   ]
  }
 ],
 "metadata": {
  "kernelspec": {
   "display_name": "Python 3",
   "language": "python",
   "name": "python3"
  },
  "language_info": {
   "codemirror_mode": {
    "name": "ipython",
    "version": 3
   },
   "file_extension": ".py",
   "mimetype": "text/x-python",
   "name": "python",
   "nbconvert_exporter": "python",
   "pygments_lexer": "ipython3",
   "version": "3.6.1"
  }
 },
 "nbformat": 4,
 "nbformat_minor": 2
}
