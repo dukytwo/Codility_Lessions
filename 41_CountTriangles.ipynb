{
 "cells": [
  {
   "cell_type": "code",
   "execution_count": null,
   "metadata": {
    "collapsed": true
   },
   "outputs": [],
   "source": [
    "def solution(A):\n",
    "    n = len(A)\n",
    "    n_tri = 0\n",
    "    A.sort()\n",
    "    for x in range(n):\n",
    "        z= x + 2\n",
    "        for y in range(x+1, n):\n",
    "            while (z < n and A[x] + A[y] > A[z]):\n",
    "                z += 1\n",
    "                n_tri += z - y - 1\n",
    "    return n_tri"
   ]
  }
 ],
 "metadata": {
  "kernelspec": {
   "display_name": "Python 3",
   "language": "python",
   "name": "python3"
  },
  "language_info": {
   "codemirror_mode": {
    "name": "ipython",
    "version": 3
   },
   "file_extension": ".py",
   "mimetype": "text/x-python",
   "name": "python",
   "nbconvert_exporter": "python",
   "pygments_lexer": "ipython3",
   "version": "3.6.1"
  }
 },
 "nbformat": 4,
 "nbformat_minor": 2
}
