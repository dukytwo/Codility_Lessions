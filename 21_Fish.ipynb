{
 "cells": [
  {
   "cell_type": "code",
   "execution_count": null,
   "metadata": {
    "collapsed": true
   },
   "outputs": [],
   "source": [
    "def solution(A, B):\n",
    "    N = len (A)\n",
    "    stack_dir = [0] * N\n",
    "    stack_size = [0] * N\n",
    "    stack_n = 0\n",
    "    \n",
    "    for i in range (N):\n",
    "        while stack_n > 0 and B[i] < stack_dir[stack_n-1] and A[i] > stack_size[stack_n-1]:\n",
    "            stack_n -= 1\n",
    "        \n",
    "        if stack_n > 0 and B[i] < stack_dir[stack_n-1] and A[i] < stack_size[stack_n-1]:\n",
    "            pass\n",
    "        \n",
    "        else:\n",
    "            stack_n +=1\n",
    "            stack_dir[stack_n-1] = B[i]\n",
    "            stack_size[stack_n-1] = A[i]\n",
    "            \n",
    "    return stack_n"
   ]
  }
 ],
 "metadata": {
  "kernelspec": {
   "display_name": "Python 3",
   "language": "python",
   "name": "python3"
  },
  "language_info": {
   "codemirror_mode": {
    "name": "ipython",
    "version": 3
   },
   "file_extension": ".py",
   "mimetype": "text/x-python",
   "name": "python",
   "nbconvert_exporter": "python",
   "pygments_lexer": "ipython3",
   "version": "3.6.1"
  }
 },
 "nbformat": 4,
 "nbformat_minor": 2
}
