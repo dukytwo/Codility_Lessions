{
 "cells": [
  {
   "cell_type": "code",
   "execution_count": null,
   "metadata": {
    "collapsed": true
   },
   "outputs": [],
   "source": [
    "def solution(A):\n",
    "    n = len(A)\n",
    "    A.sort()\n",
    "    \n",
    "    start = 0\n",
    "    end = n-1\n",
    "    min_abs = 2*max([abs(a) for a in A])\n",
    "    \n",
    "    while (start <= end):\n",
    "        current_sum =  A[start] + A[end]\n",
    "        if current_sum > 0:\n",
    "            min_abs = min(min_abs, abs(current_sum))\n",
    "            end -= 1\n",
    "        elif current_sum < 0:\n",
    "            min_abs = min(min_abs, abs(current_sum))\n",
    "            start += 1\n",
    "        else:\n",
    "            return 0\n",
    "        \n",
    "    return min_abs"
   ]
  }
 ],
 "metadata": {
  "kernelspec": {
   "display_name": "Python 3",
   "language": "python",
   "name": "python3"
  },
  "language_info": {
   "codemirror_mode": {
    "name": "ipython",
    "version": 3
   },
   "file_extension": ".py",
   "mimetype": "text/x-python",
   "name": "python",
   "nbconvert_exporter": "python",
   "pygments_lexer": "ipython3",
   "version": "3.6.1"
  }
 },
 "nbformat": 4,
 "nbformat_minor": 2
}
