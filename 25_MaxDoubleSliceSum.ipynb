{
 "cells": [
  {
   "cell_type": "code",
   "execution_count": null,
   "metadata": {
    "collapsed": true
   },
   "outputs": [],
   "source": [
    "def solution(A):\n",
    "    N = len(A)\n",
    "    \n",
    "    if N < 4:\n",
    "        return 0 \n",
    "    \n",
    "    max_sum_at_ending_forward = [0] * N\n",
    "    max_sum_at_ending_reverse = [0] * N\n",
    "    \n",
    "    A_reverse = list(reversed(A))\n",
    "    \n",
    "    max_sum_at_ending = 0\n",
    "    for i in range(1,N):\n",
    "        max_sum_at_ending = max(0, max_sum_at_ending + A[i])\n",
    "        max_sum_at_ending_forward[i] = max_sum_at_ending\n",
    "        \n",
    "    max_sum_at_ending = 0\n",
    "    for i in range(1,N):\n",
    "        max_sum_at_ending = max(0, max_sum_at_ending + A_reverse[i])\n",
    "        max_sum_at_ending_reverse[i] = max_sum_at_ending\n",
    "    \n",
    "    max_sum_all_double_slices = 0\n",
    "    for i in range(1, N-1):\n",
    "        max_sum_all_double_slices = max(max_sum_all_double_slices, max_sum_at_ending_forward[i-1] + \n",
    "                                       max_sum_at_ending_reverse[N-2-i])\n",
    "        \n",
    "    return max_sum_all_double_slices"
   ]
  }
 ],
 "metadata": {
  "kernelspec": {
   "display_name": "Python 3",
   "language": "python",
   "name": "python3"
  },
  "language_info": {
   "codemirror_mode": {
    "name": "ipython",
    "version": 3
   },
   "file_extension": ".py",
   "mimetype": "text/x-python",
   "name": "python",
   "nbconvert_exporter": "python",
   "pygments_lexer": "ipython3",
   "version": "3.6.1"
  }
 },
 "nbformat": 4,
 "nbformat_minor": 2
}
