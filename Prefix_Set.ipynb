{
 "cells": [
  {
   "cell_type": "code",
   "execution_count": null,
   "metadata": {
    "collapsed": true
   },
   "outputs": [],
   "source": [
    "def solution(A):\n",
    "    max_value = max(A)\n",
    "    \n",
    "    unique_list = [0] * (max_value + 1) \n",
    "    \n",
    "    count_list = []\n",
    "    for i in A:\n",
    "        if unique_list[i] == 1:\n",
    "            count_list.append(1)            \n",
    "        else:\n",
    "            count_list.append(0)\n",
    "        unique_list[i] = 1\n",
    "        \n",
    "        \n",
    "    return len(count_list) - list(reversed(count_list)).index(0) -1"
   ]
  }
 ],
 "metadata": {
  "kernelspec": {
   "display_name": "Python 3",
   "language": "python",
   "name": "python3"
  },
  "language_info": {
   "codemirror_mode": {
    "name": "ipython",
    "version": 3
   },
   "file_extension": ".py",
   "mimetype": "text/x-python",
   "name": "python",
   "nbconvert_exporter": "python",
   "pygments_lexer": "ipython3",
   "version": "3.6.1"
  }
 },
 "nbformat": 4,
 "nbformat_minor": 2
}
