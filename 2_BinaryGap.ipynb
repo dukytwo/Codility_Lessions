{
 "cells": [
  {
   "cell_type": "code",
   "execution_count": null,
   "metadata": {
    "collapsed": true
   },
   "outputs": [],
   "source": [
    "def solution(N):\n",
    "    binary_gap = 0\n",
    "    bin_str_list = list(bin(N))[2:]\n",
    "    one_indices = [i for i, x in enumerate(bin_str_list) if x == \"1\"]\n",
    "    if len(one_indices) == 1:\n",
    "        return binary_gap\n",
    "        \n",
    "    binary_gap_list = []\n",
    "    for i in range(len(one_indices)-1):\n",
    "        binary_gap = one_indices[i+1] - one_indices[i] -1\n",
    "        binary_gap_list += [binary_gap]\n",
    "                \n",
    "    return max(binary_gap_list)"
   ]
  }
 ],
 "metadata": {
  "kernelspec": {
   "display_name": "Python 3",
   "language": "python",
   "name": "python3"
  },
  "language_info": {
   "codemirror_mode": {
    "name": "ipython",
    "version": 3
   },
   "file_extension": ".py",
   "mimetype": "text/x-python",
   "name": "python",
   "nbconvert_exporter": "python",
   "pygments_lexer": "ipython3",
   "version": "3.6.1"
  }
 },
 "nbformat": 4,
 "nbformat_minor": 2
}
