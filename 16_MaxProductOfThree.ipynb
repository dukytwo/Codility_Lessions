{
 "cells": [
  {
   "cell_type": "code",
   "execution_count": null,
   "metadata": {
    "collapsed": true
   },
   "outputs": [],
   "source": [
    "def solution(A):\n",
    "    A.sort()\n",
    "    N = len(A)\n",
    "    if N > 6:\n",
    "        num_for_prod = A[:3]\n",
    "        num_for_prod.extend(A[-3:])\n",
    "    else:\n",
    "        num_for_prod = A\n",
    "    print (num_for_prod) \n",
    "    max_product = num_for_prod[0] * num_for_prod[1] * num_for_prod[2]\n",
    "    M = len(num_for_prod)\n",
    "    for i in range(M):\n",
    "        for j in range(i+1, M):\n",
    "            for k in range(j+1, M):\n",
    "                product = num_for_prod[i] * num_for_prod[j] * num_for_prod[k]\n",
    "                if product > max_product:\n",
    "                    max_product = product\n",
    "    return max_product "
   ]
  }
 ],
 "metadata": {
  "kernelspec": {
   "display_name": "Python 3",
   "language": "python",
   "name": "python3"
  },
  "language_info": {
   "codemirror_mode": {
    "name": "ipython",
    "version": 3
   },
   "file_extension": ".py",
   "mimetype": "text/x-python",
   "name": "python",
   "nbconvert_exporter": "python",
   "pygments_lexer": "ipython3",
   "version": "3.6.1"
  }
 },
 "nbformat": 4,
 "nbformat_minor": 2
}
